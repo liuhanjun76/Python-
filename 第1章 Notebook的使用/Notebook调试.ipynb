{
 "cells": [
  {
   "cell_type": "markdown",
   "metadata": {},
   "source": [
    "* 版权及免责声明：  \n",
    ">1. ©2020 [海南佳达科技有限公司](https://www.jiadakeji.cn)\n",
    ">2. 本教程部分文字与图片来源于网络，如有侵犯您的版权，请及时通知我们，我们会尽快获得您的授权或马上删除。\n",
    ">3. 本教程原创部分，未经书面授权，**禁止复制、转载和传播**，一经发现，违法必究！"
   ]
  },
  {
   "cell_type": "markdown",
   "metadata": {
    "toc": true
   },
   "source": [
    "<h1>目录<span class=\"tocSkip\"></span></h1>\n",
    "<div class=\"toc\"><ul class=\"toc-item\"><li><span><a href=\"#演示代码\" data-toc-modified-id=\"演示代码-1\"><span class=\"toc-item-num\">1&nbsp;&nbsp;</span>演示代码</a></span></li><li><span><a href=\"#一个混乱的程序\" data-toc-modified-id=\"一个混乱的程序-2\"><span class=\"toc-item-num\">2&nbsp;&nbsp;</span>一个混乱的程序</a></span></li><li><span><a href=\"#pdb来了\" data-toc-modified-id=\"pdb来了-3\"><span class=\"toc-item-num\">3&nbsp;&nbsp;</span>pdb来了</a></span></li><li><span><a href=\"#下一行--->-n\" data-toc-modified-id=\"下一行--->-n-4\"><span class=\"toc-item-num\">4&nbsp;&nbsp;</span>下一行 - &gt; n</a></span></li><li><span><a href=\"#打印--->-p\" data-toc-modified-id=\"打印--->-p-5\"><span class=\"toc-item-num\">5&nbsp;&nbsp;</span>打印 - &gt; p</a></span></li><li><span><a href=\"#动态添加断点--->-b\" data-toc-modified-id=\"动态添加断点--->-b-6\"><span class=\"toc-item-num\">6&nbsp;&nbsp;</span>动态添加断点 - &gt; b</a></span></li><li><span><a href=\"#动态分配变量\" data-toc-modified-id=\"动态分配变量-7\"><span class=\"toc-item-num\">7&nbsp;&nbsp;</span>动态分配变量</a></span></li><li><span><a href=\"#退出--->-q\" data-toc-modified-id=\"退出--->-q-8\"><span class=\"toc-item-num\">8&nbsp;&nbsp;</span>退出 - &gt; q</a></span></li><li><span><a href=\"#其他\" data-toc-modified-id=\"其他-9\"><span class=\"toc-item-num\">9&nbsp;&nbsp;</span>其他</a></span></li></ul></div>"
   ]
  },
  {
   "cell_type": "markdown",
   "metadata": {},
   "source": [
    "# 演示代码\n",
    "Python自带一个调试器, 在Python 3.7之后甚至成为内置调试器. 这就是PDB. 这是使用Python的用户需要掌握的基本技能. \n",
    "\n",
    "下面我们看一下基本演示:\n",
    "\n",
    "对应代码如下, 大家可以运行起来试一下. \n",
    "\n"
   ]
  },
  {
   "cell_type": "code",
   "execution_count": 1,
   "metadata": {
    "ExecuteTime": {
     "end_time": "2020-06-02T06:17:30.029331Z",
     "start_time": "2020-06-02T06:17:04.373223Z"
    },
    "jupyter": {
     "outputs_hidden": false
    }
   },
   "outputs": [
    {
     "name": "stdout",
     "output_type": "stream",
     "text": [
      "> <ipython-input-1-67178671e11c>(8)start_url()\n",
      "-> for url in urls:\n",
      "(Pdb) c\n",
      "http://www.hnai.net\n",
      "http://www.hnai.net\n",
      "http://www.hnai.net\n",
      "http://www.hnai.net\n",
      "> <ipython-input-1-67178671e11c>(14)parse()\n",
      "-> for url in self.urls:\n",
      "(Pdb) c\n",
      "requesting...\n",
      "requesting...\n",
      "requesting...\n",
      "requesting...\n"
     ]
    }
   ],
   "source": [
    "import pdb\n",
    "\n",
    "class MyScrapy:\n",
    "    urls = []\n",
    "\n",
    "    def start_url(self, urls):\n",
    "        pdb.set_trace()\n",
    "        for url in urls:\n",
    "            print(url)\n",
    "            self.urls.append(url)\n",
    "\n",
    "    def parse(self):\n",
    "        pdb.set_trace()\n",
    "        for url in self.urls:\n",
    "            result = self.request_something(url)\n",
    "\n",
    "    def request_something(self, url):\n",
    "        print('requesting...')\n",
    "\n",
    "\n",
    "scrapy= MyScrapy()\n",
    "scrapy.start_url([\"http://www.hnai.net\", \"http://www.hnai.net\", \"http://www.hnai.net\", \"http://www.hnai.net\", ])\n",
    "scrapy.parse()\n"
   ]
  },
  {
   "cell_type": "markdown",
   "metadata": {},
   "source": [
    "下面是详细使用说明, 主要内容参考 [howchoo](https://howchoo.com/g/zgi2y2iwyze/debugging-your-python-code) \n",
    "\n",
    "Python具有一个整洁的调试功能（像大多数其他语言一样），在这种情况下非常方便。本指南是快速教程，希望能让您的生活更轻松"
   ]
  },
  {
   "cell_type": "markdown",
   "metadata": {},
   "source": [
    "#  一个混乱的程序\n",
    "\n",
    "为了本教程的目的，让我们考虑下面的简单程序。\n",
    "\n",
    "该程序采用两个命令行参数并执行加法和减法操作。\n",
    "\n",
    "（让我们假设用户输入有效值，因此我们不是错误处理）。"
   ]
  },
  {
   "cell_type": "code",
   "execution_count": null,
   "metadata": {
    "ExecuteTime": {
     "end_time": "2020-05-29T06:17:40.111834Z",
     "start_time": "2020-05-29T06:17:40.104266Z"
    },
    "jupyter": {
     "outputs_hidden": false
    }
   },
   "outputs": [],
   "source": [
    "import sys\n",
    "\n",
    "def add(num1=0, num2=0):\n",
    "    return int(num1) + int(num2)\n",
    "\n",
    "def sub(num1=0, num2=0):\n",
    "    return int(num1) - int(num2)\n",
    "\n",
    "def main():\n",
    "    #Assuming our inputs are valid numbers\n",
    "    num1 = 0\n",
    "    num2 = 2\n",
    "    \n",
    "    addition = add(num1, num2)\n",
    "    print (addition)\n",
    "    \n",
    "    subtraction = sub(num1, num2)\n",
    "    print (subtraction)\n",
    "\n",
    "if __name__ == '__main__':\n",
    "    main()"
   ]
  },
  {
   "cell_type": "markdown",
   "metadata": {},
   "source": [
    "# pdb来了\n",
    "Python附带了一个名为pdb的有用模块，它基本上是一个交互式源代码调试器。\n",
    "\n",
    "您需要以下几行来实际使用此模块\n",
    "\n",
    "```\n",
    "import pdb\n",
    "pdb.set_trace()\n",
    "```"
   ]
  },
  {
   "cell_type": "code",
   "execution_count": 9,
   "metadata": {
    "ExecuteTime": {
     "end_time": "2020-05-29T06:33:14.634009Z",
     "start_time": "2020-05-29T06:27:05.804036Z"
    },
    "jupyter": {
     "outputs_hidden": false
    }
   },
   "outputs": [
    {
     "name": "stdout",
     "output_type": "stream",
     "text": [
      "> <ipython-input-9-4a6fb344b2b4>(15)main()\n",
      "-> addition = add(num1, num2)\n",
      "(Pdb) p num1,num2\n",
      "(33, 44)\n",
      "(Pdb) addition=88\n",
      "(Pdb) p addition\n",
      "88\n",
      "(Pdb) c\n",
      "77\n",
      "-11\n"
     ]
    }
   ],
   "source": [
    "import pdb\n",
    "import sys\n",
    "\n",
    "def add(num1=0, num2=0):\n",
    "    return int(num1) + int(num2)\n",
    "    \n",
    "def sub(num1=0, num2=0):\n",
    "    return int(num1) - int(num2)\n",
    "    \n",
    "def main():\n",
    "    #Assuming our inputs are valid numbers\n",
    "    num1 = 33\n",
    "    num2 = 44\n",
    "    pdb.set_trace() # <-- 这个表示添加断点\n",
    "    addition = add(num1, num2)\n",
    "    print (addition)\n",
    "    subtraction = sub(num1, num2)\n",
    "    print (subtraction)\n",
    "    \n",
    "if __name__ == '__main__':\n",
    "    main()\n"
   ]
  },
  {
   "cell_type": "markdown",
   "metadata": {},
   "source": [
    "一旦开始运行, 会出现交互框\n",
    "\n",
    "如下图所示: \n",
    "\n",
    "![](images/pdb_n.png)\n",
    "\n",
    "在这个输入框里敲入命令, 即可开始调试. \n",
    "\n",
    "通常这些命令都是一个字母, 因此毋庸担心. \n"
   ]
  },
  {
   "cell_type": "markdown",
   "metadata": {},
   "source": [
    "# 下一行 - > n\n",
    "\n",
    "在输入框里, 输入n, 可转到下一行\n",
    "\n",
    "\n",
    "这将执行当前代码行，现在可以执行下一行。\n",
    "\n",
    "![](images/pdb_n.png)\n",
    "\n",
    "我们可以使用n逐行遍历整个程序，但这不会非常有用。\n",
    "\n",
    "另外你可能已经注意到pdb实际上没有进入我们的add函数。让我们看看更多选项，使调试更有趣。\n",
    "\n",
    "注意：\n",
    "另一个很酷的功能是点击'返回键'执行你以前的命令（在这种情况下只是n）。"
   ]
  },
  {
   "cell_type": "markdown",
   "metadata": {},
   "source": [
    "# 打印 - > p\n",
    "\n",
    "让我们再次开始调试我们的程序。（你可以点击c使pdb跳到最后或直到下一个断点。由于我们没有任何程序将完成执行）。\n",
    "\n",
    "现在，如果我们想知道num1或num2包含什么，我们可以在输入框里输入：\n",
    "```\n",
    "p num1\n",
    "```\n",
    "\n",
    "如截图所示:\n",
    "\n",
    "![](images/pdb_p.png)\n",
    "\n",
    "回车\n",
    "\n",
    "![](images/pdb_p_out.png)\n",
    "\n",
    "\n",
    "这非常方便查看我们的变量实际存储的值。\n",
    "\n",
    "现在让我们进入添加功能。"
   ]
  },
  {
   "cell_type": "markdown",
   "metadata": {},
   "source": [
    "# 动态添加断点 - > b\n",
    "\n",
    "我们在运行程序之前使用了pdb.set_trace（）来设置断点。\n",
    "\n",
    "我们通常希望在调试会话开始后在程序的特定位置添加断点。\n",
    "\n",
    "这个时候可以考虑输入b. 可以亲自试一下. "
   ]
  },
  {
   "cell_type": "markdown",
   "metadata": {},
   "source": [
    "# 动态分配变量\n",
    "知道在调试会话期间可以分配变量以帮助调试也很有用。考虑：\n",
    "\n",
    "![](images/pdb_var.png)\n",
    "\n",
    "输入后运行\n",
    "\n",
    "![](images/pdb_var_out.png)"
   ]
  },
  {
   "cell_type": "markdown",
   "metadata": {},
   "source": [
    "# 退出 - > q\n",
    "最后，如果你想在任何时候退出，你可以使用q。正在执行的程序被中止。"
   ]
  },
  {
   "cell_type": "markdown",
   "metadata": {},
   "source": [
    "# 其他\n",
    "\n",
    "还有一种更好的方式, 叫ipdb. 用法和PDB很相似. 不过返回的输出是彩色的. \n",
    "* ENTER (重复上次命令)\n",
    "* c (继续)\n",
    "* l (查找当前位于哪里)\n",
    "* s (进入子程序,如果当前有一个函数调用，那么 s 会进入被调用的函数体)\n",
    "* n(ext)  让程序运行下一行，如果当前语句有一个函数调用，用 n 是不会进入被调用的函数体中的\n",
    "* r (运行直到子程序结束)\n",
    "* !<python 命令>\n",
    "* h (帮助)\n",
    "* a(rgs) 打印当前函数的参数\n",
    "* j(ump) 让程序跳转到指定的行数\n",
    "* l(ist) 可以列出当前将要运行的代码块\n",
    "* p(rint) 最有用的命令之一，打印某个变量\n",
    "* q(uit) 退出调试\n",
    "* r(eturn) 继续执行，直到函数体返回\n"
   ]
  },
  {
   "cell_type": "code",
   "execution_count": 14,
   "metadata": {
    "jupyter": {
     "outputs_hidden": false
    }
   },
   "outputs": [],
   "source": [
    "#如发现环境中未安装, 可以运行下方代码来安装ipdb\n",
    "\n",
    "!pip install ipdb"
   ]
  }
 ],
 "metadata": {
  "kernelspec": {
   "display_name": "Python 3",
   "language": "python",
   "name": "python3"
  },
  "language_info": {
   "codemirror_mode": {
    "name": "ipython",
    "version": 3
   },
   "file_extension": ".py",
   "mimetype": "text/x-python",
   "name": "python",
   "nbconvert_exporter": "python",
   "pygments_lexer": "ipython3",
   "version": "3.8.2"
  },
  "toc": {
   "base_numbering": 1,
   "nav_menu": {
    "height": "160px",
    "width": "160px"
   },
   "number_sections": true,
   "sideBar": true,
   "skip_h1_title": false,
   "title_cell": "目录",
   "title_sidebar": "目录",
   "toc_cell": true,
   "toc_position": {},
   "toc_section_display": true,
   "toc_window_display": true
  },
  "varInspector": {
   "cols": {
    "lenName": 16,
    "lenType": 16,
    "lenVar": 40
   },
   "kernels_config": {
    "python": {
     "delete_cmd_postfix": "",
     "delete_cmd_prefix": "del ",
     "library": "var_list.py",
     "varRefreshCmd": "print(var_dic_list())"
    },
    "r": {
     "delete_cmd_postfix": ") ",
     "delete_cmd_prefix": "rm(",
     "library": "var_list.r",
     "varRefreshCmd": "cat(var_dic_list()) "
    }
   },
   "types_to_exclude": [
    "module",
    "function",
    "builtin_function_or_method",
    "instance",
    "_Feature"
   ],
   "window_display": false
  }
 },
 "nbformat": 4,
 "nbformat_minor": 4
}
