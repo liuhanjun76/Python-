{
 "cells": [
  {
   "cell_type": "markdown",
   "metadata": {
    "toc": true
   },
   "source": [
    "<h1>目录<span class=\"tocSkip\"></span></h1>\n",
    "<div class=\"toc\"><ul class=\"toc-item\"><li><span><a href=\"#列表简介\" data-toc-modified-id=\"列表简介-1\"><span class=\"toc-item-num\">1&nbsp;&nbsp;</span>列表简介</a></span><ul class=\"toc-item\"><li><span><a href=\"#列表是什么\" data-toc-modified-id=\"列表是什么-1.1\"><span class=\"toc-item-num\">1.1&nbsp;&nbsp;</span>列表是什么</a></span><ul class=\"toc-item\"><li><span><a href=\"#访问列表元素\" data-toc-modified-id=\"访问列表元素-1.1.1\"><span class=\"toc-item-num\">1.1.1&nbsp;&nbsp;</span>访问列表元素</a></span></li><li><span><a href=\"#索引从0而不是1开始\" data-toc-modified-id=\"索引从0而不是1开始-1.1.2\"><span class=\"toc-item-num\">1.1.2&nbsp;&nbsp;</span>索引从0而不是1开始</a></span></li><li><span><a href=\"#使用列表中的各个值\" data-toc-modified-id=\"使用列表中的各个值-1.1.3\"><span class=\"toc-item-num\">1.1.3&nbsp;&nbsp;</span>使用列表中的各个值</a></span></li><li><span><a href=\"#动手试一试\" data-toc-modified-id=\"动手试一试-1.1.4\"><span class=\"toc-item-num\">1.1.4&nbsp;&nbsp;</span>动手试一试</a></span></li></ul></li><li><span><a href=\"#修改、添加和删除元素\" data-toc-modified-id=\"修改、添加和删除元素-1.2\"><span class=\"toc-item-num\">1.2&nbsp;&nbsp;</span>修改、添加和删除元素</a></span><ul class=\"toc-item\"><li><span><a href=\"#修改列表元素\" data-toc-modified-id=\"修改列表元素-1.2.1\"><span class=\"toc-item-num\">1.2.1&nbsp;&nbsp;</span>修改列表元素</a></span></li><li><span><a href=\"#在列表中添加元素\" data-toc-modified-id=\"在列表中添加元素-1.2.2\"><span class=\"toc-item-num\">1.2.2&nbsp;&nbsp;</span>在列表中添加元素</a></span><ul class=\"toc-item\"><li><span><a href=\"#在列表末尾添加元素\" data-toc-modified-id=\"在列表末尾添加元素-1.2.2.1\"><span class=\"toc-item-num\">1.2.2.1&nbsp;&nbsp;</span>在列表末尾添加元素</a></span></li><li><span><a href=\"#在列表中插入元素\" data-toc-modified-id=\"在列表中插入元素-1.2.2.2\"><span class=\"toc-item-num\">1.2.2.2&nbsp;&nbsp;</span>在列表中插入元素</a></span></li></ul></li><li><span><a href=\"#从列表中删除元素\" data-toc-modified-id=\"从列表中删除元素-1.2.3\"><span class=\"toc-item-num\">1.2.3&nbsp;&nbsp;</span>从列表中删除元素</a></span><ul class=\"toc-item\"><li><span><a href=\"#使用del-语句删除元素\" data-toc-modified-id=\"使用del-语句删除元素-1.2.3.1\"><span class=\"toc-item-num\">1.2.3.1&nbsp;&nbsp;</span>使用del 语句删除元素</a></span></li><li><span><a href=\"#使用方法pop()-删除元素\" data-toc-modified-id=\"使用方法pop()-删除元素-1.2.3.2\"><span class=\"toc-item-num\">1.2.3.2&nbsp;&nbsp;</span>使用方法pop() 删除元素</a></span></li><li><span><a href=\"#弹出列表中任何位置处的元素\" data-toc-modified-id=\"弹出列表中任何位置处的元素-1.2.3.3\"><span class=\"toc-item-num\">1.2.3.3&nbsp;&nbsp;</span>弹出列表中任何位置处的元素</a></span></li><li><span><a href=\"#根据值删除元素\" data-toc-modified-id=\"根据值删除元素-1.2.3.4\"><span class=\"toc-item-num\">1.2.3.4&nbsp;&nbsp;</span>根据值删除元素</a></span></li></ul></li><li><span><a href=\"#动手试一试\" data-toc-modified-id=\"动手试一试-1.2.4\"><span class=\"toc-item-num\">1.2.4&nbsp;&nbsp;</span>动手试一试</a></span></li></ul></li><li><span><a href=\"#组织列表\" data-toc-modified-id=\"组织列表-1.3\"><span class=\"toc-item-num\">1.3&nbsp;&nbsp;</span>组织列表</a></span><ul class=\"toc-item\"><li><span><a href=\"#使用方法sort()-对列表进行永久性排序\" data-toc-modified-id=\"使用方法sort()-对列表进行永久性排序-1.3.1\"><span class=\"toc-item-num\">1.3.1&nbsp;&nbsp;</span>使用方法sort() 对列表进行永久性排序</a></span></li><li><span><a href=\"#使用函数sorted()-对列表进行临时排序\" data-toc-modified-id=\"使用函数sorted()-对列表进行临时排序-1.3.2\"><span class=\"toc-item-num\">1.3.2&nbsp;&nbsp;</span>使用函数sorted() 对列表进行临时排序</a></span></li><li><span><a href=\"#倒着打印列表\" data-toc-modified-id=\"倒着打印列表-1.3.3\"><span class=\"toc-item-num\">1.3.3&nbsp;&nbsp;</span>倒着打印列表</a></span></li><li><span><a href=\"#确定列表的长度\" data-toc-modified-id=\"确定列表的长度-1.3.4\"><span class=\"toc-item-num\">1.3.4&nbsp;&nbsp;</span>确定列表的长度</a></span></li><li><span><a href=\"#动手试一试\" data-toc-modified-id=\"动手试一试-1.3.5\"><span class=\"toc-item-num\">1.3.5&nbsp;&nbsp;</span>动手试一试</a></span></li></ul></li><li><span><a href=\"#使用列表时避免索引错误\" data-toc-modified-id=\"使用列表时避免索引错误-1.4\"><span class=\"toc-item-num\">1.4&nbsp;&nbsp;</span>使用列表时避免索引错误</a></span><ul class=\"toc-item\"><li><span><a href=\"#动手试一试\" data-toc-modified-id=\"动手试一试-1.4.1\"><span class=\"toc-item-num\">1.4.1&nbsp;&nbsp;</span>动手试一试</a></span></li></ul></li></ul></li></ul></div>"
   ]
  },
  {
   "cell_type": "markdown",
   "metadata": {},
   "source": [
    "# 列表简介\n",
    "在本章和下一章中，你将学习列表是什么以及如何使用列表元素。列表让你能够在一个地方存储成组的信息，其中可以只包含几个元素，也可以包含数百万个元素。 列表是新手可直接使用的最强大的Python功能之一，它融合了众多重要的编程概念。"
   ]
  },
  {
   "cell_type": "markdown",
   "metadata": {},
   "source": [
    "## 列表是什么\n",
    "**列表** 由一系列按特定顺序排列的元素组成。你可以创建包含字母表中所有字母、数字0~9或所有家庭成员姓名的列表;也可以将任何东西加入列表中，其中的元素之间可以没有任何关系。鉴于列表通常包含多个元素，给列表指定一个表示复数的名称(如letters 、digits 或names )是个不错的主意。  \n",
    "\n",
    "在Python中，用方括号 `[ ]` 来表示列表，并用逗号来分隔其中的元素。下面是一个简单的列表示例，这个列表包含几种自行车:"
   ]
  },
  {
   "cell_type": "code",
   "execution_count": 2,
   "metadata": {
    "ExecuteTime": {
     "end_time": "2020-06-27T09:28:40.716871Z",
     "start_time": "2020-06-27T09:28:40.708924Z"
    }
   },
   "outputs": [
    {
     "name": "stdout",
     "output_type": "stream",
     "text": [
      "['trek', 'cannondale', 'redline', 'specialized']\n"
     ]
    }
   ],
   "source": [
    "bicycles = ['trek', 'cannondale', 'redline', 'specialized'] \n",
    "print(bicycles)"
   ]
  },
  {
   "cell_type": "markdown",
   "metadata": {},
   "source": [
    "如果你让Python将列表打印出来，Python将打印列表的内部表示，包括方括号:  \n",
    "`['trek', 'cannondale', 'redline', 'specialized']`  \n",
    "鉴于这不是你要让用户看到的输出，下面来学习如何访问列表元素。"
   ]
  },
  {
   "cell_type": "markdown",
   "metadata": {},
   "source": [
    "### 访问列表元素\n",
    "列表是有序集合，因此要访问列表的任何元素，只需将该元素的位置或索引告诉Python即可。要访问列表元素，可指出列表的名称，再指出元素的索引，并将其放在方括号内。 例如，下面的代码从列表bicycles 中提取第一款自行车:"
   ]
  },
  {
   "cell_type": "code",
   "execution_count": 3,
   "metadata": {
    "ExecuteTime": {
     "end_time": "2020-06-27T09:30:19.067559Z",
     "start_time": "2020-06-27T09:30:19.056143Z"
    }
   },
   "outputs": [
    {
     "name": "stdout",
     "output_type": "stream",
     "text": [
      "trek\n"
     ]
    }
   ],
   "source": [
    "bicycles = ['trek', 'cannondale', 'redline', 'specialized'] \n",
    "print(bicycles[0])"
   ]
  },
  {
   "cell_type": "markdown",
   "metadata": {},
   "source": [
    "当你请求获取列表元素时，Python只返回该元素，而不包括方括号和引号:  \n",
    "`trek`  \n",
    "这正是你要让用户看到的结果——整洁、干净的输出。 你还可以对任何列表元素调用第2章介绍的字符串方法。例如，可使用方法`title()` 让元素'trek' 的格式更整洁:"
   ]
  },
  {
   "cell_type": "code",
   "execution_count": 4,
   "metadata": {
    "ExecuteTime": {
     "end_time": "2020-06-27T09:31:26.357274Z",
     "start_time": "2020-06-27T09:31:26.350071Z"
    }
   },
   "outputs": [
    {
     "name": "stdout",
     "output_type": "stream",
     "text": [
      "Trek\n"
     ]
    }
   ],
   "source": [
    "bicycles = ['trek', 'cannondale', 'redline', 'specialized'] \n",
    "print(bicycles[0].title())"
   ]
  },
  {
   "cell_type": "markdown",
   "metadata": {},
   "source": [
    "### 索引从0而不是1开始\n",
    "在Python中，第一个列表元素的索引为0，而不是1。在大多数编程语言中都是如此，这与列表操作的底层实现相关。如果结果出乎意料，请看看你是否犯了简单的差一错误。   \n",
    "第二个列表元素的索引为1。根据这种简单的计数方式，要访问列表的任何元素，都可将其位置减1，并将结果作为索引。例如，要访问第四个列表元素，可使用索引3。   \n",
    "下面的代码访问索引1 和3 处的自行车:"
   ]
  },
  {
   "cell_type": "code",
   "execution_count": 5,
   "metadata": {
    "ExecuteTime": {
     "end_time": "2020-06-27T09:33:06.254342Z",
     "start_time": "2020-06-27T09:33:06.247150Z"
    }
   },
   "outputs": [
    {
     "name": "stdout",
     "output_type": "stream",
     "text": [
      "cannondale\n",
      "specialized\n"
     ]
    }
   ],
   "source": [
    "bicycles = ['trek', 'cannondale', 'redline', 'specialized'] \n",
    "print(bicycles[1])\n",
    "print(bicycles[3])"
   ]
  },
  {
   "cell_type": "markdown",
   "metadata": {},
   "source": [
    "这些代码返回列表中的第二个和第四个元素:  \n",
    "```\n",
    "cannondale \n",
    "specialized\n",
    "```\n",
    "Python为访问最后一个列表元素提供了一种特殊语法。通过将索引指定为-1 ，可让Python返回最后一个列表元素:"
   ]
  },
  {
   "cell_type": "code",
   "execution_count": 9,
   "metadata": {
    "ExecuteTime": {
     "end_time": "2020-06-27T09:34:18.484976Z",
     "start_time": "2020-06-27T09:34:18.479079Z"
    }
   },
   "outputs": [
    {
     "name": "stdout",
     "output_type": "stream",
     "text": [
      "specialized\n"
     ]
    }
   ],
   "source": [
    "bicycles = ['trek', 'cannondale', 'redline', 'specialized']\n",
    "print(bicycles[-1])"
   ]
  },
  {
   "cell_type": "markdown",
   "metadata": {},
   "source": [
    "这些代码返回'specialized' 。这种语法很有用，因为你经常需要在不知道列表长度的情况下访问最后的元素。这种约定也适用于其他负数索引，例如，索引-2 返回倒数第 二个列表元素，索引-3 返回倒数第三个列表元素，以此类推。\n"
   ]
  },
  {
   "cell_type": "markdown",
   "metadata": {},
   "source": [
    "### 使用列表中的各个值\n",
    "可像使用其他变量一样使用列表中的各个值。例如，你可以使用拼接根据列表中的值来创建消息。 下面来尝试从列表中提取第一款自行车，并使用这个值来创建一条消息:"
   ]
  },
  {
   "cell_type": "code",
   "execution_count": null,
   "metadata": {
    "ExecuteTime": {
     "end_time": "2020-06-27T09:35:25.813081Z",
     "start_time": "2020-06-27T09:35:25.806729Z"
    }
   },
   "outputs": [],
   "source": [
    "bicycles = ['trek', 'cannondale', 'redline', 'specialized']\n",
    "message = \"My first bicycle was a \" + bicycles[0].title() + \".\"\n",
    "print(message)"
   ]
  },
  {
   "cell_type": "markdown",
   "metadata": {},
   "source": [
    "### 动手试一试\n",
    "请尝试编写一些简短的程序来完成下面的练习，以获得一些使用Python列表的第一手经验。\n",
    "1. **姓名**: 将一些朋友的姓名存储在一个列表中，并将其命名为names 。依次访问该列表中的每个元素，从而将每个朋友的姓名都打印出来。\n",
    "2. **问候语**: 继续使用练习3-1中的列表，但不打印每个朋友的姓名，而为每人打印一条消息。每条消息都包含相同的问候语，但抬头为相应朋友的姓名。\n",
    "3. **自己的列表**: 想想你喜欢的通勤方式，如骑摩托车或开汽车，并创建一个包含多种通勤方式的列表。根据该列表打印一系列有关这些通勤方式的宣言，如“I would like to own a Honda motorcycle”。"
   ]
  },
  {
   "cell_type": "code",
   "execution_count": null,
   "metadata": {},
   "outputs": [],
   "source": []
  },
  {
   "cell_type": "markdown",
   "metadata": {},
   "source": [
    "## 修改、添加和删除元素\n",
    "你创建的大多数列表都将是动态的，这意味着列表创建后，将随着程序的运行增删元素。例如，你创建一个游戏，要求玩家射杀从天而降的外星人;为此，可在开始时将一些外 星人存储在列表中，然后每当有外星人被射杀时，都将其从列表中删除，而每次有新的外星人出现在屏幕上时，都将其添加到列表中。在整个游戏运行期间，外星人列表的长度 将不断变化。"
   ]
  },
  {
   "cell_type": "markdown",
   "metadata": {},
   "source": [
    "### 修改列表元素\n",
    "修改列表元素的语法与访问列表元素的语法类似。要修改列表元素，可指定列表名和要修改的元素的索引，再指定该元素的新值。 例如，假设有一个摩托车列表，其中的第一个元素为'honda' ，如何修改它的值呢?"
   ]
  },
  {
   "cell_type": "code",
   "execution_count": 10,
   "metadata": {
    "ExecuteTime": {
     "end_time": "2020-06-27T09:38:11.514032Z",
     "start_time": "2020-06-27T09:38:11.507806Z"
    }
   },
   "outputs": [
    {
     "name": "stdout",
     "output_type": "stream",
     "text": [
      "['honda', 'yamaha', 'suzuki']\n",
      "['ducati', 'yamaha', 'suzuki']\n"
     ]
    }
   ],
   "source": [
    "motorcycles = ['honda', 'yamaha', 'suzuki'] \n",
    "print(motorcycles)\n",
    "motorcycles[0] = 'ducati' \n",
    "print(motorcycles)"
   ]
  },
  {
   "cell_type": "markdown",
   "metadata": {},
   "source": [
    "我们首先定义一个摩托车列表，其中的第一个元素为'honda' (见❶)。接下来，我们将第一个元素的值改为'ducati' (见❷)。输出表明，第一个元素的值确实变了，但 其他列表元素的值没变:\n",
    "```\n",
    "['honda', 'yamaha', 'suzuki'] \n",
    "['ducati', 'yamaha', 'suzuki']\n",
    "```\n",
    "你可以修改任何列表元素的值，而不仅仅是第一个元素的值。"
   ]
  },
  {
   "cell_type": "markdown",
   "metadata": {},
   "source": [
    "### 在列表中添加元素\n",
    "你可能出于众多原因要在列表中添加新元素，例如，你可能希望游戏中出现新的外星人、添加可视化数据或给网站添加新注册的用户。Python提供了多种在既有列表中添加新数据的方式。"
   ]
  },
  {
   "cell_type": "markdown",
   "metadata": {},
   "source": [
    "#### 在列表末尾添加元素\n",
    "在列表中添加新元素时，最简单的方式是将元素附加到列表末尾。给列表附加元素时，它将添加到列表末尾。继续使用前一个示例中的列表，在其末尾添加新元素'ducati' :"
   ]
  },
  {
   "cell_type": "code",
   "execution_count": 11,
   "metadata": {
    "ExecuteTime": {
     "end_time": "2020-06-27T09:40:33.093875Z",
     "start_time": "2020-06-27T09:40:33.087783Z"
    }
   },
   "outputs": [
    {
     "name": "stdout",
     "output_type": "stream",
     "text": [
      "['honda', 'yamaha', 'suzuki']\n",
      "['honda', 'yamaha', 'suzuki', 'ducati']\n"
     ]
    }
   ],
   "source": [
    "motorcycles = ['honda', 'yamaha', 'suzuki'] \n",
    "print(motorcycles)\n",
    "motorcycles.append('ducati') \n",
    "print(motorcycles)"
   ]
  },
  {
   "cell_type": "markdown",
   "metadata": {},
   "source": [
    "方法`append()` 将元素'ducati' 添加到了列表末尾，而不影响列表中的其他所有元素:\n",
    "```\n",
    "['honda', 'yamaha', 'suzuki']\n",
    "['honda', 'yamaha', 'suzuki', 'ducati']\n",
    "```\n",
    "方法append() 让动态地创建列表易如反掌，例如，你可以先创建一个空列表，再使用一系列的append() 语句添加元素。下面来创建一个空列表，再在其中添加元 素'honda' 、'yamaha' 和'suzuki' :"
   ]
  },
  {
   "cell_type": "code",
   "execution_count": 12,
   "metadata": {
    "ExecuteTime": {
     "end_time": "2020-06-27T09:43:22.534376Z",
     "start_time": "2020-06-27T09:43:22.526912Z"
    }
   },
   "outputs": [
    {
     "name": "stdout",
     "output_type": "stream",
     "text": [
      "['honda', 'yamaha', 'suzuki']\n"
     ]
    }
   ],
   "source": [
    "motorcycles = []\n",
    "motorcycles.append('honda') \n",
    "motorcycles.append('yamaha') \n",
    "motorcycles.append('suzuki')\n",
    "print(motorcycles)"
   ]
  },
  {
   "cell_type": "markdown",
   "metadata": {},
   "source": [
    "这种创建列表的方式极其常见，因为经常要等程序运行后，你才知道用户要在程序中存储哪些数据。为控制用户，可首先创建一个空列表，用于存储用户将要输入的值，然后将 用户提供的每个新值附加到列表中。"
   ]
  },
  {
   "cell_type": "markdown",
   "metadata": {},
   "source": [
    "#### 在列表中插入元素\n",
    "使用方法`insert()` 可在列表的任何位置添加新元素。为此，你需要指定新元素的索引和值。"
   ]
  },
  {
   "cell_type": "code",
   "execution_count": 19,
   "metadata": {
    "ExecuteTime": {
     "end_time": "2020-06-27T09:43:27.757325Z",
     "start_time": "2020-06-27T09:43:27.751128Z"
    }
   },
   "outputs": [
    {
     "name": "stdout",
     "output_type": "stream",
     "text": [
      "['honda', '', 'suzuki']\n"
     ]
    }
   ],
   "source": [
    "motorcycles = ['honda', 'yamaha', 'suzuki']\n",
    "motorcycles[1]=''\n",
    "print(motorcycles)"
   ]
  },
  {
   "cell_type": "markdown",
   "metadata": {},
   "source": [
    "在这个示例中，值'ducati' 被插入到了列表开头;方法`insert()` 在索引`0`处添加空间，并将值'ducati' 存储到这个地方。这种操作将列表中既有的每个元素都右 移一个位置:\n",
    "```\n",
    "['ducati', 'honda', 'yamaha', 'suzuki']\n",
    "```"
   ]
  },
  {
   "cell_type": "markdown",
   "metadata": {},
   "source": [
    "### 从列表中删除元素\n",
    "你经常需要从列表中删除一个或多个元素。例如，玩家将空中的一个外星人射杀后，你很可能要将其从存活的外星人列表中删除;当用户在你创建的Web应用中注销其账户时，你需要将该用户从活跃用户列表中删除。你可以根据位置或值来删除列表中的元素。"
   ]
  },
  {
   "cell_type": "markdown",
   "metadata": {},
   "source": [
    "#### 使用del 语句删除元素\n",
    "如果知道要删除的元素在列表中的位置，可使用del 语句。"
   ]
  },
  {
   "cell_type": "code",
   "execution_count": 20,
   "metadata": {
    "ExecuteTime": {
     "end_time": "2020-06-27T09:46:04.557880Z",
     "start_time": "2020-06-27T09:46:04.550698Z"
    }
   },
   "outputs": [
    {
     "name": "stdout",
     "output_type": "stream",
     "text": [
      "['honda', 'yamaha', 'suzuki']\n",
      "['yamaha', 'suzuki']\n"
     ]
    }
   ],
   "source": [
    "motorcycles = ['honda', 'yamaha', 'suzuki'] \n",
    "print(motorcycles)\n",
    "del motorcycles[0] \n",
    "print(motorcycles)"
   ]
  },
  {
   "cell_type": "markdown",
   "metadata": {},
   "source": [
    "使用del 可删除任何位置处的列表元素，条件是知道其索引。下例演示了如何删除前述列表中的第二个元素——'yamaha' :"
   ]
  },
  {
   "cell_type": "code",
   "execution_count": 22,
   "metadata": {
    "ExecuteTime": {
     "end_time": "2020-06-27T09:46:41.510599Z",
     "start_time": "2020-06-27T09:46:41.503997Z"
    }
   },
   "outputs": [
    {
     "name": "stdout",
     "output_type": "stream",
     "text": [
      "['honda', 'yamaha', 'suzuki']\n",
      "['honda', 'yamaha']\n"
     ]
    }
   ],
   "source": [
    "motorcycles = ['honda', 'yamaha', 'suzuki'] \n",
    "print(motorcycles)\n",
    "del motorcycles[-1] \n",
    "print(motorcycles)"
   ]
  },
  {
   "cell_type": "markdown",
   "metadata": {},
   "source": [
    "下面的输出表明，已经将第二款摩托车从列表中删除了:\n",
    "```\n",
    "['honda', 'yamaha', 'suzuki'] \n",
    "['honda', 'suzuki']\n",
    "```\n",
    "在这两个示例中，使用del 语句将值从列表中删除后，你就无法再访问它了。"
   ]
  },
  {
   "cell_type": "markdown",
   "metadata": {},
   "source": [
    "#### 使用方法pop() 删除元素\n",
    "有时候，你要将元素从列表中删除，并接着使用它的值。例如，你可能需要获取刚被射杀的外星人的 x 和 y 坐标，以便在相应的位置显示爆炸效果;在Web应用程序中，你可能 要将用户从活跃成员列表中删除，并将其加入到非活跃成员列表中。  \n",
    "方法`pop()` 可删除列表末尾的元素，并让你能够接着使用它。术语**弹出** (pop)源自这样的类比:列表就像一个栈，而删除列表末尾的元素相当于弹出栈顶元素。 下面从列表motorcycles 中弹出一款摩托车:"
   ]
  },
  {
   "cell_type": "code",
   "execution_count": 23,
   "metadata": {
    "ExecuteTime": {
     "end_time": "2020-06-27T09:49:31.991223Z",
     "start_time": "2020-06-27T09:49:31.983216Z"
    }
   },
   "outputs": [
    {
     "name": "stdout",
     "output_type": "stream",
     "text": [
      "['honda', 'yamaha', 'suzuki']\n",
      "['honda', 'yamaha']\n",
      "suzuki\n",
      "['honda']\n"
     ]
    }
   ],
   "source": [
    "motorcycles = ['honda', 'yamaha', 'suzuki'] \n",
    "print(motorcycles)\n",
    "popped_motorcycle = motorcycles.pop() \n",
    "print(motorcycles)\n",
    "print(popped_motorcycle)\n",
    "motorcycles.pop()\n",
    "print(motorcycles)"
   ]
  },
  {
   "cell_type": "markdown",
   "metadata": {},
   "source": [
    "我们首先定义并打印了列表motorcycles 。接下来，我们从这个列表中弹出一个值，并将其存储到变量popped_motorcycle 中。然后我们打印这个列 表，以核实从其中删除了一个值。最后，我们打印弹出的值，以证明我们依然能够访问被删除的值。  \n",
    "\n",
    "输出表明，列表末尾的值'suzuki' 已删除，它现在存储在变量popped_motorcycle 中:\n",
    "```\n",
    "['honda', 'yamaha', 'suzuki'] \n",
    "['honda', 'yamaha']\n",
    "suzuki\n",
    "```\n",
    "方法`pop()` 是怎么起作用的呢?假设列表中的摩托车是按购买时间存储的，就可使用方法`pop()` 打印一条消息，指出最后购买的是哪款摩托车:"
   ]
  },
  {
   "cell_type": "code",
   "execution_count": null,
   "metadata": {
    "ExecuteTime": {
     "end_time": "2020-06-27T09:51:29.017179Z",
     "start_time": "2020-06-27T09:51:29.011553Z"
    }
   },
   "outputs": [],
   "source": [
    "motorcycles = ['honda', 'yamaha', 'suzuki']\n",
    "last_owned = motorcycles.pop()\n",
    "print(\"The last motorcycle I owned was a \" + last_owned.title() + \".\")"
   ]
  },
  {
   "cell_type": "markdown",
   "metadata": {},
   "source": [
    "输出是一个简单的句子，指出了最新购买的是哪款摩托车:\n",
    "```\n",
    "The last motorcycle I owned was a Suzuki.\n",
    "```"
   ]
  },
  {
   "cell_type": "markdown",
   "metadata": {},
   "source": [
    "#### 弹出列表中任何位置处的元素\n",
    "实际上，你可以使用pop() 来删除列表中任何位置的元素，只需在括号中指定要删除的元素的索引即可。"
   ]
  },
  {
   "cell_type": "code",
   "execution_count": 24,
   "metadata": {
    "ExecuteTime": {
     "end_time": "2020-06-27T09:52:47.624471Z",
     "start_time": "2020-06-27T09:52:47.618039Z"
    }
   },
   "outputs": [
    {
     "name": "stdout",
     "output_type": "stream",
     "text": [
      "['yamaha', 'suzuki']\n",
      "The first motorcycle I owned was a Honda.\n"
     ]
    }
   ],
   "source": [
    "motorcycles = ['honda', 'yamaha', 'suzuki']\n",
    "first_owned = motorcycles.pop(0)\n",
    "print(motorcycles)\n",
    "print('The first motorcycle I owned was a ' + first_owned.title() + '.')"
   ]
  },
  {
   "cell_type": "markdown",
   "metadata": {},
   "source": [
    "首先，我们弹出了列表中的第一款摩托车，然后打印了一条有关这辆摩托车的消息。输出是一个简单的句子，描述了我购买的第一辆摩托车:\n",
    "```\n",
    "The first motorcycle I owned was a Honda.\n",
    "```\n",
    "别忘了，每当你使用`pop()` 时，被弹出的元素就不再在列表中了。  \n",
    "如果你不确定该使用`del` 语句还是`pop()` 方法，下面是一个简单的判断标准:如果你要从列表中删除一个元素，且不再以任何方式使用它，就使用`del` 语句;如果你要在删除元素后还能继续使用它，就使用方法`pop()` 。"
   ]
  },
  {
   "cell_type": "markdown",
   "metadata": {},
   "source": [
    "#### 根据值删除元素\n",
    "有时候，你不知道要从列表中删除的值所处的位置。如果你只知道要删除的元素的值，可使用方法`remove()` 。 例如，假设我们要从列表motorcycles 中删除值'ducati' 。"
   ]
  },
  {
   "cell_type": "code",
   "execution_count": 26,
   "metadata": {
    "ExecuteTime": {
     "end_time": "2020-06-27T09:55:46.185001Z",
     "start_time": "2020-06-27T09:55:46.177545Z"
    }
   },
   "outputs": [
    {
     "name": "stdout",
     "output_type": "stream",
     "text": [
      "['honda', 'yamaha', 'ducati', 'docati', 'suzuki', 'ducati']\n",
      "['honda', 'yamaha', 'docati', 'suzuki', 'ducati']\n"
     ]
    }
   ],
   "source": [
    "motorcycles = ['honda', 'yamaha','ducati','docati', 'suzuki', 'ducati'] \n",
    "print(motorcycles)\n",
    "motorcycles.remove('ducati') \n",
    "print(motorcycles)"
   ]
  },
  {
   "cell_type": "markdown",
   "metadata": {},
   "source": [
    "使用`remove()` 从列表中删除元素时，也可接着使用它的值。下面删除值'ducati' ，并打印一条消息，指出要将其从列表中删除的原因:"
   ]
  },
  {
   "cell_type": "code",
   "execution_count": null,
   "metadata": {
    "ExecuteTime": {
     "end_time": "2020-06-27T09:56:53.438600Z",
     "start_time": "2020-06-27T09:56:53.430402Z"
    }
   },
   "outputs": [],
   "source": [
    "motorcycles = ['honda', 'yamaha', 'suzuki', 'ducati'] \n",
    "print(motorcycles)\n",
    "too_expensive = 'ducati'\n",
    "motorcycles.remove(too_expensive)\n",
    "print(motorcycles)\n",
    "print(\"\\nA \" + too_expensive.title() + \" is too expensive for me.\")"
   ]
  },
  {
   "cell_type": "markdown",
   "metadata": {},
   "source": [
    "**注意**  方法`remove()` 只删除第一个指定的值。如果要删除的值可能在列表中出现多次，就需要使用循环来判断是否删除了所有这样的值。你将在第7章学习如何这样做。"
   ]
  },
  {
   "cell_type": "markdown",
   "metadata": {},
   "source": [
    "### 动手试一试\n",
    "1. 嘉宾名单 :如果你可以邀请任何人一起共进晚餐(无论是在世的还是故去的)，你会邀请哪些人?请创建一个列表，其中包含至少3个你想邀请的人;然后，使用这个列表打印消息，邀请这些人来与你共进晚餐。\n",
    "2. 修改嘉宾名单 :你刚得知有位嘉宾无法赴约，因此需要另外邀请一位嘉宾。 \n",
    " * 以完成练习1时编写的程序为基础，在程序末尾添加一条`print` 语句，指出哪位嘉宾无法赴约。 \n",
    " * 修改嘉宾名单，将无法赴约的嘉宾的姓名替换为新邀请的嘉宾的姓名。 \n",
    " * 再次打印一系列消息，向名单中的每位嘉宾发出邀请。\n",
    "3. 添加嘉宾 :你刚找到了一个更大的餐桌，可容纳更多的嘉宾。请想想你还想邀请哪三位嘉宾。 \n",
    " * 以完成练习1或练习2时编写的程序为基础，在程序末尾添加一条print 语句，指出你找到了一个更大的餐桌。 \n",
    " * 使用`insert()` 将一位新嘉宾添加到名单开头。\n",
    " * 使用`insert()` 将另一位新嘉宾添加到名单中间。\n",
    " * 使用`append()` 将最后一位新嘉宾添加到名单末尾。\n",
    " * 打印一系列消息，向名单中的每位嘉宾发出邀请。\n",
    "4. 缩减名单 :你刚得知新购买的餐桌无法及时送达，因此只能邀请两位嘉宾。 \n",
    " * 以完成练习3时编写的程序为基础，在程序末尾添加一行代码，打印一条你只能邀请两位嘉宾共进晚餐的消息。\n",
    " * 使用`pop()` 不断地删除名单中的嘉宾，直到只有两位嘉宾为止。每次从名单中弹出一位嘉宾时，都打印一条消息，让该嘉宾知悉你很抱歉，无法邀请他来共进 晚餐。\n",
    " * 对于余下的两位嘉宾中的每一位，都打印一条消息，指出他依然在受邀人之列。\n",
    " * 使用`del` 将最后两位嘉宾从名单中删除，让名单变成空的。打印该名单，核实程序结束时名单确实是空的。"
   ]
  },
  {
   "cell_type": "markdown",
   "metadata": {},
   "source": [
    "## 组织列表\n",
    "在你创建的列表中，元素的排列顺序常常是无法预测的，因为你并非总能控制用户提供数据的顺序。这虽然在大多数情况下都是不可避免的，但你经常需要以特定的顺序呈现信息。有时候，你希望保留列表元素最初的排列顺序，而有时候又需要调整排列顺序。Python提供了很多组织列表的方式，可根据具体情况选用。"
   ]
  },
  {
   "cell_type": "markdown",
   "metadata": {},
   "source": [
    "### 使用方法sort() 对列表进行永久性排序\n",
    "Python方法`sort()` 让你能够较为轻松地对列表进行排序。假设你有一个汽车列表，并要让其中的汽车按字母顺序排列。为简化这项任务，我们假设该列表中的所有值都是小写的。"
   ]
  },
  {
   "cell_type": "code",
   "execution_count": null,
   "metadata": {
    "ExecuteTime": {
     "end_time": "2020-06-27T10:06:34.667024Z",
     "start_time": "2020-06-27T10:06:34.660585Z"
    }
   },
   "outputs": [],
   "source": [
    "cars = ['bmw', 'audi', 'toyota', 'subaru'] \n",
    "cars.sort()\n",
    "print(cars)"
   ]
  },
  {
   "cell_type": "markdown",
   "metadata": {},
   "source": [
    "方法`sort()` 永久性地修改了列表元素的排列顺序。现在，汽车是按字母顺序排列的，再也无法恢复到原来的排列顺序:\n",
    "```\n",
    "['audi', 'bmw', 'subaru', 'toyota']\n",
    "```\n",
    "你还可以按与字母顺序相反的顺序排列列表元素，为此，只需向`sort()` 方法传递参数`reverse=True` 。下面的示例将汽车列表按与字母顺序相反的顺序排列:"
   ]
  },
  {
   "cell_type": "code",
   "execution_count": null,
   "metadata": {
    "ExecuteTime": {
     "end_time": "2020-06-27T10:08:28.907353Z",
     "start_time": "2020-06-27T10:08:28.900543Z"
    }
   },
   "outputs": [],
   "source": [
    "cars = ['bmw', 'audi', 'toyota', 'subaru'] \n",
    "cars.sort(reverse=True)\n",
    "print(cars)"
   ]
  },
  {
   "cell_type": "markdown",
   "metadata": {},
   "source": [
    "同样，对列表元素排列顺序的修改是永久性的:\n",
    "```\n",
    "['toyota', 'subaru', 'bmw', 'audi']\n",
    "```\n"
   ]
  },
  {
   "cell_type": "markdown",
   "metadata": {},
   "source": [
    "### 使用函数sorted() 对列表进行临时排序\n",
    "要保留列表元素原来的排列顺序，同时以特定的顺序呈现它们，可使用函数`sorted()` 。函数`sorted()` 让你能够按特定顺序显示列表元素，同时不影响它们在列表中的原始排列顺序。 下面尝试对汽车列表调用这个函数。"
   ]
  },
  {
   "cell_type": "code",
   "execution_count": null,
   "metadata": {
    "ExecuteTime": {
     "end_time": "2020-06-27T10:10:59.328696Z",
     "start_time": "2020-06-27T10:10:59.322467Z"
    }
   },
   "outputs": [],
   "source": [
    "cars = ['bmw', 'audi', 'toyota', 'subaru']\n",
    "print(\"Here is the original list:\") \n",
    "print(cars)\n",
    "print(\"\\nHere is the sorted list:\") \n",
    "print(sorted(cars))\n",
    "print(\"\\nHere is the original list again:\") \n",
    "print(cars)"
   ]
  },
  {
   "cell_type": "markdown",
   "metadata": {},
   "source": [
    "我们首先按原始顺序打印列表，再按字母顺序显示该列表。以特定顺序显示列表后，我们进行核实，确认列表元素的排列顺序与以前相同。\n",
    "```\n",
    "Here is the original list:\n",
    "['bmw', 'audi', 'toyota', 'subaru']\n",
    "Here is the sorted list:\n",
    "['audi', 'bmw', 'subaru', 'toyota']\n",
    "Here is the original list again: \n",
    "['bmw', 'audi', 'toyota', 'subaru']\n",
    "```\n",
    "注意，调用函数`sorted()` 后，列表元素的排列顺序并没有变。如果你要按与字母顺序相反的顺序显示列表，也可向函数`sorted()` 传递参数`reverse=True` 。   \n",
    "\n",
    "**注意**  在并非所有的值都是小写时，按字母顺序排列列表要复杂些。决定排列顺序时，有多种解读大写字母的方式，要指定准确的排列顺序，可能比我们这里所做的要复杂。然而，大多数排序方式都基于本节介绍的知识。"
   ]
  },
  {
   "cell_type": "markdown",
   "metadata": {},
   "source": [
    "### 倒着打印列表\n",
    "要反转列表元素的排列顺序，可使用方法`reverse()` 。假设汽车列表是按购买时间排列的，可轻松地按相反的顺序排列其中的汽车:"
   ]
  },
  {
   "cell_type": "code",
   "execution_count": null,
   "metadata": {
    "ExecuteTime": {
     "end_time": "2020-06-27T10:31:48.936047Z",
     "start_time": "2020-06-27T10:31:48.929915Z"
    }
   },
   "outputs": [],
   "source": [
    "cars = ['bmw', 'audi', 'toyota', 'subaru'] \n",
    "print(cars)\n",
    "cars.reverse() \n",
    "print(cars)\n"
   ]
  },
  {
   "cell_type": "markdown",
   "metadata": {},
   "source": [
    "注意，reverse() 不是指按与字母顺序相反的顺序排列列表元素，而只是反转列表元素的排列顺序:\n",
    "```\n",
    "['bmw', 'audi', 'toyota', 'subaru']\n",
    "['subaru', 'toyota', 'audi', 'bmw']\n",
    "```\n",
    "方法`reverse()` 永久性地修改列表元素的排列顺序，但可随时恢复到原来的排列顺序，为此只需对列表再次调用`reverse()` 即可。"
   ]
  },
  {
   "cell_type": "markdown",
   "metadata": {},
   "source": [
    "### 确定列表的长度\n",
    "使用函数`len()` 可快速获悉列表的长度。在下面的示例中，列表包含4个元素，因此其长度为4:"
   ]
  },
  {
   "cell_type": "code",
   "execution_count": null,
   "metadata": {
    "ExecuteTime": {
     "end_time": "2020-06-27T10:33:39.928191Z",
     "start_time": "2020-06-27T10:33:39.914737Z"
    }
   },
   "outputs": [],
   "source": [
    "cars = ['bmw', 'audi', 'toyota', 'subaru']\n",
    "len(cars)"
   ]
  },
  {
   "cell_type": "markdown",
   "metadata": {},
   "source": [
    "在你需要完成如下任务时，len() 很有用:确定还有多少个外星人未被射杀，需要管理多少项可视化数据，网站有多少注册用户等。   \n",
    "\n",
    "**注意**  Python计算列表元素数时从1开始，因此确定列表长度时，你应该不会遇到差一错误。"
   ]
  },
  {
   "cell_type": "markdown",
   "metadata": {},
   "source": [
    "### 动手试一试\n",
    "1. **放眼世界** :想出至少5个你渴望去旅游的地方。\n",
    " * 将这些地方存储在一个列表中，并确保其中的元素不是按字母顺序排列的。 \n",
    " * 按原始排列顺序打印该列表。不要考虑输出是否整洁的问题，只管打印原始Python列表。 \n",
    " * 使用`sorted()` 按字母顺序打印这个列表，同时不要修改它。 \n",
    " * 再次打印该列表，核实排列顺序未变。\n",
    " * 使用`sorted()` 按与字母顺序相反的顺序打印这个列表，同时不要修改它。 \n",
    " * 再次打印该列表，核实排列顺序未变。\n",
    " * 使用`reverse()` 修改列表元素的排列顺序。打印该列表，核实排列顺序确实变了。\n",
    " * 使用`reverse()` 再次修改列表元素的排列顺序。打印该列表，核实已恢复到原来的排列顺序。 \n",
    " * 使用`sort()` 修改该列表，使其元素按字母顺序排列。打印该列表，核实排列顺序确实变了。\n",
    " * 使用`sort()` 修改该列表，使其元素按与字母顺序相反的顺序排列。打印该列表，核实排列顺序确实变了。\n",
    "2. **晚餐嘉宾** :在完成<a href=\"#动手试一试\" data-toc-modified-id=\"动手试一试-1.2.4\"><span class=\"toc-item-num\">1.2.4&nbsp;&nbsp;</span>动手试一试</a>时编写的程序之一中，使用`len()` 打印一条消息，指出你邀请了多少位嘉宾来与你共进晚餐。\n",
    "4. **尝试使用各个函数** :想想可存储到列表中的东西，如山岳、河流、国家、城市、语言或你喜欢的任何东西。编写一个程序，在其中创建一个包含这些元素的列表，然后，对于本章介绍的每个函数，都至少使用一次来处理这个列表。"
   ]
  },
  {
   "cell_type": "markdown",
   "metadata": {},
   "source": [
    "## 使用列表时避免索引错误\n",
    "刚开始使用列表时，经常会遇到一种错误。假设你有一个包含三个元素的列表，却要求获取第四个元素:"
   ]
  },
  {
   "cell_type": "code",
   "execution_count": null,
   "metadata": {
    "ExecuteTime": {
     "end_time": "2020-06-27T10:42:55.546926Z",
     "start_time": "2020-06-27T10:42:55.390352Z"
    }
   },
   "outputs": [],
   "source": [
    "motorcycles = ['honda', 'yamaha', 'suzuki'] \n",
    "print(motorcycles[3])"
   ]
  },
  {
   "cell_type": "markdown",
   "metadata": {},
   "source": [
    "这将导致索引错误 :\n",
    "```\n",
    "IndexError                                Traceback (most recent call last)\n",
    "<ipython-input-25-9a4f3dd2e126> in <module>\n",
    "      1 motorcycles = ['honda', 'yamaha', 'suzuki']\n",
    "----> 2 print(motorcycles[3])\n",
    "\n",
    "IndexError: list index out of range\n",
    "```\n",
    "Python试图向你提供位于索引3处的元素，但它搜索列表motorcycles 时，却发现索引3处没有元素。鉴于列表索引差一的特征，这种错误很常见。有些人从1开始数，因此以为 第三个元素的索引为3;但在Python中，第三个元素的索引为2，因为索引是从0开始的。  \n",
    "\n",
    "索引错误意味着Python无法理解你指定的索引。程序发生索引错误时，请尝试将你指定的索引减1，然后再次运行程序，看看结果是否正确。  \n",
    "\n",
    "别忘了，每当需要访问最后一个列表元素时，都可使用索引-1 。这在任何情况下都行之有效，即便你最后一次访问列表后，其长度发生了变化:"
   ]
  },
  {
   "cell_type": "code",
   "execution_count": null,
   "metadata": {
    "ExecuteTime": {
     "end_time": "2020-06-27T10:45:03.264569Z",
     "start_time": "2020-06-27T10:45:03.256655Z"
    }
   },
   "outputs": [],
   "source": [
    "motorcycles = ['honda', 'yamaha', 'suzuki'] \n",
    "print(motorcycles[-1])"
   ]
  },
  {
   "cell_type": "markdown",
   "metadata": {},
   "source": [
    "索引-1 总是返回最后一个列表元素，这里为值'suzuki' :\n",
    "```\n",
    "suzuki\n",
    "```\n",
    "仅当列表为空时，这种访问最后一个元素的方式才会导致错误:"
   ]
  },
  {
   "cell_type": "code",
   "execution_count": null,
   "metadata": {
    "ExecuteTime": {
     "end_time": "2020-06-27T10:46:04.434463Z",
     "start_time": "2020-06-27T10:46:04.423180Z"
    }
   },
   "outputs": [],
   "source": [
    "motorcycles = [] \n",
    "print(motorcycles[-1])"
   ]
  },
  {
   "cell_type": "markdown",
   "metadata": {},
   "source": [
    "列表motorcycles 不包含任何元素，因此Python返回一条索引错误消息:  \n",
    "\n",
    "**注意**  发生索引错误却找不到解决办法时，请尝试将列表或其长度打印出来。列表可能与你以为的截然不同，在程序对其进行了动态处理时尤其如此。通过查看列表 或其包含的元素数，可帮助你找出这种逻辑错误。"
   ]
  },
  {
   "cell_type": "markdown",
   "metadata": {},
   "source": [
    "### 动手试一试\n",
    "1. **有意引发错误** :如果你还没有在程序中遇到过索引错误，就尝试引发一个这种错误。在你的一个程序中，修改其中的索引，以引发索引错误。关闭程序前，务必消除这个错误。"
   ]
  },
  {
   "cell_type": "code",
   "execution_count": null,
   "metadata": {},
   "outputs": [],
   "source": []
  }
 ],
 "metadata": {
  "kernelspec": {
   "display_name": "Python 3",
   "language": "python",
   "name": "python3"
  },
  "language_info": {
   "codemirror_mode": {
    "name": "ipython",
    "version": 3
   },
   "file_extension": ".py",
   "mimetype": "text/x-python",
   "name": "python",
   "nbconvert_exporter": "python",
   "pygments_lexer": "ipython3",
   "version": "3.7.3"
  },
  "toc": {
   "base_numbering": 1,
   "nav_menu": {},
   "number_sections": true,
   "sideBar": true,
   "skip_h1_title": false,
   "title_cell": "目录",
   "title_sidebar": "目录",
   "toc_cell": true,
   "toc_position": {},
   "toc_section_display": true,
   "toc_window_display": false
  },
  "varInspector": {
   "cols": {
    "lenName": 16,
    "lenType": 16,
    "lenVar": 40
   },
   "kernels_config": {
    "python": {
     "delete_cmd_postfix": "",
     "delete_cmd_prefix": "del ",
     "library": "var_list.py",
     "varRefreshCmd": "print(var_dic_list())"
    },
    "r": {
     "delete_cmd_postfix": ") ",
     "delete_cmd_prefix": "rm(",
     "library": "var_list.r",
     "varRefreshCmd": "cat(var_dic_list()) "
    }
   },
   "types_to_exclude": [
    "module",
    "function",
    "builtin_function_or_method",
    "instance",
    "_Feature"
   ],
   "window_display": false
  }
 },
 "nbformat": 4,
 "nbformat_minor": 4
}
