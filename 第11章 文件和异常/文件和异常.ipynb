{
 "cells": [
  {
   "cell_type": "markdown",
   "metadata": {
    "toc": true
   },
   "source": [
    "<h1>目录<span class=\"tocSkip\"></span></h1>\n",
    "<div class=\"toc\"><ul class=\"toc-item\"><li><span><a href=\"#文件和异常\" data-toc-modified-id=\"文件和异常-1\"><span class=\"toc-item-num\">1&nbsp;&nbsp;</span>文件和异常</a></span><ul class=\"toc-item\"><li><span><a href=\"#从文件中读取数据\" data-toc-modified-id=\"从文件中读取数据-1.1\"><span class=\"toc-item-num\">1.1&nbsp;&nbsp;</span>从文件中读取数据</a></span><ul class=\"toc-item\"><li><span><a href=\"#读取整个文件\" data-toc-modified-id=\"读取整个文件-1.1.1\"><span class=\"toc-item-num\">1.1.1&nbsp;&nbsp;</span>读取整个文件</a></span></li><li><span><a href=\"#文件路径\" data-toc-modified-id=\"文件路径-1.1.2\"><span class=\"toc-item-num\">1.1.2&nbsp;&nbsp;</span>文件路径</a></span></li><li><span><a href=\"#逐行读取\" data-toc-modified-id=\"逐行读取-1.1.3\"><span class=\"toc-item-num\">1.1.3&nbsp;&nbsp;</span>逐行读取</a></span></li><li><span><a href=\"#创建一个包含文件各行内容的列表\" data-toc-modified-id=\"创建一个包含文件各行内容的列表-1.1.4\"><span class=\"toc-item-num\">1.1.4&nbsp;&nbsp;</span>创建一个包含文件各行内容的列表</a></span></li><li><span><a href=\"#使用文件的内容\" data-toc-modified-id=\"使用文件的内容-1.1.5\"><span class=\"toc-item-num\">1.1.5&nbsp;&nbsp;</span>使用文件的内容</a></span></li><li><span><a href=\"#动手试一试\" data-toc-modified-id=\"动手试一试-1.1.6\"><span class=\"toc-item-num\">1.1.6&nbsp;&nbsp;</span>动手试一试</a></span></li></ul></li><li><span><a href=\"#写入文件\" data-toc-modified-id=\"写入文件-1.2\"><span class=\"toc-item-num\">1.2&nbsp;&nbsp;</span>写入文件</a></span><ul class=\"toc-item\"><li><span><a href=\"#写入空文件\" data-toc-modified-id=\"写入空文件-1.2.1\"><span class=\"toc-item-num\">1.2.1&nbsp;&nbsp;</span>写入空文件</a></span></li><li><span><a href=\"#写入多行\" data-toc-modified-id=\"写入多行-1.2.2\"><span class=\"toc-item-num\">1.2.2&nbsp;&nbsp;</span>写入多行</a></span></li><li><span><a href=\"#附加到文件\" data-toc-modified-id=\"附加到文件-1.2.3\"><span class=\"toc-item-num\">1.2.3&nbsp;&nbsp;</span>附加到文件</a></span></li><li><span><a href=\"#动手试一试\" data-toc-modified-id=\"动手试一试-1.2.4\"><span class=\"toc-item-num\">1.2.4&nbsp;&nbsp;</span>动手试一试</a></span></li></ul></li><li><span><a href=\"#异常\" data-toc-modified-id=\"异常-1.3\"><span class=\"toc-item-num\">1.3&nbsp;&nbsp;</span>异常</a></span><ul class=\"toc-item\"><li><span><a href=\"#处理ZeroDivisionError-异常\" data-toc-modified-id=\"处理ZeroDivisionError-异常-1.3.1\"><span class=\"toc-item-num\">1.3.1&nbsp;&nbsp;</span>处理ZeroDivisionError 异常</a></span></li><li><span><a href=\"#使用try-except-代码块\" data-toc-modified-id=\"使用try-except-代码块-1.3.2\"><span class=\"toc-item-num\">1.3.2&nbsp;&nbsp;</span>使用try-except 代码块</a></span></li><li><span><a href=\"#使用异常避免崩溃\" data-toc-modified-id=\"使用异常避免崩溃-1.3.3\"><span class=\"toc-item-num\">1.3.3&nbsp;&nbsp;</span>使用异常避免崩溃</a></span></li><li><span><a href=\"#else-代码块\" data-toc-modified-id=\"else-代码块-1.3.4\"><span class=\"toc-item-num\">1.3.4&nbsp;&nbsp;</span>else 代码块</a></span></li><li><span><a href=\"#处理FileNotFoundError-异常\" data-toc-modified-id=\"处理FileNotFoundError-异常-1.3.5\"><span class=\"toc-item-num\">1.3.5&nbsp;&nbsp;</span>处理FileNotFoundError 异常</a></span></li><li><span><a href=\"#分析文本\" data-toc-modified-id=\"分析文本-1.3.6\"><span class=\"toc-item-num\">1.3.6&nbsp;&nbsp;</span>分析文本</a></span></li><li><span><a href=\"#使用多个文件\" data-toc-modified-id=\"使用多个文件-1.3.7\"><span class=\"toc-item-num\">1.3.7&nbsp;&nbsp;</span>使用多个文件</a></span></li><li><span><a href=\"#失败时一声不吭\" data-toc-modified-id=\"失败时一声不吭-1.3.8\"><span class=\"toc-item-num\">1.3.8&nbsp;&nbsp;</span>失败时一声不吭</a></span></li><li><span><a href=\"#决定报告哪些错误\" data-toc-modified-id=\"决定报告哪些错误-1.3.9\"><span class=\"toc-item-num\">1.3.9&nbsp;&nbsp;</span>决定报告哪些错误</a></span></li><li><span><a href=\"#动手试一试\" data-toc-modified-id=\"动手试一试-1.3.10\"><span class=\"toc-item-num\">1.3.10&nbsp;&nbsp;</span>动手试一试</a></span></li></ul></li><li><span><a href=\"#存储数据\" data-toc-modified-id=\"存储数据-1.4\"><span class=\"toc-item-num\">1.4&nbsp;&nbsp;</span>存储数据</a></span><ul class=\"toc-item\"><li><span><a href=\"#使用json.dump()-和json.load()\" data-toc-modified-id=\"使用json.dump()-和json.load()-1.4.1\"><span class=\"toc-item-num\">1.4.1&nbsp;&nbsp;</span>使用json.dump() 和json.load()</a></span></li><li><span><a href=\"#保存和读取用户生成的数据\" data-toc-modified-id=\"保存和读取用户生成的数据-1.4.2\"><span class=\"toc-item-num\">1.4.2&nbsp;&nbsp;</span>保存和读取用户生成的数据</a></span></li><li><span><a href=\"#重构\" data-toc-modified-id=\"重构-1.4.3\"><span class=\"toc-item-num\">1.4.3&nbsp;&nbsp;</span>重构</a></span></li><li><span><a href=\"#动手试一试\" data-toc-modified-id=\"动手试一试-1.4.4\"><span class=\"toc-item-num\">1.4.4&nbsp;&nbsp;</span>动手试一试</a></span></li></ul></li></ul></li></ul></div>"
   ]
  },
  {
   "cell_type": "markdown",
   "metadata": {},
   "source": [
    "# 文件和异常\n",
    "至此，你掌握了编写组织有序而易于使用的程序所需的基本技能，该考虑让程序目标更明确、用途更大了。在本章中，你将学习处理文件，让程序能够快速地分析大 量的数据;你将学习错误处理，避免程序在面对意外情形时崩溃;你将学习异常 ，它们是Python创建的特殊对象，用于管理程序运行时出现的错误;你还将学习模块json ，它让你能够保存用户数据，以免在程序停止运行后丢失。\n",
    "\n",
    "学习处理文件和保存数据可让你的程序使用起来更容易:用户将能够选择输入什么样的数据，以及在什么时候输入;用户使用你的程序做一些工作后，可将程序关 闭，以后再接着往下做。学习处理异常可帮助你应对文件不存在的情形，以及处理其他可能导致程序崩溃的问题。这让你的程序在面对错误的数据时更健壮——不管 这些错误数据源自无意的错误，还是源自破坏程序的恶意企图。你在本章学习的技能可提高程序的适用性、可用性和稳定性。"
   ]
  },
  {
   "cell_type": "markdown",
   "metadata": {},
   "source": [
    "## 从文件中读取数据 \n",
    "文本文件可存储的数据量多得难以置信:天气数据、交通数据、社会经济数据、文学作品等。每当需要分析或修改存储在文件中的信息时，读取文件都很有用，对数据分析应用程序来说尤其如此。例如，你可以编写一个这样的程序:读取一个文本文件的内容，重新设置这些数据的格式并将其写入文件，让浏览器能够显示这些内容。 \n",
    "\n",
    "要使用文本文件中的信息，首先需要将信息读取到内存中。为此，你可以一次性读取文件的全部内容，也可以以每次一行的方式逐步读取。"
   ]
  },
  {
   "cell_type": "markdown",
   "metadata": {},
   "source": [
    "### 读取整个文件 \n",
    "要读取文件，需要一个包含几行文本的文件。下面首先来创建一个文件，它包含精确到小数点后30位的圆周率值，且在小数点后每10位处都换行:"
   ]
  },
  {
   "cell_type": "code",
   "execution_count": null,
   "metadata": {
    "ExecuteTime": {
     "end_time": "2020-06-30T08:36:39.078437Z",
     "start_time": "2020-06-30T08:36:39.070933Z"
    }
   },
   "outputs": [],
   "source": [
    "%%writefile pi_digits.txt\n",
    " 3.1415926535\n",
    " 8979323846 \n",
    " 2643383279"
   ]
  },
  {
   "cell_type": "markdown",
   "metadata": {},
   "source": [
    "下面的程序打开并读取这个文件，再将其内容显示到屏幕上:"
   ]
  },
  {
   "cell_type": "code",
   "execution_count": null,
   "metadata": {
    "ExecuteTime": {
     "end_time": "2020-06-30T08:13:27.760532Z",
     "start_time": "2020-06-30T08:13:27.753919Z"
    }
   },
   "outputs": [],
   "source": [
    "with open('pi_digits.txt') as file_object: \n",
    "    contents = file_object.read() \n",
    "    print(contents)"
   ]
  },
  {
   "cell_type": "markdown",
   "metadata": {},
   "source": [
    "在这个程序中，第1行代码做了大量的工作。我们先来看看函数open() 。要以任何方式使用文件——哪怕仅仅是打印其内容，都得先打开 文件，这样才能访问它。函数open() 接受一个参数:要打开的文件的名称。Python在当前执行的文件所在的目录中查找指定的文件。在这个示例中，当前运行的是file_reader.py，因此Python在file_reader.py所在的目录中 查找pi_digits.txt。函数open() 返回一个表示文件的对象。在这里，open('pi_digits.txt') 返回一个表示文件pi_digits.txt 的对象;Python将这个对象存储在我们将 在后面使用的变量中。\n",
    "\n",
    "关键字with 在不再需要访问文件后将其关闭。在这个程序中，注意到我们调用了open() ，但没有调用close() ;你也可以调用open() 和close() 来打开和关闭文件，但 这样做时，如果程序存在bug，导致close() 语句未执行，文件将不会关闭。这看似微不足道，但未妥善地关闭文件可能会导致数据丢失或受损。如果在程序中过早地调 用close() ，你会发现需要使用文件时它已关闭 (无法访问)，这会导致更多的错误。并非在任何情况下都能轻松确定关闭文件的恰当时机，但通过使用前面所示的结构，可 让Python去确定:你只管打开文件，并在需要时使用它，Python自会在合适的时候自动将其关闭。\n",
    "\n",
    "有了表示pi_digits.txt的文件对象后，我们使用方法read() (前述程序的第2行)读取这个文件的全部内容，并将其作为一个长长的字符串存储在变量contents 中。这样，通过 打印contents 的值，就可将这个文本文件的全部内容显示出来:\n",
    "```\n",
    "3.1415926535\n",
    "8979323846 \n",
    "2643383279\n",
    "\n",
    "```\n",
    "相比于原始文件，该输出唯一不同的地方是末尾多了一个空行。为何会多出这个空行呢?因为read() 到达文件末尾时返回一个空字符串，而将这个空字符串显示出来时就是一 个空行。要删除多出来的空行，可在print 语句中使用rstrip() :"
   ]
  },
  {
   "cell_type": "code",
   "execution_count": null,
   "metadata": {
    "ExecuteTime": {
     "end_time": "2020-06-30T08:23:05.512400Z",
     "start_time": "2020-06-30T08:23:05.501096Z"
    }
   },
   "outputs": [],
   "source": [
    "with open('pi_digits.txt') as file_object: \n",
    "    contents = file_object.read() \n",
    "    print(contents.rstrip())"
   ]
  },
  {
   "cell_type": "markdown",
   "metadata": {},
   "source": [
    "本书前面说过，Python方法rstrip() 删除(剥除)字符串末尾的空白。现在，输出与原始文件的内容完全相同:\n",
    "```\n",
    "3.1415926535\n",
    "8979323846 \n",
    "2643383279\n",
    "```"
   ]
  },
  {
   "cell_type": "markdown",
   "metadata": {},
   "source": [
    "### 文件路径\n",
    "当你将类似pi_digits.txt这样的简单文件名传递给函数open() 时，Python将在当前执行的文件(即.py程序文件)所在的目录中查找文件。\n",
    "\n",
    "根据你组织文件的方式，有时可能要打开不在程序文件所属目录中的文件。例如，你可能将程序文件存储在了文件夹python_work中，而在文件夹python_work中，有一个名为 text_files的文件夹，用于存储程序文件操作的文本文件。虽然文件夹text_files包含在文件夹python_work中，但仅向open() 传递位于该文件夹中的文件的名称也不可行，因为Python 只在文件夹python_work中查找，而不会在其子文件夹text_files中查找。要让Python打开不与程序文件位于同一个目录中的文件，需要提供文件路径 ，它让Python到系统的特定位置 去查找。\n",
    "\n",
    "由于文件夹text_files位于文件夹python_work中，因此可使用相对文件路 径来打开该文件夹中的文件。相对文件路径让Python到指定的位置去查找，而该位置是相对于当前运行的程 序所在目录的。在Linux和OS X中，你可以这样编写代码:\n",
    "```\n",
    "with open('text_files/filename.txt') as file_object:\n",
    "```\n",
    "这行代码让Python到文件夹python_work下的文件夹text_files中去查找指定的.txt文件。在Windows系统中，在文件路径中使用反斜杠(\\ )而不是斜杠(/ ):\n",
    "```\n",
    "with open('text_files\\filename.txt') as file_object:\n",
    "```\n",
    "你还可以将文件在计算机中的准确位置告诉Python，这样就不用关心当前运行的程序存储在什么地方了。这称为绝对文件路径 。在相对路径行不通时，可使用绝对路径。例如， 如果text_files并不在文件夹python_work中，而在文件夹other_files中，则向open()传递路径'text_files/ filename.txt'行不通，因为Python只在文件夹python_work中查找 该位置。为明确地指出你希望Python到哪里去查找，你需要提供完整的路径。\n",
    "\n",
    "绝对路径通常比相对路径更长，因此将其存储在一个变量中，再将该变量传递给open() 会有所帮助。在Linux和OS X中，绝对路径类似于下面这样:\n",
    "```\n",
    "file_path = '/home/ehmatthes/other_files/text_files/filename.txt'\n",
    "with open(file_path) as file_object:\n",
    "```\n",
    "而在Windows系统中，它们类似于下面这样:\n",
    "```\n",
    "file_path = 'C:\\Users\\ehmatthes\\other_files\\text_files\\filename.txt' \n",
    "with open(file_path) as file_object:\n",
    "```\n",
    "通过使用绝对路径，可读取系统任何地方的文件。就目前而言，最简单的做法是，要么将数据文件存储在程序文件所在的目录，要么将其存储在程序文件所在目录下的一个文件 夹(如text_files)中。\n",
    "\n",
    "**注意**  Windows系统有时能够正确地解读文件路径中的斜杠。如果你使用的是Windows系统，且结果不符合预期，请确保在文件路径中使用的是反斜杠。"
   ]
  },
  {
   "cell_type": "markdown",
   "metadata": {},
   "source": [
    "### 逐行读取\n",
    "读取文件时，常常需要检查其中的每一行:你可能要在文件中查找特定的信息，或者要以某种方式修改文件中的文本。例如，你可能要遍历一个包含天气数据的文件，并使用天 气描述中包含字样sunny的行。在新闻报道中，你可能会查找包含标签`<headline>` 的行，并按特定的格式设置它。\n",
    "\n",
    "要以每次一行的方式检查文件，可对文件对象使用for 循环:"
   ]
  },
  {
   "cell_type": "code",
   "execution_count": null,
   "metadata": {
    "ExecuteTime": {
     "end_time": "2020-06-30T08:28:59.093242Z",
     "start_time": "2020-06-30T08:28:59.084762Z"
    }
   },
   "outputs": [],
   "source": [
    "filename = 'pi_digits.txt' # ❶ \n",
    "with open(filename) as file_object: # ❷ \n",
    "    for line in file_object: # ❸ \n",
    "        print(line)"
   ]
  },
  {
   "cell_type": "markdown",
   "metadata": {},
   "source": [
    "在❶处，我们将要读取的文件的名称存储在变量filename 中，这是使用文件时一种常见的做法。由于变量filename 表示的并非实际文件——它只是一个让Python知道到哪里 去查找文件的字符串，因此可轻松地将'pi_digits.txt' 替换为你要使用的另一个文件的名称。调用open() 后，将一个表示文件及其内容的对象存储到了变 量file_object 中(见❷)。这里也使用了关键字with ，让Python负责妥善地打开和关闭文件。为查看文件的内容，我们通过对文件对象执行循环来遍历文件中的每一行(见 ❸)。\n",
    "\n",
    "我们打印每一行时，发现空白行更多了:\n",
    "```\n",
    "3.1415926535\n",
    "\n",
    "8979323846 \n",
    "\n",
    "2643383279\n",
    "\n",
    "```\n",
    "为何会出现这些空白行呢?因为在这个文件中，每行的末尾都有一个看不见的换行符，而print 语句也会加上一个换行符，因此每行末尾都有两个换行符:一个来自文件，另一 个来自print 语句。要消除这些多余的空白行，可在print 语句中使用rstrip() :"
   ]
  },
  {
   "cell_type": "code",
   "execution_count": null,
   "metadata": {
    "ExecuteTime": {
     "end_time": "2020-06-30T08:30:31.857412Z",
     "start_time": "2020-06-30T08:30:31.849833Z"
    }
   },
   "outputs": [],
   "source": [
    "filename = 'pi_digits.txt'\n",
    "with open(filename) as file_object: \n",
    "    for line in file_object:\n",
    "        print(line.rstrip())"
   ]
  },
  {
   "cell_type": "markdown",
   "metadata": {},
   "source": [
    "现在，输出又与文件内容完全相同了:\n",
    "```\n",
    "3.1415926535\n",
    "8979323846\n",
    "2643383279\n",
    "```"
   ]
  },
  {
   "cell_type": "markdown",
   "metadata": {},
   "source": [
    "### 创建一个包含文件各行内容的列表\n",
    "使用关键字with 时，open() 返回的文件对象只在with 代码块内可用。如果要在with 代码块外访问文件的内容，可在with 代码块内将文件的各行存储在一个列表中，并在with 代码块外使用该列表:你可以立即处理文件的各个部分，也可推迟到程序后面再处理。 \n",
    "\n",
    "下面的示例在with 代码块中将文件pi_digits.txt的各行存储在一个列表中，再在with 代码块外打印它们:"
   ]
  },
  {
   "cell_type": "code",
   "execution_count": null,
   "metadata": {
    "ExecuteTime": {
     "end_time": "2020-06-30T08:32:15.939205Z",
     "start_time": "2020-06-30T08:32:15.931892Z"
    }
   },
   "outputs": [],
   "source": [
    "filename = 'pi_digits.txt'\n",
    "with open(filename) as file_object:\n",
    "    lines = file_object.readlines()  # ❶\n",
    "for line in lines:  # ❷\n",
    "    print(line.rstrip())"
   ]
  },
  {
   "cell_type": "markdown",
   "metadata": {},
   "source": [
    "❶处的方法readlines() 从文件中读取每一行，并将其存储在一个列表中;接下来，该列表被存储到变量lines 中;在with 代码块外，我们依然可以使用这个变量。在❷ 处，我们使用一个简单的for 循环来打印lines 中的各行。由于列表lines 的每个元素都对应于文件中的一行，因此输出与文件内容完全一致。"
   ]
  },
  {
   "cell_type": "markdown",
   "metadata": {},
   "source": [
    "### 使用文件的内容 \n",
    "将文件读取到内存中后，就可以以任何方式使用这些数据了。下面以简单的方式使用圆周率的值。首先，我们将创建一个字符串，它包含文件中存储的所有数字，且没有任何空格:"
   ]
  },
  {
   "cell_type": "code",
   "execution_count": null,
   "metadata": {
    "ExecuteTime": {
     "end_time": "2020-06-30T08:36:44.391479Z",
     "start_time": "2020-06-30T08:36:44.385085Z"
    }
   },
   "outputs": [],
   "source": [
    "filename = 'pi_digits.txt'\n",
    "with open(filename) as file_object: \n",
    "    lines = file_object.readlines()\n",
    "pi_string = '' # ❶ \n",
    "for line in lines: # ❷ \n",
    "    pi_string += line.rstrip()\n",
    "print(pi_string) # ❸ \n",
    "print(len(pi_string))"
   ]
  },
  {
   "cell_type": "markdown",
   "metadata": {},
   "source": [
    "就像前一个示例一样，我们首先打开文件，并将其中的所有行都存储在一个列表中。在❶处，我们创建了一个变量——pi_string ，用于存储圆周率的值。接下来，我们使用 一个循环将各行都加入pi_string ，并删除每行末尾的换行符(见❷)。在❸处，我们打印这个字符串及其长度:\n",
    "```\n",
    " 3.1415926535 8979323846 2643383279\n",
    "35\n",
    "```\n",
    "在变量pi_string 存储的字符串中，包含原来位于每行左边的空格，为删除这些空格，可使用strip() 而不是rstrip() :\n"
   ]
  },
  {
   "cell_type": "code",
   "execution_count": null,
   "metadata": {
    "ExecuteTime": {
     "end_time": "2020-06-30T08:37:16.560665Z",
     "start_time": "2020-06-30T08:37:16.552829Z"
    }
   },
   "outputs": [],
   "source": [
    "filename = 'pi_digits.txt'\n",
    "with open(filename) as file_object: \n",
    "    lines = file_object.readlines()\n",
    "pi_string = '' \n",
    "for line in lines: \n",
    "    pi_string += line.strip()\n",
    "print(pi_string) \n",
    "print(len(pi_string))"
   ]
  },
  {
   "cell_type": "markdown",
   "metadata": {},
   "source": [
    "这样，我们就获得了一个这样的字符串:它包含精确到30位小数的圆周率值。这个字符串长32字符，因为它还包含整数部分的3和小数点:\n",
    "```\n",
    "3.141592653589793238462643383279\n",
    "32\n",
    "```\n",
    "\n",
    "**注意**  读取文本文件时，Python将其中的所有文本都解读为字符串。如果你读取的是数字，并要将其作为数值使用，就必须使用函数int() 将其转换为整数，或使用 函数float() 将其转换为浮点数。"
   ]
  },
  {
   "cell_type": "markdown",
   "metadata": {},
   "source": [
    "### 动手试一试\n",
    "1. Python学习笔记 :在文本编辑器中新建一个文件，写几句话来总结一下你至此学到的Python知识，其中每一行都以“In Python you can”打头。将这个文件命名为 learning_python.txt，并将其存储到为完成本章练习而编写的程序所在的目录中。编写一个程序，它读取这个文件，并将你所写的内容打印三次:第一次打印时读取整个 文件;第二次打印时遍历文件对象;第三次打印时将各行存储在一个列表中，再在with 代码块外打印它们。\n",
    "2. C语言学习笔记 :可使用方法replace() 将字符串中的特定单词都替换为另一个单词。下面是一个简单的示例，演示了如何将句子中的'dog' 替换为'cat' :\n",
    "```\n",
    ">>> message = \"I really like dogs.\" \n",
    ">>> message.replace('dog', 'cat') \n",
    "'I really like cats.'\n",
    "```\n",
    "读取你刚创建的文件learning_python.txt中的每一行，将其中的Python都替换为另一门语言的名称，如C。将修改后的各行都打印到屏幕上。"
   ]
  },
  {
   "cell_type": "markdown",
   "metadata": {},
   "source": [
    "## 写入文件\n",
    "保存数据的最简单的方式之一是将其写入到文件中。通过将输出写入文件，即便关闭包含程序输出的终端窗口，这些输出也依然存在:你可以在程序结束运行后查看这些输出， 可与别人分享输出文件，还可编写程序来将这些输出读取到内存中并进行处理。"
   ]
  },
  {
   "cell_type": "markdown",
   "metadata": {},
   "source": [
    "### 写入空文件\n",
    "要将文本写入文件，你在调用open() 时需要提供另一个实参，告诉Python你要写入打开的文件。为明白其中的工作原理，我们来将一条简单的消息存储到文件中，而不是将其打印到屏幕上:"
   ]
  },
  {
   "cell_type": "code",
   "execution_count": null,
   "metadata": {
    "ExecuteTime": {
     "end_time": "2020-06-30T08:44:55.155235Z",
     "start_time": "2020-06-30T08:44:55.148148Z"
    }
   },
   "outputs": [],
   "source": [
    "filename = 'programming.txt'\n",
    "with open(filename, 'w') as file_object: # ❶ \n",
    "    file_object.write(\"I love programming.\") # ❷ "
   ]
  },
  {
   "cell_type": "markdown",
   "metadata": {},
   "source": [
    "在这个示例中，调用open() 时提供了两个实参(见❶)。第一个实参也是要打开的文件的名称;第二个实参('w' )告诉Python，我们要以写入模式 打开这个文件。打开文件 时，可指定读取模式 ('r' )、写入模式 ('w' )、附加模式 ('a' )或让你能够读取和写入文件的模式('r+' )。如果你省略了模式实参，Python将以默认的只读模式打 开文件。\n",
    "\n",
    "如果你要写入的文件不存在，函数open() 将自动创建它。然而，以写入('w' )模式打开文件时千万要小心，因为如果指定的文件已经存在，Python将在返回文件对象前清空 该文件。\n",
    "\n",
    "在❷处，我们使用文件对象的方法write() 将一个字符串写入文件。这个程序没有终端输出，但如果你打开文件programming.txt，将看到其中包含如下一行内容:\n",
    "```\n",
    "I love programming.\n",
    "```\n",
    "相比于你的计算机中的其他文件，这个文件没有什么不同。你可以打开它、在其中输入新文本、复制其内容、将内容粘贴到其中等。 \n",
    "\n",
    "**注意**  Python只能将字符串写入文本文件。要将数值数据存储到文本文件中，必须先使用函数str() 将其转换为字符串格式。"
   ]
  },
  {
   "cell_type": "markdown",
   "metadata": {},
   "source": [
    "### 写入多行\n",
    "函数write() 不会在你写入的文本末尾添加换行符，因此如果你写入多行时没有指定换行符，文件看起来可能不是你希望的那样:\n"
   ]
  },
  {
   "cell_type": "code",
   "execution_count": null,
   "metadata": {
    "ExecuteTime": {
     "end_time": "2020-06-30T08:47:49.972901Z",
     "start_time": "2020-06-30T08:47:49.966134Z"
    }
   },
   "outputs": [],
   "source": [
    "filename = 'programming.txt'\n",
    "with open(filename, 'w') as file_object: \n",
    "    file_object.write(\"I love programming.\") \n",
    "    file_object.write(\"I love creating new games.\")"
   ]
  },
  {
   "cell_type": "markdown",
   "metadata": {},
   "source": [
    "如果你打开programming.txt，将发现两行内容挤在一起:\n",
    "```\n",
    "I love programming.I love creating new games.\n",
    "```\n",
    "要让每个字符串都单独占一行，需要在write() 语句中包含换行符:"
   ]
  },
  {
   "cell_type": "code",
   "execution_count": null,
   "metadata": {
    "ExecuteTime": {
     "end_time": "2020-06-30T08:51:01.817992Z",
     "start_time": "2020-06-30T08:51:01.809624Z"
    }
   },
   "outputs": [],
   "source": [
    "filename = 'programming.txt'\n",
    "with open(filename, 'w') as file_object: \n",
    "    file_object.write(\"I love programming.\\n\") \n",
    "    file_object.write(\"I love creating new games.\\n\")\n"
   ]
  },
  {
   "cell_type": "markdown",
   "metadata": {},
   "source": [
    "现在，输出出现在不同行中:"
   ]
  },
  {
   "cell_type": "code",
   "execution_count": null,
   "metadata": {
    "ExecuteTime": {
     "end_time": "2020-06-30T08:52:21.411190Z",
     "start_time": "2020-06-30T08:52:21.402371Z"
    }
   },
   "outputs": [],
   "source": [
    "filename = 'programming.txt'\n",
    "with open(filename, 'r') as file_object: \n",
    "    contents = file_object.read() \n",
    "    print(contents.rstrip())"
   ]
  },
  {
   "cell_type": "markdown",
   "metadata": {},
   "source": [
    "像显示到终端的输出一样，还可以使用空格、制表符和空行来设置这些输出的格式。"
   ]
  },
  {
   "cell_type": "markdown",
   "metadata": {},
   "source": [
    "### 附加到文件\n",
    "如果你要给文件添加内容，而不是覆盖原有的内容，可以附加模式 打开文件。你以附加模式打开文件时，Python不会在返回文件对象前清空文件，而你写入到文件的行都将添加 到文件末尾。如果指定的文件不存在，Python将为你创建一个空文件。\n",
    "\n",
    "下面来修改write_message.py，在既有文件programming.txt中再添加一些你酷爱编程的原因:"
   ]
  },
  {
   "cell_type": "code",
   "execution_count": null,
   "metadata": {
    "ExecuteTime": {
     "end_time": "2020-06-30T08:54:12.191316Z",
     "start_time": "2020-06-30T08:54:12.185160Z"
    }
   },
   "outputs": [],
   "source": [
    "filename = 'programming.txt'\n",
    "with open(filename, 'a') as file_object: # ❶ \n",
    "    file_object.write(\"I also love finding meaning in large datasets.\\n\") # ❷ \n",
    "    file_object.write(\"I love creating apps that can run in a browser.\\n\")"
   ]
  },
  {
   "cell_type": "markdown",
   "metadata": {},
   "source": [
    "在❶处，我们打开文件时指定了实参'a' ，以便将内容附加到文件末尾，而不是覆盖文件原来的内容。在❷处，我们又写入了两行，它们被添加到文件programming.txt末尾:"
   ]
  },
  {
   "cell_type": "code",
   "execution_count": null,
   "metadata": {
    "ExecuteTime": {
     "end_time": "2020-06-30T08:54:39.195968Z",
     "start_time": "2020-06-30T08:54:39.188287Z"
    }
   },
   "outputs": [],
   "source": [
    "filename = 'programming.txt'\n",
    "with open(filename, 'r') as file_object: \n",
    "    contents = file_object.read() \n",
    "    print(contents.rstrip())"
   ]
  },
  {
   "cell_type": "markdown",
   "metadata": {},
   "source": [
    "最终的结果是，文件原来的内容还在，它们后面是我们刚添加的内容。"
   ]
  },
  {
   "cell_type": "markdown",
   "metadata": {},
   "source": [
    "### 动手试一试\n",
    "1. 访客 :编写一个程序，提示用户输入其名字;用户作出响应后，将其名字写入到文件guest.txt中。\n",
    "2. 访客名单 :编写一个while 循环，提示用户输入其名字。用户输入其名字后，在屏幕上打印一句问候语，并将一条访问记录添加到文件guest_book.txt中。确保这个文件中的每条记录都独占一行。\n",
    "3. 关于编程的调查 :编写一个while 循环，询问用户为何喜欢编程。每当用户输入一个原因后，都将其添加到一个存储所有原因的文件中。"
   ]
  },
  {
   "cell_type": "markdown",
   "metadata": {},
   "source": [
    "## 异常\n",
    "Python使用被称为异常 的特殊对象来管理程序执行期间发生的错误。每当发生让Python不知所措的错误时，它都会创建一个异常对象。如果你编写了处理该异常的代码，程序将继续运行;如果你未对异常进行处理，程序将停止，并显示一个traceback，其中包含有关异常的报告。\n",
    "\n",
    "异常是使用try-except 代码块处理的。try-except 代码块让Python执行指定的操作，同时告诉Python发生异常时怎么办。使用了try-except 代码块时，即便出现异常，程序也将继续运行:显示你编写的友好的错误消息，而不是令用户迷惑的traceback。"
   ]
  },
  {
   "cell_type": "markdown",
   "metadata": {},
   "source": [
    "### 处理ZeroDivisionError 异常\n",
    "下面来看一种导致Python引发异常的简单错误。你可能知道不能将一个数字除以0，但我们还是让Python这样做吧:"
   ]
  },
  {
   "cell_type": "code",
   "execution_count": null,
   "metadata": {
    "ExecuteTime": {
     "end_time": "2020-06-30T08:56:23.469821Z",
     "start_time": "2020-06-30T08:56:23.457137Z"
    }
   },
   "outputs": [],
   "source": [
    "print(5/0)"
   ]
  },
  {
   "cell_type": "markdown",
   "metadata": {},
   "source": [
    "显然，Python无法这样做，因此你将看到一个traceback:\n",
    "```\n",
    "ZeroDivisionError                         Traceback (most recent call last)\n",
    "<ipython-input-19-fad870a50e27> in <module>\n",
    "----> 1 print(5/0)\n",
    "\n",
    "❶ ZeroDivisionError: division by zero\n",
    "```\n",
    "在上述traceback中，❶处指出的错误ZeroDivisionError 是一个异常对象。Python无法按你的要求做时，就会创建这种对象。在这种情况下，Python将停止运行程序，并指出 引发了哪种异常，而我们可根据这些信息对程序进行修改。下面我们将告诉Python，发生这种错误时怎么办;这样，如果再次发生这样的错误，我们就有备无患了。"
   ]
  },
  {
   "cell_type": "markdown",
   "metadata": {},
   "source": [
    "### 使用try-except 代码块\n",
    "当你认为可能发生了错误时，可编写一个try-except 代码块来处理可能引发的异常。你让Python尝试运行一些代码，并告诉它如果这些代码引发了指定的异常，该怎么办。 \n",
    "\n",
    "处理ZeroDivisionError 异常的try-except 代码块类似于下面这样:"
   ]
  },
  {
   "cell_type": "code",
   "execution_count": null,
   "metadata": {
    "ExecuteTime": {
     "end_time": "2020-06-30T08:57:46.563722Z",
     "start_time": "2020-06-30T08:57:46.556635Z"
    }
   },
   "outputs": [],
   "source": [
    "try: \n",
    "    print(5/0)\n",
    "except ZeroDivisionError:\n",
    "    print(\"You can't divide by zero!\")"
   ]
  },
  {
   "cell_type": "markdown",
   "metadata": {},
   "source": [
    "我们将导致错误的代码行print(5/0) 放在了一个try 代码块中。如果try 代码块中的代码运行起来没有问题，Python将跳过except 代码块;如果try 代码块中的代码导致了 错误，Python将查找这样的except 代码块，并运行其中的代码，即其中指定的错误与引发的错误相同。\n",
    "\n",
    "在这个示例中，try 代码块中的代码引发了ZeroDivisionError 异常，因此Python指出了该如何解决问题的except 代码块，并运行其中的代码。这样，用户看到的是一条友 好的错误消息，而不是traceback:\n",
    "```\n",
    "You can't divide by zero!\n",
    "```\n",
    "如果try-except 代码块后面还有其他代码，程序将接着运行，因为已经告诉了Python如何处理这种错误。下面来看一个捕获错误后程序将继续运行的示例。"
   ]
  },
  {
   "cell_type": "markdown",
   "metadata": {},
   "source": [
    "### 使用异常避免崩溃\n",
    "发生错误时，如果程序还有工作没有完成，妥善地处理错误就尤其重要。这种情况经常会出现在要求用户提供输入的程序中;如果程序能够妥善地处理无效输入，就能再提示用 户提供有效输入，而不至于崩溃。\n",
    "\n",
    "下面来创建一个只执行除法运算的简单计算器:"
   ]
  },
  {
   "cell_type": "code",
   "execution_count": null,
   "metadata": {
    "ExecuteTime": {
     "end_time": "2020-06-30T09:00:42.291326Z",
     "start_time": "2020-06-30T09:00:38.201884Z"
    }
   },
   "outputs": [],
   "source": [
    "print(\"Give me two numbers, and I'll divide them.\") \n",
    "print(\"Enter 'q' to quit.\")\n",
    "\n",
    "while True:\n",
    "    first_number = input(\"\\nFirst number: \") # ❶\n",
    "    if first_number == 'q': \n",
    "        break\n",
    "    second_number = input(\"Second number: \") # ❷ \n",
    "    if second_number == 'q':\n",
    "        break\n",
    "    answer = int(first_number) / int(second_number) # ❸\n",
    "    print(answer)"
   ]
  },
  {
   "cell_type": "markdown",
   "metadata": {},
   "source": [
    "在❶处，这个程序提示用户输入一个数字，并将其存储到变量first_number 中;如果用户输入的不是表示退出的q，就再提示用户输入一个数字，并将其存储到变 量second_number 中(见❷)。接下来，我们计算这两个数字的商(即answer ，见❸)。这个程序没有采取任何处理错误的措施，因此让它执行除数为0的除法运算时，它将崩溃:\n",
    "```\n",
    "<ipython-input-21-2c56e4014b8b> in <module>\n",
    "      9     if second_number == 'q':\n",
    "     10         break\n",
    "---> 11     answer = int(first_number) / int(second_number) # ❸\n",
    "     12     print(answer)\n",
    "\n",
    "ZeroDivisionError: division by zero\n",
    "```\n",
    "程序崩溃可不好，但让用户看到traceback也不是好主意。不懂技术的用户会被它们搞糊涂，而且如果用户怀有恶意，他会通过traceback获悉你不希望他知道的信息。例如，他将知 道你的程序文件的名称，还将看到部分不能正确运行的代码。有时候，训练有素的攻击者可根据这些信息判断出可对你的代码发起什么样的攻击。"
   ]
  },
  {
   "cell_type": "markdown",
   "metadata": {},
   "source": [
    "### else 代码块\n",
    "通过将可能引发错误的代码放在try-except 代码块中，可提高这个程序抵御错误的能力。错误是执行除法运算的代码行导致的，因此我们需要将它放到try-except 代码块中。这个示例还包含一个else 代码块;依赖于try 代码块成功执行的代码都应放到else 代码块中:"
   ]
  },
  {
   "cell_type": "code",
   "execution_count": null,
   "metadata": {
    "ExecuteTime": {
     "end_time": "2020-06-30T09:03:55.055080Z",
     "start_time": "2020-06-30T09:03:40.102709Z"
    }
   },
   "outputs": [],
   "source": [
    "print(\"Give me two numbers, and I'll divide them.\") \n",
    "print(\"Enter 'q' to quit.\")\n",
    "while True:\n",
    "    first_number = input(\"\\nFirst number: \") \n",
    "    if first_number == 'q':\n",
    "        break\n",
    "    second_number = input(\"Second number: \")\n",
    "    try: # ❶\n",
    "        answer = int(first_number) / int(second_number)\n",
    "    except ZeroDivisionError: # ❷\n",
    "        print(\"You can't divide by 0!\")\n",
    "    else:  # ❸\n",
    "        print(answer)"
   ]
  },
  {
   "cell_type": "markdown",
   "metadata": {},
   "source": [
    "我们让Python尝试执行try 代码块中的除法运算(见❶)，这个代码块只包含可能导致错误的代码。依赖于try 代码块成功执行的代码都放在else 代码块中;在这个示例中，如 果除法运算成功，我们就使用else 代码块来打印结果(见❸)。\n",
    "\n",
    "except 代码块告诉Python，出现ZeroDivisionError 异常时该怎么办(见❷)。如果try 代码块因除零错误而失败，我们就打印一条友好的消息，告诉用户如何避免这种错 误。程序将继续运行，用户根本看不到traceback:\n",
    "```\n",
    "Give me two numbers, and I'll divide them.\n",
    "Enter 'q' to quit.\n",
    "\n",
    "First number: 5\n",
    "Second number: 0\n",
    "You can't divide by 0!\n",
    "\n",
    "First number: 5\n",
    "Second number: 2\n",
    "2.5\n",
    "\n",
    "First number: q\n",
    "```\n"
   ]
  },
  {
   "cell_type": "markdown",
   "metadata": {},
   "source": [
    "try-except-else 代码块的工作原理大致如下:Python尝试执行try 代码块中的代码;只有可能引发异常的代码才需要放在try 语句中。有时候，有一些仅在try 代码块成功 执行时才需要运行的代码;这些代码应放在else 代码块中。except 代码块告诉Python，如果它尝试运行try 代码块中的代码时引发了指定的异常，该怎么办。\n",
    "\n",
    "通过预测可能发生错误的代码，可编写健壮的程序，它们即便面临无效数据或缺少资源，也能继续运行，从而能够抵御无意的用户错误和恶意的攻击。"
   ]
  },
  {
   "cell_type": "markdown",
   "metadata": {},
   "source": [
    "### 处理FileNotFoundError 异常 \n",
    "使用文件时，一种常见的问题是找不到文件:你要查找的文件可能在其他地方、文件名可能不正确或者这个文件根本就不存在。对于所有这些情形，都可使用try-except 代码块以直观的方式进行处理。 \n",
    "\n",
    "我们来尝试读取一个不存在的文件。下面的程序尝试读取文件alice.txt的内容，但我没有将这个文件存储在alice.py所在的目录中:"
   ]
  },
  {
   "cell_type": "code",
   "execution_count": null,
   "metadata": {
    "ExecuteTime": {
     "end_time": "2020-06-30T09:06:56.126281Z",
     "start_time": "2020-06-30T09:06:56.106086Z"
    }
   },
   "outputs": [],
   "source": [
    "filename = 'alice.txt'\n",
    "with open(filename) as f_obj: \n",
    "    contents = f_obj.read()"
   ]
  },
  {
   "cell_type": "markdown",
   "metadata": {},
   "source": [
    "Python无法读取不存在的文件，因此它引发一个异常:\n",
    "```\n",
    "FileNotFoundError                         Traceback (most recent call last)\n",
    "<ipython-input-23-3da490c7a19a> in <module>\n",
    "      1 filename = 'alice.txt'\n",
    "----> 2 with open(filename) as f_obj:\n",
    "      3     contents = f_obj.read()\n",
    "\n",
    "FileNotFoundError: [Errno 2] No such file or directory: 'alice.txt'\n",
    "```\n",
    "在上述traceback中，最后一行报告了FileNotFoundError 异常，这是Python找不到要打开的文件时创建的异常。在这个示例中，这个错误是函数open() 导致的，因此要处理 这个错误，必须将try 语句放在包含open() 的代码行之前:"
   ]
  },
  {
   "cell_type": "code",
   "execution_count": null,
   "metadata": {
    "ExecuteTime": {
     "end_time": "2020-06-30T09:08:14.841869Z",
     "start_time": "2020-06-30T09:08:14.835744Z"
    }
   },
   "outputs": [],
   "source": [
    "filename = 'alice.txt'\n",
    "try:\n",
    "    with open(filename) as f_obj:\n",
    "        contents = f_obj.read() \n",
    "except FileNotFoundError:\n",
    "    msg = \"Sorry, the file \" + filename + \" does not exist.\" \n",
    "    print(msg)"
   ]
  },
  {
   "cell_type": "markdown",
   "metadata": {},
   "source": [
    "在这个示例中，try 代码块引发FileNotFoundError 异常，因此Python找出与该错误匹配的except 代码块，并运行其中的代码。最终的结果是显示一条友好的错误消息，而 不是traceback:\n",
    "```\n",
    "Sorry, the file alice.txt does not exist.\n",
    "```\n",
    "如果文件不存在，这个程序什么都不做，因此错误处理代码的意义不大。下面来扩展这个示例，看看在你使用多个文件时，异常处理可提供什么样的帮助。"
   ]
  },
  {
   "cell_type": "markdown",
   "metadata": {},
   "source": [
    "### 分析文本\n",
    "你可以分析包含整本书的文本文件。很多经典文学作品都是以简单文本文件的方式提供的，因为它们不受版权限制。本节使用的文本来自项目Gutenberg(http://gutenberg.org/ )， 这个项目提供了一系列不受版权限制的文学作品，如果你要在编程项目中使用文学文本，这是一个很不错的资源。\n",
    "\n",
    "下面来提取童话 Alice in Wonderland 的文本，并尝试计算它包含多少个单词。我们将使用方法split() ，它根据一个字符串创建一个单词列表。下面是对只包含童话名\"Alice in Wonderland\"的字符串调用方法split()的结果:"
   ]
  },
  {
   "cell_type": "code",
   "execution_count": null,
   "metadata": {
    "ExecuteTime": {
     "end_time": "2020-06-30T09:13:03.481941Z",
     "start_time": "2020-06-30T09:13:03.469379Z"
    }
   },
   "outputs": [],
   "source": [
    "title = \"Alice in Wonderland\" \n",
    "title.split()"
   ]
  },
  {
   "cell_type": "markdown",
   "metadata": {},
   "source": [
    "方法split() 以空格为分隔符将字符串分拆成多个部分，并将这些部分都存储到一个列表中。结果是一个包含字符串中所有单词的列表，虽然有些单词可能包含标点。为计算 Alice in Wonderland 包含多少个单词，我们将对整篇小说调用split() ，再计算得到的列表包含多少个元素，从而确定整篇童话大致包含多少个单词:"
   ]
  },
  {
   "cell_type": "code",
   "execution_count": null,
   "metadata": {
    "ExecuteTime": {
     "end_time": "2020-06-30T09:14:53.110022Z",
     "start_time": "2020-06-30T09:14:53.095541Z"
    }
   },
   "outputs": [],
   "source": [
    "filename = 'alice.txt'\n",
    "try:\n",
    "    with open(filename) as f_obj:\n",
    "        contents = f_obj.read() \n",
    "except FileNotFoundError:\n",
    "    msg = \"Sorry, the file \" + filename + \" does not exist.\"\n",
    "    print(msg) \n",
    "else:\n",
    "    # 计算文件大致包含多少个单词\n",
    "    words = contents.split() # ❶\n",
    "    num_words = len(words) # ❷\n",
    "    print(\"The file \" + filename + \" has about \" + str(num_words) + \" words.\") # ❸"
   ]
  },
  {
   "cell_type": "markdown",
   "metadata": {},
   "source": [
    "我们把文件alice.txt移到了正确的目录中，让try 代码块能够成功地执行。在❶处，我们对变量contents (它现在是一个长长的字符串，包含童话 Alice in Wonderland 的全部文 本)调用方法split() ，以生成一个列表，其中包含这部童话中的所有单词。当我们使用len() 来确定这个列表的长度时，就知道了原始字符串大致包含多少个单词(见 ❷)。在❸处，我们打印一条消息，指出文件包含多少个单词。这些代码都放在else 代码块中，因为仅当try 代码块成功执行时才执行它们。输出指出了文件alice.txt包含多少 个单词:\n",
    "```\n",
    "The file alice.txt has about 17842 words.\n",
    "```\n",
    "这个数字有点大，因为这里使用的文本文件包含出版商提供的额外信息，但与童话 Alice in Wonderland 的长度相当一致。"
   ]
  },
  {
   "cell_type": "markdown",
   "metadata": {},
   "source": [
    "### 使用多个文件\n",
    "  \n",
    "下面多分析几本书。这样做之前，我们先将这个程序的大部分代码移到一个名为count_words() 的函数中，这样对多本书进行分析时将更容易:"
   ]
  },
  {
   "cell_type": "code",
   "execution_count": null,
   "metadata": {
    "ExecuteTime": {
     "end_time": "2020-06-30T09:17:26.702478Z",
     "start_time": "2020-06-30T09:17:26.691670Z"
    }
   },
   "outputs": [],
   "source": [
    "def count_words(filename):\n",
    "    \"\"\"计算一个文件大致包含多少个单词\"\"\"\n",
    "    try:\n",
    "        with open(filename) as f_obj:\n",
    "            contents = f_obj.read()\n",
    "    except FileNotFoundError:\n",
    "        msg = \"Sorry, the file \" + filename + \" does not exist.\"\n",
    "        print(msg)\n",
    "    else:\n",
    "        # 计算文件大致包含多少个单词\n",
    "        words = contents.split()\n",
    "        num_words = len(words)\n",
    "        print(\"The file \" + filename + \" has about \" + str(num_words) +\n",
    "              \" words.\")\n",
    "\n",
    "\n",
    "filename = 'alice.txt'\n",
    "count_words(filename)"
   ]
  },
  {
   "cell_type": "markdown",
   "metadata": {},
   "source": [
    "这些代码大都与原来一样，我们只是将它们移到了函数count_words() 中，并增加了缩进量。修改程序的同时更新注释是个不错的习惯，因此我们将注释改成了文档字符串， 并稍微调整了一下措辞(见❶)。\n",
    "\n",
    "现在可以编写一个简单的循环，计算要分析的任何文本包含多少个单词了。为此，我们将要分析的文件的名称存储在一个列表中，然后对列表中的每个文件都调 用count_words() 。我们将尝试计算 Alice in Wonderland 、Siddhartha 、Moby Dick分别包含多少个单词，它们都不受版权限制。我故意没有将siddhartha.txt放到 word_count.py所在的目录中，让你能够看到这个程序在文件不存在时处理得有多出色:"
   ]
  },
  {
   "cell_type": "code",
   "execution_count": null,
   "metadata": {
    "ExecuteTime": {
     "end_time": "2020-06-30T09:22:16.911551Z",
     "start_time": "2020-06-30T09:22:16.864276Z"
    }
   },
   "outputs": [],
   "source": [
    "filenames = ['alice.txt', 'siddhartha.txt', 'moby_dick.txt'] \n",
    "for filename in filenames:\n",
    "    count_words(filename)"
   ]
  },
  {
   "cell_type": "markdown",
   "metadata": {},
   "source": [
    "文件siddhartha.txt不存在，但这丝毫不影响这个程序处理其他文件:\n",
    "```\n",
    "The file alice.txt has about 17842 words.\n",
    "Sorry, the file siddhartha.txt does not exist.\n",
    "The file moby_dick.txt has about 215765 words.\n",
    "```\n",
    "在这个示例中，使用try-except 代码块提供了两个重要的优点:避免让用户看到traceback;让程序能够继续分析能够找到的其他文件。如果不捕获因找不到siddhartha.txt而引发 的FileNotFoundError 异常，用户将看到完整的traceback，而程序将在尝试分析 Siddhartha 后停止运行——根本不分析 Moby Dick。"
   ]
  },
  {
   "cell_type": "markdown",
   "metadata": {},
   "source": [
    "### 失败时一声不吭\n",
    "在前一个示例中，我们告诉用户有一个文件找不到。但并非每次捕获到异常时都需要告诉用户，有时候你希望程序在发生异常时一声不吭，就像什么都没有发生一样继续运行。 要让程序在失败时一声不吭，可像通常那样编写try 代码块，但在except 代码块中明确地告诉Python什么都不要做。Python有一个pass 语句，可在代码块中使用它来让Python 什么都不要做:"
   ]
  },
  {
   "cell_type": "code",
   "execution_count": null,
   "metadata": {
    "ExecuteTime": {
     "end_time": "2020-06-30T09:24:34.227960Z",
     "start_time": "2020-06-30T09:24:34.185344Z"
    }
   },
   "outputs": [],
   "source": [
    "def count_words(filename):\n",
    "    \"\"\"计算一个文件大致包含多少个单词\"\"\"\n",
    "    try:\n",
    "        with open(filename) as f_obj:\n",
    "            contents = f_obj.read()\n",
    "    except FileNotFoundError:\n",
    "        pass # ❶\n",
    "    else:\n",
    "        # 计算文件大致包含多少个单词\n",
    "        words = contents.split()\n",
    "        num_words = len(words)\n",
    "        print(\"The file \" + filename + \" has about \" + str(num_words) +\n",
    "              \" words.\")\n",
    "\n",
    "\n",
    "filenames = ['alice.txt', 'siddhartha.txt', 'moby_dick.txt']\n",
    "for filename in filenames:\n",
    "    count_words(filename)"
   ]
  },
  {
   "cell_type": "markdown",
   "metadata": {},
   "source": [
    "相比于前一个程序，这个程序唯一不同的地方是❶处的pass 语句。现在，出现FileNotFoundError 异常时，将执行except 代码块中的代码，但什么都不会发生。这种错误 发生时，不会出现traceback，也没有任何输出。用户将看到存在的每个文件包含多少个单词，但没有任何迹象表明有一个文件未找到\n",
    "```\n",
    "The file alice.txt has about 17842 words.\n",
    "The file moby_dick.txt has about 215765 words.\n",
    "```\n",
    "pass 语句还充当了占位符，它提醒你在程序的某个地方什么都没有做，并且以后也许要在这里做些什么。例如，在这个程序中，我们可能决定将找不到的文件的名称写入到文 件missing_files.txt中。用户看不到这个文件，但我们可以读取这个文件，进而处理所有文件找不到的问题。"
   ]
  },
  {
   "cell_type": "markdown",
   "metadata": {},
   "source": [
    "### 决定报告哪些错误\n",
    "在什么情况下该向用户报告错误?在什么情况下又应该在失败时一声不吭呢?如果用户知道要分析哪些文件，他们可能希望在有文件没有分析时出现一条消息，将其中的原因告 诉他们。如果用户只想看到结果，而并不知道要分析哪些文件，可能就无需在有些文件不存在时告知他们。向用户显示他不想看到的信息可能会降低程序的可用性。Python的错误 处理结构让你能够细致地控制与用户分享错误信息的程度，要分享多少信息由你决定。\n",
    "\n",
    "编写得很好且经过详尽测试的代码不容易出现内部错误，如语法或逻辑错误，但只要程序依赖于外部因素，如用户输入、存在指定的文件、有网络链接，就有可能出现异常。凭 借经验可判断该在程序的什么地方包含异常处理块，以及出现错误时该向用户提供多少相关的信息。"
   ]
  },
  {
   "cell_type": "markdown",
   "metadata": {},
   "source": [
    "### 动手试一试\n",
    "1. 加法运算 :提示用户提供数值输入时，常出现的一个问题是，用户提供的是文本而不是数字。在这种情况下，当你尝试将输入转换为整数时，将引 发TypeError 异常。编写一个程序，提示用户输入两个数字，再将它们相加并打印结果。在用户输入的任何一个值不是数字时都捕获TypeError 异常，并打印一条友好的错误消息。对你编写的程序进行测试:先输入两个数字，再输入一些文本而不是数字。\n",
    "2. 加法计算器 :将你为完成练习1而编写的代码放在一个while 循环中，让用户犯错(输入的是文本而不是数字)后能够继续输入数字。\n",
    "3. 猫和狗 :创建两个文件cats.txt和dogs.txt，在第一个文件中至少存储三只猫的名字，在第二个文件中至少存储三条狗的名字。编写一个程序，尝试读取这些文件， 并将其内容打印到屏幕上。将这些代码放在一个try-except 代码块中，以便在文件不存在时捕获FileNotFound 错误，并打印一条友好的消息。将其中一个文件 移到另一个地方，并确认except 代码块中的代码将正确地执行。\n",
    "4. 沉默的猫和狗 :修改你在练习3中编写的except 代码块，让程序在文件不存在时一言不发。\n",
    "5. 常见单词 :访问项目Gutenberg(http://gutenberg.org/ )，并找一些你想分析的图书。下载这些作品的文本文件或将浏览器中的原始文本复制到文本文件中。 你可以使用方法count() 来确定特定的单词或短语在字符串中出现了多少次。例如，下面的代码计算'row' 在一个字符串中出现了多少次:\n",
    "```\n",
    ">>> line = \"Row, row, row your boat\" >>> line.count('row')\n",
    "2\n",
    ">>> line.lower().count('row')\n",
    "3\n",
    "```\n",
    "请注意，通过使用lower() 将字符串转换为小写，可捕捉要查找的单词出现的所有次数，而不管其大小写格式如何。   \n",
    "编写一个程序，它读取你在项目Gutenberg中获取的文件，并计算单词'the' 在每个文件中分别出现了多少次。"
   ]
  },
  {
   "cell_type": "markdown",
   "metadata": {},
   "source": [
    "## 存储数据 \n",
    "很多程序都要求用户输入某种信息，如让用户存储游戏首选项或提供要可视化的数据。不管专注的是什么，程序都把用户提供的信息存储在列表和字典等数据结构中。用户关闭程序时，你几乎总是要保存他们提供的信息;一种简单的方式是使用模块json 来存储数据。\n",
    "\n",
    "模块json 让你能够将简单的Python数据结构转储到文件中，并在程序再次运行时加载该文件中的数据。你还可以使用json 在Python程序之间分享数据。更重要的是，JSON数据格式并非Python专用的，这让你能够将以JSON格式存储的数据与使用其他编程语言的人分享。这是一种轻便格式，很有用，也易于学习。 \n",
    "\n",
    "**注意**  JSON(JavaScript Object Notation)格式最初是为JavaScript开发的，但随后成了一种常见格式，被包括Python在内的众多语言采用。"
   ]
  },
  {
   "cell_type": "markdown",
   "metadata": {},
   "source": [
    "### 使用json.dump() 和json.load() \n",
    "我们来编写一个存储一组数字的简短程序，再编写一个将这些数字读取到内存中的程序。第一个程序将使用json.dump() 来存储这组数字，而第二个程序将使用json.load() 。\n",
    "\n",
    "函数json.dump() 接受两个实参:要存储的数据以及可用于存储数据的文件对象。下面演示了如何使用json.dump() 来存储数字列表:"
   ]
  },
  {
   "cell_type": "code",
   "execution_count": null,
   "metadata": {
    "ExecuteTime": {
     "end_time": "2020-06-30T10:13:34.646864Z",
     "start_time": "2020-06-30T10:13:34.634950Z"
    }
   },
   "outputs": [],
   "source": [
    "import json\n",
    "numbers = [2, 3, 5, 7, 11, 13]\n",
    "filename = 'numbers.json' # ❶ \n",
    "with open(filename, 'w') as f_obj: # ❷ \n",
    "    json.dump(numbers, f_obj) # ❸ "
   ]
  },
  {
   "cell_type": "markdown",
   "metadata": {},
   "source": [
    "我们先导入模块json ，再创建一个数字列表。在❶处，我们指定了要将该数字列表存储到其中的文件的名称。通常使用文件扩展名.json来指出文件存储的数据为JSON格式。接 下来，我们以写入模式打开这个文件，让json 能够将数据写入其中(见❷)。在❸处，我们使用函数json.dump() 将数字列表存储到文件numbers.json中。\n",
    "\n",
    "这个程序没有输出，但我们可以打开文件numbers.json，看看其内容。数据的存储格式与Python中一样:\n",
    "```\n",
    "[2, 3, 5, 7, 11, 13]\n",
    "```\n",
    "下面再编写一个程序，使用json.load() 将这个列表读取到内存中:"
   ]
  },
  {
   "cell_type": "code",
   "execution_count": null,
   "metadata": {
    "ExecuteTime": {
     "end_time": "2020-06-30T10:15:09.193956Z",
     "start_time": "2020-06-30T10:15:09.173277Z"
    }
   },
   "outputs": [],
   "source": [
    "import json\n",
    "filename = 'numbers.json' # ❶ \n",
    "with open(filename) as f_obj: # ❷ \n",
    "    numbers = json.load(f_obj) # ❸ \n",
    "print(numbers)"
   ]
  },
  {
   "cell_type": "markdown",
   "metadata": {},
   "source": [
    "在❶处，我们确保读取的是前面写入的文件。这次我们以读取方式打开这个文件，因为Python只需读取这个文件(见❷)。在❸处，我们使用函数json.load() 加载存储在 numbers.json中的信息，并将其存储到变量numbers 中。最后，我们打印恢复的数字列表，看看它是否与number_writer.py中创建的数字列表相同:\n",
    "```\n",
    "[2, 3, 5, 7, 11, 13]\n",
    "```\n",
    "这是一种在程序之间共享数据的简单方式。"
   ]
  },
  {
   "cell_type": "markdown",
   "metadata": {},
   "source": [
    "### 保存和读取用户生成的数据\n",
    "对于用户生成的数据，使用json 保存它们大有裨益，因为如果不以某种方式进行存储，等程序停止运行时用户的信息将丢失。下面来看一个这样的例子:用户首次运行程序时 被提示输入自己的名字，这样再次运行程序时就记住他了。\n",
    "\n",
    "我们先来存储用户的名字:"
   ]
  },
  {
   "cell_type": "code",
   "execution_count": null,
   "metadata": {
    "ExecuteTime": {
     "end_time": "2020-06-30T10:18:09.813018Z",
     "start_time": "2020-06-30T10:18:00.422592Z"
    }
   },
   "outputs": [],
   "source": [
    "import json\n",
    "username = input(\"What is your name? \") # ❶ \n",
    "filename = 'username.json'\n",
    "with open(filename, 'w') as f_obj:\n",
    "    json.dump(username, f_obj) # ❷ \n",
    "    print(\"We'll remember you when you come back, \" + username + \"!\") # ❸ "
   ]
  },
  {
   "cell_type": "markdown",
   "metadata": {},
   "source": [
    "在❶处，我们提示输入用户名，并将其存储在一个变量中。接下来，我们调用json.dump() ，并将用户名和一个文件对象传递给它，从而将用户名存储到文件中(见❷)。然 后，我们打印一条消息，指出我们存储了他输入的信息(见❸):\n",
    "```\n",
    "What is your name? liuhanjun\n",
    "We'll remember you when you come back, liuhanjun!\n",
    "```\n",
    "现在再编写一个程序，向其名字被存储的用户发出问候:"
   ]
  },
  {
   "cell_type": "code",
   "execution_count": null,
   "metadata": {
    "ExecuteTime": {
     "end_time": "2020-06-30T10:19:10.712830Z",
     "start_time": "2020-06-30T10:19:10.694148Z"
    }
   },
   "outputs": [],
   "source": [
    "import json\n",
    "filename = 'username.json'\n",
    "with open(filename) as f_obj:\n",
    "    username = json.load(f_obj) # ❶ \n",
    "    print(\"Welcome back, \" + username + \"!\") # ❷ "
   ]
  },
  {
   "cell_type": "markdown",
   "metadata": {},
   "source": [
    "在❶处，我们使用json.load() 将存储在username.json中的信息读取到变量username 中。恢复用户名后，我们就可以欢迎用户回来了(见❷):\n",
    "```\n",
    "Welcome back, liuhanjun!\n",
    "```\n",
    "我们需要将这两个程序合并到一个程序(remember_me.py)中。这个程序运行时，我们将尝试从文件username.json中获取用户名，因此我们首先编写一个尝试恢复用户名的try 代 码块。如果这个文件不存在，我们就在except 代码块中提示用户输入用户名，并将其存储在username.json中，以便程序再次运行时能够获取它:"
   ]
  },
  {
   "cell_type": "code",
   "execution_count": null,
   "metadata": {
    "ExecuteTime": {
     "end_time": "2020-06-30T10:21:35.736031Z",
     "start_time": "2020-06-30T10:21:35.726939Z"
    }
   },
   "outputs": [],
   "source": [
    "import json\n",
    "# 如果以前存储了用户名，就加载它\n",
    "# 否则，就提示用户输入用户名并存储它 \n",
    "filename = 'username.json'\n",
    "try: \n",
    "    with open(filename) as f_obj: # ❶\n",
    "        username = json.load(f_obj) # ❷ \n",
    "except FileNotFoundError: #  ❸\n",
    "    username = input(\"What is your name? \") # ❹\n",
    "    with open(filename, 'w') as f_obj: # ❺\n",
    "        json.dump(username, f_obj)\n",
    "        print(\"We'll remember you when you come back, \" + username + \"!\")\n",
    "else:\n",
    "    print(\"Welcome back, \" + username + \"!\")"
   ]
  },
  {
   "cell_type": "markdown",
   "metadata": {},
   "source": [
    "这里没有任何新代码，只是将前两个示例的代码合并到了一个程序中。在❶处，我们尝试打开文件username.json。如果这个文件存在，就将其中的用户名读取到内存中(见❷)， 再执行else 代码块，即打印一条欢迎用户回来的消息。用户首次运行这个程序时，文件username.json不存在，将引发FileNotFoundError 异常(见❸)，因此Python将执 行except 代码块:提示用户输入其用户名(见❹)，再使用json.dump() 存储该用户名，并打印一句问候语(见❺)。\n",
    "\n",
    "无论执行的是except 代码块还是else 代码块，都将显示用户名和合适的问候语。如果这个程序是首次运行，输出将如下:\n",
    "```\n",
    "What is your name? liuhanjun\n",
    "We'll remember you when you come back, liuhanjun!\n",
    "```\n",
    "否则，输出将如下:\n",
    "```\n",
    "Welcome back, liuhanjun!\n",
    "```\n",
    "这是程序之前至少运行了一次时的输出。"
   ]
  },
  {
   "cell_type": "markdown",
   "metadata": {},
   "source": [
    "### 重构\n",
    "你经常会遇到这样的情况:代码能够正确地运行，但可做进一步的改进——将代码划分为一系列完成具体工作的函数。这样的过程被称为重构 。重构让代码更清晰、更易于理 解、更容易扩展。\n",
    "\n",
    "要重构remember_me.py，可将其大部分逻辑放到一个或多个函数中。remember_me.py的重点是问候用户，因此我们将其所有代码都放到一个名为greet_user() 的函数中:"
   ]
  },
  {
   "cell_type": "code",
   "execution_count": null,
   "metadata": {
    "ExecuteTime": {
     "end_time": "2020-06-30T10:25:03.553067Z",
     "start_time": "2020-06-30T10:25:03.532049Z"
    }
   },
   "outputs": [],
   "source": [
    "import json\n",
    "\n",
    "\n",
    "def greet_user():\n",
    "    \"\"\"问候用户，并指出其名字\"\"\"  # ❶\n",
    "    filename = 'username.json'\n",
    "    try:\n",
    "        with open(filename) as f_obj:\n",
    "            username = json.load(f_obj)\n",
    "    except FileNotFoundError:\n",
    "        username = input(\"What is your name? \")\n",
    "        with open(filename, 'w') as f_obj:\n",
    "            json.dump(username, f_obj)\n",
    "            print(\"We'll remember you when you come back, \" + username + \"!\")\n",
    "    else:\n",
    "        print(\"Welcome back, \" + username + \"!\")\n",
    "\n",
    "\n",
    "greet_user()"
   ]
  },
  {
   "cell_type": "markdown",
   "metadata": {},
   "source": [
    "考虑到现在使用了一个函数，我们删除了注释，转而使用一个文档字符串来指出程序是做什么的(见❶)。这个程序更清晰些，但函数greet_user() 所做的不仅仅是问候用 户，还在存储了用户名时获取它，而在没有存储用户名时提示用户输入一个。\n",
    "\n",
    "下面来重构greet_user() ，让它不执行这么多任务。为此，我们首先将获取存储的用户名的代码移到另一个函数中:"
   ]
  },
  {
   "cell_type": "code",
   "execution_count": null,
   "metadata": {
    "ExecuteTime": {
     "end_time": "2020-06-30T10:30:42.744255Z",
     "start_time": "2020-06-30T10:30:42.734494Z"
    }
   },
   "outputs": [],
   "source": [
    "import json\n",
    "\n",
    "\n",
    "def get_stored_username():\n",
    "    \"\"\"如果存储了用户名，就获取它\"\"\"  # ❶\n",
    "    filename = 'username.json'\n",
    "    try:\n",
    "        with open(filename) as f_obj:\n",
    "            username = json.load(f_obj)\n",
    "    except FileNotFoundError:\n",
    "        return None  # ❷\n",
    "    else:\n",
    "        return username\n",
    "\n",
    "\n",
    "def greet_user():\n",
    "    \"\"\"问候用户，并指出其名字\"\"\"\n",
    "    username = get_stored_username()\n",
    "    if username: # ❸\n",
    "        print(\"Welcome back, \" + username + \"!\")\n",
    "    else:\n",
    "        username = input(\"What is your name? \")\n",
    "        filename = 'username.json'\n",
    "        with open(filename, 'w') as f_obj:\n",
    "            json.dump(username, f_obj)\n",
    "            print(\"We'll remember you when you come back, \" + username + \"!\")\n",
    "\n",
    "\n",
    "greet_user()"
   ]
  },
  {
   "cell_type": "markdown",
   "metadata": {},
   "source": [
    "新增的函数get_stored_username() 目标明确，❶处的文档字符串指出了这一点。如果存储了用户名，这个函数就获取并返回它;如果文件username.json不存在，这个函数 就返回None (见❷)。这是一种不错的做法:函数要么返回预期的值，要么返回None ;这让我们能够使用函数的返回值做简单测试。在❸处，如果成功地获取了用户名，就打 印一条欢迎用户回来的消息，否则就提示用户输入用户名。\n",
    "\n",
    "我们还需将greet_user() 中的另一个代码块提取出来:将没有存储用户名时提示用户输入的代码放在一个独立的函数中:"
   ]
  },
  {
   "cell_type": "code",
   "execution_count": null,
   "metadata": {
    "ExecuteTime": {
     "end_time": "2020-06-30T10:34:19.658847Z",
     "start_time": "2020-06-30T10:34:19.647252Z"
    }
   },
   "outputs": [],
   "source": [
    "import json\n",
    "\n",
    "\n",
    "def get_stored_username():\n",
    "    \"\"\"如果存储了用户名，就获取它\"\"\"\n",
    "    filename = 'username.json'\n",
    "    try:\n",
    "        with open(filename) as f_obj:\n",
    "            username = json.load(f_obj)\n",
    "    except FileNotFoundError:\n",
    "        return None\n",
    "    else:\n",
    "        return username\n",
    "\n",
    "\n",
    "def get_new_username():\n",
    "    \"\"\"提示用户输入用户名\"\"\"\n",
    "    username = input(\"What is your name? \")\n",
    "    filename = 'username.json'\n",
    "    with open(filename, 'w') as f_obj:\n",
    "        json.dump(username, f_obj)\n",
    "    return username\n",
    "\n",
    "\n",
    "def greet_user():\n",
    "    \"\"\"问候用户，并指出其名字\"\"\"\n",
    "    username = get_stored_username()\n",
    "    if username:\n",
    "        print(\"Welcome back, \" + username + \"!\")\n",
    "    else:\n",
    "        username = get_new_username()\n",
    "        print(\"We'll remember you when you come back, \" + username + \"!\")\n",
    "\n",
    "\n",
    "greet_user()"
   ]
  },
  {
   "cell_type": "markdown",
   "metadata": {},
   "source": [
    "在remember_me.py的这个最终版本中，每个函数都执行单一而清晰的任务。我们调用greet_user() ，它打印一条合适的消息:要么欢迎老用户回来，要么问候新用户。为此， 它首先调用get_stored_username() ，这个函数只负责获取存储的用户名(如果存储了的话)，再在必要时调用get_new_username() ，这个函数只负责获取并存储新 用户的用户名。要编写出清晰而易于维护和扩展的代码，这种划分工作必不可少。"
   ]
  },
  {
   "cell_type": "markdown",
   "metadata": {},
   "source": [
    "### 动手试一试\n",
    "1. 喜欢的数字 :编写一个程序，提示用户输入他喜欢的数字，并使用json.dump() 将这个数字存储到文件中。再编写一个程序，从文件中读取这个值，并打印消息“I know your favorite number! It's _____.”。\n",
    "2. 记住喜欢的数字 :将练习1中的两个程序合而为一。如果存储了用户喜欢的数字，就向用户显示它，否则提示用户输入他喜欢的数字并将其存储到文件中。运行这个程序两次，看看它是否像预期的那样工作。\n",
    "3. 验证用户 :最后一个remember_me.py版本假设用户要么已输入其用户名，要么是首次运行该程序。我们应修改这个程序，以应对这样的情形:当前和最后一次 运行该程序的用户并非同一个人。为此，在greet_user() 中打印欢迎用户回来的消息前，先询问他用户名是否是对的。如果不对，就调用get_new_username() 让用户输入正确的用户名。"
   ]
  },
  {
   "cell_type": "code",
   "execution_count": null,
   "metadata": {},
   "outputs": [],
   "source": []
  }
 ],
 "metadata": {
  "kernelspec": {
   "display_name": "Python 3",
   "language": "python",
   "name": "python3"
  },
  "language_info": {
   "codemirror_mode": {
    "name": "ipython",
    "version": 3
   },
   "file_extension": ".py",
   "mimetype": "text/x-python",
   "name": "python",
   "nbconvert_exporter": "python",
   "pygments_lexer": "ipython3",
   "version": "3.8.2"
  },
  "toc": {
   "base_numbering": 1,
   "nav_menu": {},
   "number_sections": true,
   "sideBar": true,
   "skip_h1_title": false,
   "title_cell": "目录",
   "title_sidebar": "目录",
   "toc_cell": true,
   "toc_position": {},
   "toc_section_display": true,
   "toc_window_display": false
  },
  "varInspector": {
   "cols": {
    "lenName": 16,
    "lenType": 16,
    "lenVar": 40
   },
   "kernels_config": {
    "python": {
     "delete_cmd_postfix": "",
     "delete_cmd_prefix": "del ",
     "library": "var_list.py",
     "varRefreshCmd": "print(var_dic_list())"
    },
    "r": {
     "delete_cmd_postfix": ") ",
     "delete_cmd_prefix": "rm(",
     "library": "var_list.r",
     "varRefreshCmd": "cat(var_dic_list()) "
    }
   },
   "types_to_exclude": [
    "module",
    "function",
    "builtin_function_or_method",
    "instance",
    "_Feature"
   ],
   "window_display": false
  }
 },
 "nbformat": 4,
 "nbformat_minor": 4
}
