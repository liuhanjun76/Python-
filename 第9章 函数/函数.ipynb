{
 "cells": [
  {
   "cell_type": "markdown",
   "metadata": {
    "toc": true
   },
   "source": [
    "<h1>目录<span class=\"tocSkip\"></span></h1>\n",
    "<div class=\"toc\"><ul class=\"toc-item\"><li><span><a href=\"#函数\" data-toc-modified-id=\"函数-1\"><span class=\"toc-item-num\">1&nbsp;&nbsp;</span>函数</a></span><ul class=\"toc-item\"><li><span><a href=\"#定义函数\" data-toc-modified-id=\"定义函数-1.1\"><span class=\"toc-item-num\">1.1&nbsp;&nbsp;</span>定义函数</a></span><ul class=\"toc-item\"><li><span><a href=\"#向函数传递信息\" data-toc-modified-id=\"向函数传递信息-1.1.1\"><span class=\"toc-item-num\">1.1.1&nbsp;&nbsp;</span>向函数传递信息</a></span></li><li><span><a href=\"#实参和形参\" data-toc-modified-id=\"实参和形参-1.1.2\"><span class=\"toc-item-num\">1.1.2&nbsp;&nbsp;</span>实参和形参</a></span></li><li><span><a href=\"#动手试一试\" data-toc-modified-id=\"动手试一试-1.1.3\"><span class=\"toc-item-num\">1.1.3&nbsp;&nbsp;</span>动手试一试</a></span></li></ul></li><li><span><a href=\"#传递实参\" data-toc-modified-id=\"传递实参-1.2\"><span class=\"toc-item-num\">1.2&nbsp;&nbsp;</span>传递实参</a></span><ul class=\"toc-item\"><li><span><a href=\"#位置实参\" data-toc-modified-id=\"位置实参-1.2.1\"><span class=\"toc-item-num\">1.2.1&nbsp;&nbsp;</span>位置实参</a></span><ul class=\"toc-item\"><li><span><a href=\"#调用函数多次\" data-toc-modified-id=\"调用函数多次-1.2.1.1\"><span class=\"toc-item-num\">1.2.1.1&nbsp;&nbsp;</span>调用函数多次</a></span></li><li><span><a href=\"#位置实参的顺序很重要\" data-toc-modified-id=\"位置实参的顺序很重要-1.2.1.2\"><span class=\"toc-item-num\">1.2.1.2&nbsp;&nbsp;</span>位置实参的顺序很重要</a></span></li></ul></li><li><span><a href=\"#关键字实参\" data-toc-modified-id=\"关键字实参-1.2.2\"><span class=\"toc-item-num\">1.2.2&nbsp;&nbsp;</span>关键字实参</a></span></li><li><span><a href=\"#默认值\" data-toc-modified-id=\"默认值-1.2.3\"><span class=\"toc-item-num\">1.2.3&nbsp;&nbsp;</span>默认值</a></span></li><li><span><a href=\"#等效的函数调用\" data-toc-modified-id=\"等效的函数调用-1.2.4\"><span class=\"toc-item-num\">1.2.4&nbsp;&nbsp;</span>等效的函数调用</a></span></li><li><span><a href=\"#避免实参错误\" data-toc-modified-id=\"避免实参错误-1.2.5\"><span class=\"toc-item-num\">1.2.5&nbsp;&nbsp;</span>避免实参错误</a></span></li><li><span><a href=\"#动手试一试\" data-toc-modified-id=\"动手试一试-1.2.6\"><span class=\"toc-item-num\">1.2.6&nbsp;&nbsp;</span>动手试一试</a></span></li></ul></li><li><span><a href=\"#返回值\" data-toc-modified-id=\"返回值-1.3\"><span class=\"toc-item-num\">1.3&nbsp;&nbsp;</span>返回值</a></span><ul class=\"toc-item\"><li><span><a href=\"#返回简单值\" data-toc-modified-id=\"返回简单值-1.3.1\"><span class=\"toc-item-num\">1.3.1&nbsp;&nbsp;</span>返回简单值</a></span></li><li><span><a href=\"#让实参变成可选的\" data-toc-modified-id=\"让实参变成可选的-1.3.2\"><span class=\"toc-item-num\">1.3.2&nbsp;&nbsp;</span>让实参变成可选的</a></span></li><li><span><a href=\"#返回字典\" data-toc-modified-id=\"返回字典-1.3.3\"><span class=\"toc-item-num\">1.3.3&nbsp;&nbsp;</span>返回字典</a></span></li><li><span><a href=\"#结合使用函数和while-循环\" data-toc-modified-id=\"结合使用函数和while-循环-1.3.4\"><span class=\"toc-item-num\">1.3.4&nbsp;&nbsp;</span>结合使用函数和while 循环</a></span></li><li><span><a href=\"#动手试一试\" data-toc-modified-id=\"动手试一试-1.3.5\"><span class=\"toc-item-num\">1.3.5&nbsp;&nbsp;</span>动手试一试</a></span></li></ul></li><li><span><a href=\"#传递列表\" data-toc-modified-id=\"传递列表-1.4\"><span class=\"toc-item-num\">1.4&nbsp;&nbsp;</span>传递列表</a></span><ul class=\"toc-item\"><li><span><a href=\"#在函数中修改列表\" data-toc-modified-id=\"在函数中修改列表-1.4.1\"><span class=\"toc-item-num\">1.4.1&nbsp;&nbsp;</span>在函数中修改列表</a></span></li><li><span><a href=\"#禁止函数修改列表\" data-toc-modified-id=\"禁止函数修改列表-1.4.2\"><span class=\"toc-item-num\">1.4.2&nbsp;&nbsp;</span>禁止函数修改列表</a></span></li><li><span><a href=\"#动手试一试\" data-toc-modified-id=\"动手试一试-1.4.3\"><span class=\"toc-item-num\">1.4.3&nbsp;&nbsp;</span>动手试一试</a></span></li></ul></li><li><span><a href=\"#传递任意数量的实参\" data-toc-modified-id=\"传递任意数量的实参-1.5\"><span class=\"toc-item-num\">1.5&nbsp;&nbsp;</span>传递任意数量的实参</a></span><ul class=\"toc-item\"><li><span><a href=\"#结合使用位置实参和任意数量实参\" data-toc-modified-id=\"结合使用位置实参和任意数量实参-1.5.1\"><span class=\"toc-item-num\">1.5.1&nbsp;&nbsp;</span>结合使用位置实参和任意数量实参</a></span></li><li><span><a href=\"#使用任意数量的关键字实参\" data-toc-modified-id=\"使用任意数量的关键字实参-1.5.2\"><span class=\"toc-item-num\">1.5.2&nbsp;&nbsp;</span>使用任意数量的关键字实参</a></span></li><li><span><a href=\"#动手试一试\" data-toc-modified-id=\"动手试一试-1.5.3\"><span class=\"toc-item-num\">1.5.3&nbsp;&nbsp;</span>动手试一试</a></span></li></ul></li><li><span><a href=\"#将函数存储在模块中\" data-toc-modified-id=\"将函数存储在模块中-1.6\"><span class=\"toc-item-num\">1.6&nbsp;&nbsp;</span>将函数存储在模块中</a></span><ul class=\"toc-item\"><li><span><a href=\"#导入整个模块\" data-toc-modified-id=\"导入整个模块-1.6.1\"><span class=\"toc-item-num\">1.6.1&nbsp;&nbsp;</span>导入整个模块</a></span></li><li><span><a href=\"#导入特定的函数\" data-toc-modified-id=\"导入特定的函数-1.6.2\"><span class=\"toc-item-num\">1.6.2&nbsp;&nbsp;</span>导入特定的函数</a></span></li><li><span><a href=\"#使用as-给函数指定别名\" data-toc-modified-id=\"使用as-给函数指定别名-1.6.3\"><span class=\"toc-item-num\">1.6.3&nbsp;&nbsp;</span>使用as 给函数指定别名</a></span></li><li><span><a href=\"#使用as-给模块指定别名\" data-toc-modified-id=\"使用as-给模块指定别名-1.6.4\"><span class=\"toc-item-num\">1.6.4&nbsp;&nbsp;</span>使用as 给模块指定别名</a></span></li><li><span><a href=\"#导入模块中的所有函数\" data-toc-modified-id=\"导入模块中的所有函数-1.6.5\"><span class=\"toc-item-num\">1.6.5&nbsp;&nbsp;</span>导入模块中的所有函数</a></span></li></ul></li><li><span><a href=\"#函数编写指南\" data-toc-modified-id=\"函数编写指南-1.7\"><span class=\"toc-item-num\">1.7&nbsp;&nbsp;</span>函数编写指南</a></span><ul class=\"toc-item\"><li><span><a href=\"#动手试一试\" data-toc-modified-id=\"动手试一试-1.7.1\"><span class=\"toc-item-num\">1.7.1&nbsp;&nbsp;</span>动手试一试</a></span></li></ul></li></ul></li></ul></div>"
   ]
  },
  {
   "cell_type": "markdown",
   "metadata": {},
   "source": [
    "# 函数\n",
    "在本章中，你将学习编写函数 。函数是带名字的代码块，用于完成具体的工作。\n",
    "\n",
    "要执行函数定义的特定任务，可调用该函数。需要在程序中多次执行同一项任务时，你无需反复编写完成该任务的代码，而只需调用执行该任务的函数，让Python运行 其中的代码。你将发现，通过使用函数，程序的编写、阅读、测试和修复都将更容易。\n",
    "\n",
    "在本章中，你还会学习向函数传递信息的方式。你将学习如何编写主要任务是显示信息的函数，还有用于处理数据并返回一个或一组值的函数。最后，你将学习如何 将函数存储在被称为模块 的独立文件中，让主程序文件的组织更为有序。"
   ]
  },
  {
   "cell_type": "markdown",
   "metadata": {},
   "source": [
    "## 定义函数 \n",
    "下面是一个打印问候语的简单函数，名为greet_user() :"
   ]
  },
  {
   "cell_type": "code",
   "execution_count": null,
   "metadata": {
    "ExecuteTime": {
     "end_time": "2020-06-29T15:03:48.280072Z",
     "start_time": "2020-06-29T15:03:48.274600Z"
    }
   },
   "outputs": [],
   "source": [
    "def greet_user():  # ❶\n",
    "    \"\"\"显示简单的问候语\"\"\"  # ❷\n",
    "    print(\"Hello!\")  # ❸\n",
    "\n",
    "\n",
    "greet_user()  # ❹"
   ]
  },
  {
   "cell_type": "markdown",
   "metadata": {},
   "source": [
    "这个示例演示了最简单的函数结构。❶处的代码行使用关键字def 来告诉Python你要定义一个函数。这是函数定义 ，向Python指出了函数名，还可能在括号内指出函数为完成其 任务需要什么样的信息。在这里，函数名为greet_user() ，它不需要任何信息就能完成其工作，因此括号是空的(即便如此，括号也必不可少)。最后，定义以冒号结尾。\n",
    "\n",
    "紧跟在def greet_user(): 后面的所有缩进行构成了函数体。❷处的文本是被称为文档字符串 (docstring)的注释，描述了函数是做什么的。文档字符串用三引号括 起，Python使用它们来生成有关程序中函数的文档。\n",
    "\n",
    "代码行print(\"Hello!\") (见❸)是函数体内的唯一一行代码，greet_user() 只做一项工作:打印Hello! 。\n",
    "\n",
    "要使用这个函数，可调用它。函数调用 让Python执行函数的代码。要调用 函数，可依次指定函数名以及用括号括起的必要信息，如❹处所示。由于这个函数不需要任何信息，因 此调用它时只需输入greet_user() 即可。和预期的一样，它打印Hello! :\n",
    "```\n",
    "Hello!\n",
    "```"
   ]
  },
  {
   "cell_type": "markdown",
   "metadata": {},
   "source": [
    "### 向函数传递信息\n",
    "只需稍作修改，就可以让函数greet_user()不仅向用户显示Hello!，还将用户的名字用作抬头。为此，可在函数定义def greet_user()的括号内添加username。通 过在这里添加username ，就可让函数接受你给username 指定的任何值。现在，这个函数要求你调用它时给username 指定一个值。调用greet_user() 时，可将一个名字 传递给它，如下所示:"
   ]
  },
  {
   "cell_type": "code",
   "execution_count": null,
   "metadata": {
    "ExecuteTime": {
     "end_time": "2020-06-29T15:05:34.075280Z",
     "start_time": "2020-06-29T15:05:34.068753Z"
    }
   },
   "outputs": [],
   "source": [
    "def greet_user(username):\n",
    "    \"\"\"显示简单的问候语\"\"\"\n",
    "    print(\"Hello, \" + username.title() + \"!\")\n",
    "\n",
    "\n",
    "greet_user('jesse')"
   ]
  },
  {
   "cell_type": "markdown",
   "metadata": {},
   "source": [
    "代码greet_user('jesse') 调用函数greet_user() ，并向它提供执行print 语句所需的信息。这个函数接受你传递给它的名字，并向这个人发出问候:\n",
    "```\n",
    "Hello, Jesse!\n",
    "```\n",
    "同样，greet_user('sarah')调用函数greet_user()并向它传递'sarah'，打印Hello, Sarah!。你可以根据需要调用函数greet_user()任意次，调用时无论传 入什么样的名字，都会生成相应的输出。"
   ]
  },
  {
   "cell_type": "markdown",
   "metadata": {},
   "source": [
    "### 实参和形参\n",
    "前面定义函数greet_user() 时，要求给变量username 指定一个值。调用这个函数并提供这种信息(人名)时，它将打印相应的问候语。\n",
    "在函数greet_user() 的定义中，变量username 是一个形参 ——函数完成其工作所需的一项信息。在代码greet_user('jesse') 中，值'jesse' 是一个实参 。实参是 调用函数时传递给函数的信息。我们调用函数时，将要让函数使用的信息放在括号内。在greet_user('jesse') 中，将实参'jesse' 传递给了函数greet_user() ，这个 值被存储在形参username 中。\n",
    " \n",
    "**注意**  大家有时候会形参、实参不分，因此如果你看到有人将函数定义中的变量称为实参或将函数调用中的变量称为形参，不要大惊小怪。"
   ]
  },
  {
   "cell_type": "markdown",
   "metadata": {},
   "source": [
    "### 动手试一试\n",
    "1. 消息 :编写一个名为display_message() 的函数，它打印一个句子，指出你在本章学的是什么。调用这个函数，确认显示的消息正确无误。\n",
    "2. 喜欢的图书:编写一个名为favorite_book()的函数，其中包含一个名为title的形参。这个函数打印一条消息，如One of my favorite books is Alice in Wonderland。调用这个函数，并将一本图书的名称作为实参传递给它。"
   ]
  },
  {
   "cell_type": "markdown",
   "metadata": {},
   "source": [
    "## 传递实参\n",
    "鉴于函数定义中可能包含多个形参，因此函数调用中也可能包含多个实参。向函数传递实参的方式很多，可使用位置实参 ，这要求实参的顺序与形参的顺序相同;也可使用关键字实参 ，其中每个实参都由变量名和值组成;还可使用列表和字典。下面来依次介绍这些方式。"
   ]
  },
  {
   "cell_type": "markdown",
   "metadata": {},
   "source": [
    "### 位置实参\n",
    "你调用函数时，Python必须将函数调用中的每个实参都关联到函数定义中的一个形参。为此，最简单的关联方式是基于实参的顺序。这种关联方式被称为位置实参 。 为明白其中的工作原理，来看一个显示宠物信息的函数。这个函数指出一个宠物属于哪种动物以及它叫什么名字，如下所示:"
   ]
  },
  {
   "cell_type": "code",
   "execution_count": null,
   "metadata": {
    "ExecuteTime": {
     "end_time": "2020-06-29T15:21:45.221985Z",
     "start_time": "2020-06-29T15:21:45.214698Z"
    }
   },
   "outputs": [],
   "source": [
    "def describe_pet(animal_type, pet_name):  # ❶\n",
    "    \"\"\"显示宠物的信息\"\"\"\n",
    "    print(\"\\nI have a \" + animal_type + \".\")\n",
    "    print(\"My \" + animal_type + \"'s name is \" + pet_name.title() + \".\")\n",
    "\n",
    "\n",
    "describe_pet('hamster', 'harry')  # ❷"
   ]
  },
  {
   "cell_type": "markdown",
   "metadata": {},
   "source": [
    "这个函数的定义表明，它需要一种动物类型和一个名字(见❶)。调用describe_pet() 时，需要按顺序提供一种动物类型和一个名字。例如，在前面的函数调用中，实 参'hamster' 存储在形参animal_type 中，而实参'harry' 存储在形参pet_name 中(见❷)。在函数体内，使用了这两个形参来显示宠物的信息。\n",
    "\n",
    "输出描述了一只名为Harry的仓鼠:\n",
    "```\n",
    "I have a hamster.\n",
    "My hamster's name is Harry.\n",
    "```"
   ]
  },
  {
   "cell_type": "markdown",
   "metadata": {},
   "source": [
    "#### 调用函数多次 \n",
    "你可以根据需要调用函数任意次。要再描述一个宠物，只需再次调用describe_pet() 即可:"
   ]
  },
  {
   "cell_type": "code",
   "execution_count": null,
   "metadata": {
    "ExecuteTime": {
     "end_time": "2020-06-29T15:23:11.259574Z",
     "start_time": "2020-06-29T15:23:11.251453Z"
    }
   },
   "outputs": [],
   "source": [
    "def describe_pet(animal_type, pet_name):\n",
    "    \"\"\"显示宠物的信息\"\"\"\n",
    "    print(\"\\nI have a \" + animal_type + \".\")\n",
    "    print(\"My \" + animal_type + \"'s name is \" + pet_name.title() + \".\")\n",
    "\n",
    "\n",
    "describe_pet('hamster', 'harry')\n",
    "describe_pet('dog', 'willie')"
   ]
  },
  {
   "cell_type": "markdown",
   "metadata": {},
   "source": [
    "第二次调用describe_pet() 函数时，我们向它传递了实参'dog' 和'willie' 。与第一次调用时一样，Python将实参'dog' 关联到形参animal_type ，并将实参'willie' 关联到形参pet_name 。与前面一样，这个函数完成其任务，但打印的是一条名为Willie的小狗的信息。至此，我们有一只名为Harry的仓鼠，还有一条名为Willie的 小狗:\n",
    "```\n",
    "I have a hamster.\n",
    "My hamster's name is Harry.\n",
    "\n",
    "I have a dog.\n",
    "My dog's name is Willie.\n",
    "```\n",
    "调用函数多次是一种效率极高的工作方式。我们只需在函数中编写描述宠物的代码一次，然后每当需要描述新宠物时，都可调用这个函数，并向它提供新宠物的信息。即便描述 宠物的代码增加到了10行，你依然只需使用一行调用函数的代码，就可描述一个新宠物。\n",
    "\n",
    "在函数中，可根据需要使用任意数量的位置实参，Python将按顺序将函数调用中的实参关联到函数定义中相应的形参。"
   ]
  },
  {
   "cell_type": "markdown",
   "metadata": {},
   "source": [
    "#### 位置实参的顺序很重要\n",
    "使用位置实参来调用函数时，如果实参的顺序不正确，结果可能出乎意料:"
   ]
  },
  {
   "cell_type": "code",
   "execution_count": null,
   "metadata": {
    "ExecuteTime": {
     "end_time": "2020-06-29T15:24:49.581923Z",
     "start_time": "2020-06-29T15:24:49.573446Z"
    }
   },
   "outputs": [],
   "source": [
    "def describe_pet(animal_type, pet_name):\n",
    "    \"\"\"显示宠物的信息\"\"\"\n",
    "    print(\"\\nI have a \" + animal_type + \".\")\n",
    "    print(\"My \" + animal_type + \"'s name is \" + pet_name.title() + \".\")\n",
    "\n",
    "\n",
    "describe_pet('harry', 'hamster')"
   ]
  },
  {
   "cell_type": "markdown",
   "metadata": {},
   "source": [
    "在这个函数调用中，我们先指定名字，再指定动物类型。由于实参'harry' 在前，这个值将存储到形参animal_type 中;同理，'hamster' 将存储到形参pet_name 中。 结果是我们得到了一个名为Hamster 的harry :\n",
    "```\n",
    "I have a harry.\n",
    "My harry's name is Hamster.\n",
    "```\n",
    "如果结果像上面一样搞笑，请确认函数调用中实参的顺序与函数定义中形参的顺序一致。"
   ]
  },
  {
   "cell_type": "markdown",
   "metadata": {},
   "source": [
    "### 关键字实参\n",
    "关键字实参 是传递给函数的名称—值对。你直接在实参中将名称和值关联起来了，因此向函数传递实参时不会混淆(不会得到名为Hamster的harry这样的结果)。关键字实参让 你无需考虑函数调用中的实参顺序，还清楚地指出了函数调用中各个值的用途。\n",
    "\n",
    "下面来重新编写pets.py，在其中使用关键字实参来调用describe_pet() :"
   ]
  },
  {
   "cell_type": "code",
   "execution_count": null,
   "metadata": {
    "ExecuteTime": {
     "end_time": "2020-06-29T15:26:25.709508Z",
     "start_time": "2020-06-29T15:26:25.702136Z"
    }
   },
   "outputs": [],
   "source": [
    "def describe_pet(animal_type, pet_name):\n",
    "    \"\"\"显示宠物的信息\"\"\"\n",
    "    print(\"\\nI have a \" + animal_type + \".\")\n",
    "    print(\"My \" + animal_type + \"'s name is \" + pet_name.title() + \".\")\n",
    "\n",
    "\n",
    "describe_pet(animal_type='hamster', pet_name='harry')"
   ]
  },
  {
   "cell_type": "markdown",
   "metadata": {},
   "source": [
    "函数describe_pet() 还是原来那样，但调用这个函数时，我们向Python明确地指出了各个实参对应的形参。看到这个函数调用时，Python知道应该将实参'hamster' 和'harry' 分别存储在形参animal_type 和pet_name 中。输出正确无误，它指出我们有一只名为Harry的仓鼠。\n",
    "\n",
    "关键字实参的顺序无关紧要，因为Python知道各个值该存储到哪个形参中。下面两个函数调用是等效的:\n",
    "```\n",
    "describe_pet(animal_type='hamster', pet_name='harry')\n",
    "describe_pet(pet_name='harry', animal_type='hamster')\n",
    "```\n",
    "**注意**  使用关键字实参时，务必准确地指定函数定义中的形参名。"
   ]
  },
  {
   "cell_type": "markdown",
   "metadata": {},
   "source": [
    "### 默认值\n",
    "编写函数时，可给每个形参指定默认值 。在调用函数中给形参提供了实参时，Python将使用指定的实参值;否则，将使用形参的默认值。因此，给形参指定默认值后，可在函数 调用中省略相应的实参。使用默认值可简化函数调用，还可清楚地指出函数的典型用法。\n",
    "\n",
    "例如，如果你发现调用describe_pet() 时，描述的大都是小狗，就可将形参animal_type 的默认值设置为'dog' 。这样，调用describe_pet() 来描述小狗时，就可不 提供这种信息:"
   ]
  },
  {
   "cell_type": "code",
   "execution_count": null,
   "metadata": {
    "ExecuteTime": {
     "end_time": "2020-06-29T15:28:11.384890Z",
     "start_time": "2020-06-29T15:28:11.378019Z"
    }
   },
   "outputs": [],
   "source": [
    "def describe_pet(pet_name, animal_type='dog'):\n",
    "    \"\"\"显示宠物的信息\"\"\"\n",
    "    print(\"\\nI have a \" + animal_type + \".\")\n",
    "    print(\"My \" + animal_type + \"'s name is \" + pet_name.title() + \".\")\n",
    "\n",
    "\n",
    "describe_pet(pet_name='willie')"
   ]
  },
  {
   "cell_type": "markdown",
   "metadata": {},
   "source": [
    "这里修改了函数describe_pet() 的定义，在其中给形参animal_type 指定了默认值'dog' 。这样，调用这个函数时，如果没有给animal_type 指定值，Python将把这个 形参设置为'dog' :\n",
    "```\n",
    "I have a dog.\n",
    "My dog's name is Willie.\n",
    "```\n",
    "请注意，在这个函数的定义中，修改了形参的排列顺序。由于给animal_type 指定了默认值，无需通过实参来指定动物类型，因此在函数调用中只包含一个实参——宠物的名字。然而，Python依然将这个实参视为位置实参，因此如果函数调用中只包含宠物的名字，这个实参将关联到函数定义中的第一个形参。这就是需要将pet_name 放在形参列表 开头的原因所在。\n",
    "\n",
    "现在，使用这个函数的最简单的方式是，在函数调用中只提供小狗的名字\n",
    "```\n",
    "describe_pet('willie')\n",
    "```\n",
    "这个函数调用的输出与前一个示例相同。只提供了一个实参——'willie' ，这个实参将关联到函数定义中的第一个形参——pet_name 。由于没有给animal_type 提供实 参，因此Python使用其默认值'dog' 。\n",
    "\n",
    "如果要描述的动物不是小狗，可使用类似于下面的函数调用:"
   ]
  },
  {
   "cell_type": "code",
   "execution_count": null,
   "metadata": {
    "ExecuteTime": {
     "end_time": "2020-06-29T15:30:20.196913Z",
     "start_time": "2020-06-29T15:30:20.191273Z"
    }
   },
   "outputs": [],
   "source": [
    "describe_pet(pet_name='harry', animal_type='hamster')"
   ]
  },
  {
   "cell_type": "markdown",
   "metadata": {},
   "source": [
    "由于显式地给animal_type 提供了实参，因此Python将忽略这个形参的默认值。\n",
    "\n",
    "**注意**  使用默认值时，在形参列表中必须先列出没有默认值的形参，再列出有默认值的实参。这让Python依然能够正确地解读位置实参。"
   ]
  },
  {
   "cell_type": "markdown",
   "metadata": {},
   "source": [
    "### 等效的函数调用\n",
    "鉴于可混合使用位置实参、关键字实参和默认值，通常有多种等效的函数调用方式。请看下面的函数describe_pets() 的定义，其中给一个形参提供了默认值:\n",
    "```\n",
    "def describe_pet(pet_name, animal_type='dog'):\n",
    "```\n",
    "基于这种定义，在任何情况下都必须给pet_name 提供实参;指定该实参时可以使用位置方式，也可以使用关键字方式。如果要描述的动物不是小狗，还必须在函数调用中 给animal_type 提供实参;同样，指定该实参时可以使用位置方式，也可以使用关键字方式。\n",
    "\n",
    "下面对这个函数的所有调用都可行:"
   ]
  },
  {
   "cell_type": "code",
   "execution_count": null,
   "metadata": {
    "ExecuteTime": {
     "end_time": "2020-06-29T15:33:39.651623Z",
     "start_time": "2020-06-29T15:33:39.644331Z"
    }
   },
   "outputs": [],
   "source": [
    "# 一条名为Willie的小狗\n",
    "describe_pet('willie')\n",
    "describe_pet(pet_name='willie')\n",
    "# 一只名为Harry的仓鼠\n",
    "describe_pet('harry', 'hamster')\n",
    "describe_pet(pet_name='harry', animal_type='hamster')\n",
    "describe_pet(animal_type='hamster', pet_name='harry')"
   ]
  },
  {
   "cell_type": "markdown",
   "metadata": {},
   "source": [
    "这些函数调用的输出与前面的示例相同。\n",
    "\n",
    "**注意**  使用哪种调用方式无关紧要，只要函数调用能生成你希望的输出就行。使用对你来说最容易理解的调用方式即可。"
   ]
  },
  {
   "cell_type": "markdown",
   "metadata": {},
   "source": [
    "### 避免实参错误 \n",
    "等你开始使用函数后，如果遇到实参不匹配错误，不要大惊小怪。你提供的实参多于或少于函数完成其工作所需的信息时，将出现实参不匹配错误。例如，如果调用函数describe_pet() 时没有指定任何实参，结果将如何呢?"
   ]
  },
  {
   "cell_type": "code",
   "execution_count": null,
   "metadata": {
    "ExecuteTime": {
     "end_time": "2020-06-29T15:34:36.304887Z",
     "start_time": "2020-06-29T15:34:36.130680Z"
    }
   },
   "outputs": [],
   "source": [
    "def describe_pet(animal_type, pet_name):\n",
    "    \"\"\"显示宠物的信息\"\"\"\n",
    "    print(\"\\nI have a \" + animal_type + \".\")\n",
    "    print(\"My \" + animal_type + \"'s name is \" + pet_name.title() + \".\")\n",
    "\n",
    "\n",
    "describe_pet()"
   ]
  },
  {
   "cell_type": "markdown",
   "metadata": {},
   "source": [
    "Python发现该函数调用缺少必要的信息，而traceback指出了这一点:\n",
    "```\n",
    "TypeError                                 Traceback (most recent call last)\n",
    "<ipython-input-10-f39e72d7a08b> in <module>\n",
    "      5 \n",
    "      6 \n",
    "❶ ----> 7 describe_pet()\n",
    "\n",
    "❷ TypeError: describe_pet() missing 2 required positional arguments: 'animal_type' and 'pet_name'\n",
    "```\n",
    "在❶处，指出了导致问题的函数调用。在❷处，traceback指出该函数调用少两个实参， 并指出了相应形参的名称。如果这个函数存储在一个独立的文件中，我们也许无需打开这个文件并查看函数的代码，就能重新正确地编写函数调用。\n",
    "\n",
    "Python读取函数的代码，并指出我们需要为哪些形参提供实参，这提供了极大的帮助。这也是应该给变量和函数指定描述性名称的另一个原因;如果你这样做了，那么无论对于 你，还是可能使用你编写的代码的其他任何人来说，Python提供的错误消息都将更有帮助。\n",
    "\n",
    "如果提供的实参太多，将出现类似的traceback，帮助你确保函数调用和函数定义匹配。"
   ]
  },
  {
   "cell_type": "markdown",
   "metadata": {},
   "source": [
    "### 动手试一试\n",
    "1. T恤 :编写一个名为make_shirt() 的函数，它接受一个尺码以及要印到T恤上的字样。这个函数应打印一个句子，概要地说明T恤的尺码和字样。 使用位置实参调用这个函数来制作一件T恤;再使用关键字实参来调用这个函数。\n",
    "2. 大号T恤 :修改函数make_shirt() ，使其在默认情况下制作一件印有字样“I love Python”的大号T恤。调用这个函数来制作如下T恤:一件印有默认字样的大号T 恤、一件印有默认字样的中号T恤和一件印有其他字样的T恤(尺码无关紧要)。\n",
    "3. 城市:编写一个名为describe_city()的函数，它接受一座城市的名字以及该城市所属的国家。这个函数应打印一个简单的句子，如Reykjavik is in Iceland 。给用于存储国家的形参指定默认值。为三座不同的城市调用这个函数，且其中至少有一座城市不属于默认国家。"
   ]
  },
  {
   "cell_type": "markdown",
   "metadata": {},
   "source": [
    "## 返回值\n",
    "函数并非总是直接显示输出，相反，它可以处理一些数据，并返回一个或一组值。函数返回的值被称为返回值 。在函数中，可使用return 语句将值返回到调用函数的代码行。  \n",
    "返回值让你能够将程序的大部分繁重工作移到函数中去完成，从而简化主程序。"
   ]
  },
  {
   "cell_type": "markdown",
   "metadata": {},
   "source": [
    "### 返回简单值\n",
    "下面来看一个函数，它接受名和姓并返回整洁的姓名:\n"
   ]
  },
  {
   "cell_type": "code",
   "execution_count": null,
   "metadata": {
    "ExecuteTime": {
     "end_time": "2020-06-29T15:40:33.116981Z",
     "start_time": "2020-06-29T15:40:33.110628Z"
    }
   },
   "outputs": [],
   "source": [
    "def get_formatted_name(first_name, last_name):  # ❶\n",
    "    \"\"\"返回整洁的姓名\"\"\"\n",
    "    full_name = first_name + ' ' + last_name  # ❷\n",
    "    return full_name.title()  # ❸\n",
    "\n",
    "\n",
    "musician = get_formatted_name('jimi', 'hendrix')  # ❹\n",
    "print(musician)"
   ]
  },
  {
   "cell_type": "markdown",
   "metadata": {},
   "source": [
    "函数get_formatted_name() 的定义通过形参接受名和姓(见❶)。它将姓和名合而为一，在它们之间加上一个空格，并将结果存储在变量full_name 中(见❷)。然后， 将full_name 的值转换为首字母大写格式，并将结果返回到函数调用行(见❸)。\n",
    "\n",
    "调用返回值的函数时，需要提供一个变量，用于存储返回的值。在这里，将返回值存储在了变量musician 中(见❹)。输出为整洁的姓名:\n",
    "```\n",
    "Jimi Hendrix\n",
    "```\n",
    "我们原本只需编写下面的代码就可输出整洁的姓名，相比于此，前面做的工作好像太多了:\n",
    "```\n",
    "print(\"Jimi Hendrix\")\n",
    "```\n",
    "但在需要分别存储大量名和姓的大型程序中，像get_formatted_name() 这样的函数非常有用。你分别存储名和姓，每当需要显示姓名时都调用这个函数。"
   ]
  },
  {
   "cell_type": "markdown",
   "metadata": {},
   "source": [
    "### 让实参变成可选的\n",
    "有时候，需要让实参变成可选的，这样使用函数的人就只需在必要时才提供额外的信息。可使用默认值来让实参变成可选的。 \n",
    "\n",
    "例如，假设我们要扩展函数get_formatted_name() ，使其还处理中间名。为此，可将其修改成类似于下面这样:"
   ]
  },
  {
   "cell_type": "code",
   "execution_count": null,
   "metadata": {
    "ExecuteTime": {
     "end_time": "2020-06-29T15:43:01.014780Z",
     "start_time": "2020-06-29T15:43:01.007818Z"
    }
   },
   "outputs": [],
   "source": [
    "def get_formatted_name(first_name, middle_name, last_name):\n",
    "    \"\"\"返回整洁的姓名\"\"\"\n",
    "    full_name = first_name + ' ' + middle_name + ' ' + last_name\n",
    "    return full_name.title()\n",
    "\n",
    "\n",
    "musician = get_formatted_name('john', 'lee', 'hooker')\n",
    "print(musician)"
   ]
  },
  {
   "cell_type": "markdown",
   "metadata": {},
   "source": [
    "只要同时提供名、中间名和姓，这个函数就能正确地运行。它根据这三部分创建一个字符串，在适当的地方加上空格，并将结果转换为首字母大写格式:\n",
    "```\n",
    "John Lee Hooker\n",
    "```\n",
    "然而，并非所有的人都有中间名，但如果你调用这个函数时只提供了名和姓，它将不能正确地运行。为让中间名变成可选的，可给实参middle_name 指定一个默认值——空字 符串，并在用户没有提供中间名时不使用这个实参。为让get_formatted_name() 在没有提供中间名时依然可行，可给实参middle_name 指定一个默认值——空字符串， 并将其移到形参列表的末尾:"
   ]
  },
  {
   "cell_type": "code",
   "execution_count": null,
   "metadata": {
    "ExecuteTime": {
     "end_time": "2020-06-29T15:44:49.196165Z",
     "start_time": "2020-06-29T15:44:49.189198Z"
    }
   },
   "outputs": [],
   "source": [
    "def get_formatted_name(first_name, last_name, middle_name=''):  # ❶\n",
    "    \"\"\"返回整洁的姓名\"\"\"\n",
    "    if middle_name:  # ❷\n",
    "        full_name = first_name + ' ' + middle_name + ' ' + last_name\n",
    "    else:  # ❸\n",
    "        full_name = first_name + ' ' + last_name\n",
    "    return full_name.title()\n",
    "\n",
    "\n",
    "musician = get_formatted_name('jimi', 'hendrix')  # ❹\n",
    "print(musician)\n",
    "musician = get_formatted_name('john', 'hooker', 'lee')\n",
    "print(musician)"
   ]
  },
  {
   "cell_type": "markdown",
   "metadata": {},
   "source": [
    "在这个示例中，姓名是根据三个可能提供的部分创建的。由于人都有名和姓，因此在函数定义中首先列出了这两个形参。中间名是可选的，因此在函数定义中最后列出该形参， 并将其默认值设置为空字符串(见❶)。\n",
    "\n",
    "在函数体中，我们检查是否提供了中间名。Python将非空字符串解读为True，因此如果函数调用中提供了中间名，if middle_name将为True(见❷)。如果提供了中间 名，就将名、中间名和姓合并为姓名，然后将其修改为首字母大写格式，并返回到函数调用行。在函数调用行，将返回的值存储在变量musician 中;然后将这个变量的值打印 出来。如果没有提供中间名，middle_name 将为空字符串，导致if 测试未通过，进而执行else 代码块(见❸):只使用名和姓来生成姓名，并将设置好格式的姓名返回给函 数调用行。在函数调用行，将返回的值存储在变量musician 中;然后将这个变量的值打印出来。\n",
    "\n",
    "调用这个函数时，如果只想指定名和姓，调用起来将非常简单。如果还要指定中间名，就必须确保它是最后一个实参，这样Python才能正确地将位置实参关联到形参(见❹)。 这个修改后的版本适用于只有名和姓的人，也适用于还有中间名的人:\n",
    "```\n",
    "Jimi Hendrix\n",
    "John Lee Hooker\n",
    "```\n",
    "可选值让函数能够处理各种不同情形的同时，确保函数调用尽可能简单。"
   ]
  },
  {
   "cell_type": "markdown",
   "metadata": {},
   "source": [
    "### 返回字典\n",
    "函数可返回任何类型的值，包括列表和字典等较复杂的数据结构。例如，下面的函数接受姓名的组成部分，并返回一个表示人的字典:\n"
   ]
  },
  {
   "cell_type": "code",
   "execution_count": null,
   "metadata": {
    "ExecuteTime": {
     "end_time": "2020-06-29T15:47:35.981945Z",
     "start_time": "2020-06-29T15:47:35.974697Z"
    }
   },
   "outputs": [],
   "source": [
    "def build_person(first_name, last_name):\n",
    "    \"\"\"返回一个字典，其中包含有关一个人的信息\"\"\"\n",
    "    person = {'first': first_name, 'last': last_name}  # ❶\n",
    "    return person  # ❷\n",
    "\n",
    "\n",
    "musician = build_person('jimi', 'hendrix')\n",
    "print(musician)  # ❸"
   ]
  },
  {
   "cell_type": "markdown",
   "metadata": {},
   "source": [
    "函数build_person() 接受名和姓，并将这些值封装到字典中(见❶)。存储first_name 的值时，使用的键为'first' ，而存储last_name 的值时，使用的键 为'last' 。最后，返回表示人的整个字典(见❷)。在❸处，打印这个返回的值，此时原来的两项文本信息存储在一个字典中:\n",
    "```\n",
    "{'first': 'jimi', 'last': 'hendrix'}\n",
    "```\n",
    "这个函数接受简单的文本信息，将其放在一个更合适的数据结构中，让你不仅能打印这些信息，还能以其他方式处理它们。当前，字符串'jimi' 和'hendrix' 被标记为名和 姓。你可以轻松地扩展这个函数，使其接受可选值，如中间名、年龄、职业或你要存储的其他任何信息。例如，下面的修改让你还能存储年龄:"
   ]
  },
  {
   "cell_type": "code",
   "execution_count": null,
   "metadata": {
    "ExecuteTime": {
     "end_time": "2020-06-29T15:49:28.715132Z",
     "start_time": "2020-06-29T15:49:28.706563Z"
    }
   },
   "outputs": [],
   "source": [
    "def build_person(first_name, last_name, age=''):\n",
    "    \"\"\"返回一个字典，其中包含有关一个人的信息\"\"\"\n",
    "    person = {'first': first_name, 'last': last_name}\n",
    "    if age:\n",
    "        person['age'] = age\n",
    "    return person\n",
    "\n",
    "\n",
    "musician = build_person('jimi', 'hendrix', age=27)\n",
    "print(musician)"
   ]
  },
  {
   "cell_type": "markdown",
   "metadata": {},
   "source": [
    "在函数定义中，我们新增了一个可选形参age ，并将其默认值设置为空字符串。如果函数调用中包含这个形参的值，这个值将存储到字典中。在任何情况下，这个函数都会存储 人的姓名，但可对其进行修改，使其也存储有关人的其他信息。"
   ]
  },
  {
   "cell_type": "markdown",
   "metadata": {},
   "source": [
    "### 结合使用函数和while 循环\n",
    "可将函数同本书前面介绍的任何Python结构结合起来使用。例如，下面将结合使用函数get_formatted_name() 和while 循环，以更正规的方式问候用户。下面尝试使用名\n",
    "和姓跟用户打招呼:"
   ]
  },
  {
   "cell_type": "code",
   "execution_count": null,
   "metadata": {
    "ExecuteTime": {
     "end_time": "2020-06-29T15:52:53.252954Z",
     "start_time": "2020-06-29T15:52:27.559362Z"
    }
   },
   "outputs": [],
   "source": [
    "def get_formatted_name(first_name, last_name):\n",
    "    \"\"\"返回整洁的姓名\"\"\"\n",
    "    full_name = first_name + ' ' + last_name\n",
    "    return full_name.title()\n",
    "\n",
    "\n",
    "# 这是一个无限循环!\n",
    "while True:\n",
    "    print(\"\\nPlease tell me your name:\")  # ❶\n",
    "    f_name = input(\"First name: \")\n",
    "    l_name = input(\"Last name: \")\n",
    "    formatted_name = get_formatted_name(f_name, l_name)\n",
    "    print(\"\\nHello, \" + formatted_name + \"!\")"
   ]
  },
  {
   "cell_type": "markdown",
   "metadata": {},
   "source": [
    "在这个示例中，我们使用的是get_formatted_name() 的简单版本，不涉及中间名。其中的while 循环让用户输入姓名:依次提示用户输入名和姓(见❶)。\n",
    "\n",
    "但这个while 循环存在一个问题:没有定义退出条件。请用户提供一系列输入时，该在什么地方提供退出条件呢?我们要让用户能够尽可能容易地退出，因此每次提示用户输入时，都应提供退出途径。每次提示用户输入时，都使用break 语句提供了退出循环的简单途径:"
   ]
  },
  {
   "cell_type": "code",
   "execution_count": null,
   "metadata": {
    "ExecuteTime": {
     "end_time": "2020-06-29T15:54:55.076706Z",
     "start_time": "2020-06-29T15:54:35.991513Z"
    }
   },
   "outputs": [],
   "source": [
    "def get_formatted_name(first_name, last_name):\n",
    "    \"\"\"返回整洁的姓名\"\"\"\n",
    "    full_name = first_name + ' ' + last_name\n",
    "    return full_name.title()\n",
    "\n",
    "\n",
    "while True:\n",
    "    print(\"\\nPlease tell me your name:\")\n",
    "    print(\"(enter 'q' at any time to quit)\")\n",
    "    f_name = input(\"First name: \")\n",
    "    if f_name == 'q':\n",
    "        break\n",
    "    l_name = input(\"Last name: \")\n",
    "    if l_name == 'q':\n",
    "        break\n",
    "    formatted_name = get_formatted_name(f_name, l_name)\n",
    "    print(\"\\nHello, \" + formatted_name + \"!\")"
   ]
  },
  {
   "cell_type": "markdown",
   "metadata": {},
   "source": [
    "我们添加了一条消息来告诉用户如何退出，然后在每次提示用户输入时，都检查他输入的是否是退出值，如果是，就退出循环。现在，这个程序将不断地问候，直到用户输入的 姓或名为'q' 为止:\n",
    "```\n",
    "Please tell me your name:\n",
    "(enter 'q' at any time to quit)\n",
    "First name: zhang\n",
    "Last name: san\n",
    "\n",
    "Hello, Zhang San!\n",
    "\n",
    "Please tell me your name:\n",
    "(enter 'q' at any time to quit)\n",
    "First name: q\n",
    "```\n"
   ]
  },
  {
   "cell_type": "markdown",
   "metadata": {},
   "source": [
    "### 动手试一试\n",
    "1. 城市名 :编写一个名为city_country() 的函数，它接受城市的名称及其所属的国家。这个函数应返回一个格式类似于下面这样的字符串:  \n",
    "```\n",
    "\"Santiago, Chile\"\n",
    "```\n",
    "至少使用三个城市-国家对调用这个函数，并打印它返回的值。\n",
    "2. 专辑 :编写一个名为make_album() 的函数，它创建一个描述音乐专辑的字典。这个函数应接受歌手的名字和专辑名，并返回一个包含这两项信息的字典。使用这个函数创建三个表示不同专辑的字典，并打印每个返回的值，以核实字典正确地存储了专辑的信息。给函数make_album() 添加一个可选形参，以便能够存储专辑包含的歌曲数。如果调用这个函数时指定了歌曲数，就将这个值添加到表示专辑的字典中。调用这个 函数，并至少在一次调用中指定专辑包含的歌曲数。\n",
    "3. 用户的专辑 :在为完成练习8-7编写的程序中，编写一个while 循环，让用户输入一个专辑的歌手和名称。获取这些信息后，使用它们来调用函数make_album() ，并将创建的字典打印出来。在这个while 循环中，务必要提供退出途径。\n"
   ]
  },
  {
   "cell_type": "markdown",
   "metadata": {},
   "source": [
    "## 传递列表 \n",
    "你经常会发现，向函数传递列表很有用，这种列表包含的可能是名字、数字或更复杂的对象(如字典)。将列表传递给函数后，函数就能直接访问其内容。下面使用函数来提高处理列表的效率。\n",
    "\n",
    "假设有一个用户列表，我们要问候其中的每位用户。下面的示例将一个名字列表传递给一个名为greet_users() 的函数，这个函数问候列表中的每个人:"
   ]
  },
  {
   "cell_type": "code",
   "execution_count": null,
   "metadata": {
    "ExecuteTime": {
     "end_time": "2020-06-29T15:59:07.630194Z",
     "start_time": "2020-06-29T15:59:07.623235Z"
    }
   },
   "outputs": [],
   "source": [
    "def greet_users(names):\n",
    "    \"\"\"向列表中的每位用户都发出简单的问候\"\"\"\n",
    "    for name in names:\n",
    "        msg = \"Hello, \" + name.title() + \"!\"\n",
    "        print(msg)\n",
    "\n",
    "\n",
    "usernames = ['hannah', 'ty', 'margot']  # ❶\n",
    "greet_users(usernames)"
   ]
  },
  {
   "cell_type": "markdown",
   "metadata": {},
   "source": [
    "我们将greet_users() 定义成接受一个名字列表，并将其存储在形参names 中。这个函数遍历收到的列表，并对其中的每位用户都打印一条问候语。在❶处，我们定义了一 个用户列表——usernames ，然后调用greet_users() ，并将这个列表传递给它:\n",
    "```\n",
    "Hello, Hannah!\n",
    "Hello, Ty!\n",
    "Hello, Margot!\n",
    "```\n",
    "输出完全符合预期，每位用户都看到了一条个性化的问候语。每当你要问候一组用户时，都可调用这个函数。"
   ]
  },
  {
   "cell_type": "markdown",
   "metadata": {},
   "source": [
    "### 在函数中修改列表\n",
    "将列表传递给函数后，函数就可对其进行修改。在函数中对这个列表所做的任何修改都是永久性的，这让你能够高效地处理大量的数据。 来看一家为用户提交的设计制作3D打印模型的公司。需要打印的设计存储在一个列表中，打印后移到另一个列表中。下面是在不使用函数的情况下模拟这个过程的代码:"
   ]
  },
  {
   "cell_type": "code",
   "execution_count": null,
   "metadata": {
    "ExecuteTime": {
     "end_time": "2020-06-29T16:01:45.072739Z",
     "start_time": "2020-06-29T16:01:45.062970Z"
    }
   },
   "outputs": [],
   "source": [
    "# 首先创建一个列表，其中包含一些要打印的设计\n",
    "unprinted_designs = ['iphone case', 'robot pendant', 'dodecahedron']\n",
    "completed_models = []\n",
    "# 模拟打印每个设计，直到没有未打印的设计为止\n",
    "# 打印每个设计后，都将其移到列表completed_models中\n",
    "while unprinted_designs:\n",
    "    current_design = unprinted_designs.pop()\n",
    "    #模拟根据设计制作3D打印模型的过程\n",
    "    print(\"Printing model: \" + current_design)\n",
    "    completed_models.append(current_design)\n",
    "# 显示打印好的所有模型\n",
    "print(\"\\nThe following models have been printed:\")\n",
    "for completed_model in completed_models:\n",
    "    print(completed_model)"
   ]
  },
  {
   "cell_type": "markdown",
   "metadata": {},
   "source": [
    "这个程序首先创建一个需要打印的设计列表，还创建一个名为completed_models 的空列表，每个设计打印都将移到这个列表中。只要列表unprinted_designs 中还有设 计，while 循环就模拟打印设计的过程:从该列表末尾删除一个设计，将其存储到变量current_design 中，并显示一条消息，指出正在打印当前的设计，再将该设计加入到 列表completed_models 中。循环结束后，显示已打印的所有设计:\n",
    "```\n",
    "Printing model: dodecahedron\n",
    "Printing model: robot pendant\n",
    "Printing model: iphone case\n",
    "\n",
    "The following models have been printed:\n",
    "dodecahedron\n",
    "robot pendant\n",
    "iphone case\n",
    "```\n",
    "为重新组织这些代码，我们可编写两个函数，每个都做一件具体的工作。大部分代码都与原来相同，只是效率更高。第一个函数将负责处理打印设计的工作，而第二个将概述打 印了哪些设计:"
   ]
  },
  {
   "cell_type": "code",
   "execution_count": null,
   "metadata": {
    "ExecuteTime": {
     "end_time": "2020-06-29T16:04:05.251253Z",
     "start_time": "2020-06-29T16:04:05.242598Z"
    }
   },
   "outputs": [],
   "source": [
    "def print_models(unprinted_designs, completed_models):  # ❶\n",
    "    \"\"\"模拟打印每个设计，直到没有未打印的设计为止 打印每个设计后，都将其移到列表completed_models中 \"\"\"\n",
    "    while unprinted_designs:\n",
    "        current_design = unprinted_designs.pop()\n",
    "        # 模拟根据设计制作3D打印模型的过程\n",
    "        print(\"Printing model: \" + current_design)\n",
    "        completed_models.append(current_design)\n",
    "\n",
    "\n",
    "def show_completed_models(completed_models):  # ❷\n",
    "    \"\"\"显示打印好的所有模型\"\"\"\n",
    "    print(\"\\nThe following models have been printed:\")\n",
    "    for completed_model in completed_models:\n",
    "        print(completed_model)\n",
    "\n",
    "\n",
    "unprinted_designs = ['iphone case', 'robot pendant', 'dodecahedron']\n",
    "completed_models = []\n",
    "print_models(unprinted_designs, completed_models)\n",
    "show_completed_models(completed_models)"
   ]
  },
  {
   "cell_type": "markdown",
   "metadata": {},
   "source": [
    "在❶处，我们定义了函数print_models() ，它包含两个形参:一个需要打印的设计列表和一个打印好的模型列表。给定这两个列表，这个函数模拟打印每个设计的过程:将 设计逐个地从未打印的设计列表中取出，并加入到打印好的模型列表中。在❷处，我们定义了函数show_completed_models() ，它包含一个形参:打印好的模型列表。给定 这个列表，函数show_completed_models() 显示打印出来的每个模型的名称。\n",
    "\n",
    "这个程序的输出与未使用函数的版本相同，但组织更为有序。完成大部分工作的代码都移到了两个函数中，让主程序更容易理解。只要看看主程序，你就知道这个程序的功能容易看清得多:\n",
    "```\n",
    "Printing model: dodecahedron\n",
    "Printing model: robot pendant\n",
    "Printing model: iphone case\n",
    "\n",
    "The following models have been printed:\n",
    "dodecahedron\n",
    "robot pendant\n",
    "iphone case\n",
    "```\n",
    "我们创建了一个未打印的设计列表，还创建了一个空列表，用于存储打印好的模型。接下来，由于我们已经定义了两个函数，因此只需调用它们并传入正确的实参即可。我们调 用print_models() 并向它传递两个列表;像预期的一样，print_models() 模拟打印设计的过程。接下来，我们调用show_completed_models() ，并将打印好的模型 列表传递给它，让其能够指出打印了哪些模型。描述性的函数名让别人阅读这些代码时也能明白，虽然其中没有任何注释。\n",
    "\n",
    "相比于没有使用函数的版本，这个程序更容易扩展和维护。如果以后需要打印其他设计，只需再次调用print_models() 即可。如果我们发现需要对打印代码进行修改，只需 修改这些代码一次，就能影响所有调用该函数的地方;与必须分别修改程序的多个地方相比，这种修改的效率更高。\n",
    "\n",
    "这个程序还演示了这样一种理念，即每个函数都应只负责一项具体的工作。第一个函数打印每个设计，而第二个显示打印好的模型;这优于使用一个函数来完成两项工作。编写 函数时，如果你发现它执行的任务太多，请尝试将这些代码划分到两个函数中。别忘了，总是可以在一个函数中调用另一个函数，这有助于将复杂的任务划分成一系列的步骤。\n"
   ]
  },
  {
   "cell_type": "markdown",
   "metadata": {},
   "source": [
    "### 禁止函数修改列表\n",
    "有时候，需要禁止函数修改列表。例如，假设像前一个示例那样，你有一个未打印的设计列表，并编写了一个将这些设计移到打印好的模型列表中的函数。你可能会做出这样的 决定:即便打印所有设计后，也要保留原来的未打印的设计列表，以供备案。但由于你将所有的设计都移出了unprinted_designs ，这个列表变成了空的，原来的列表没有 了。为解决这个问题，可向函数传递列表的副本而不是原件;这样函数所做的任何修改都只影响副本，而丝毫不影响原件。\n",
    "\n",
    "要将列表的副本传递给函数，可以像下面这样做:\n",
    "```\n",
    "function_name(list_name[:])\n",
    "```\n",
    "切片表示法[:] 创建列表的副本。在print_models.py中，如果不想清空未打印的设计列表，可像下面这样调用print_models() :"
   ]
  },
  {
   "cell_type": "code",
   "execution_count": null,
   "metadata": {
    "ExecuteTime": {
     "end_time": "2020-06-29T16:09:56.051012Z",
     "start_time": "2020-06-29T16:09:56.044136Z"
    }
   },
   "outputs": [],
   "source": [
    "unprinted_designs = ['iphone case', 'robot pendant', 'dodecahedron']\n",
    "completed_models = []\n",
    "print_models(unprinted_designs[:], completed_models)\n",
    "show_completed_models(completed_models)\n",
    "print(unprinted_designs)"
   ]
  },
  {
   "cell_type": "markdown",
   "metadata": {},
   "source": [
    "这样函数print_models() 依然能够完成其工作，因为它获得了所有未打印的设计的名称，但它使用的是列表unprinted_designs 的副本，而不是列 表unprinted_designs 本身。像以前一样，列表completed_models 也将包含打印好的模型的名称，但函数所做的修改不会影响到列表unprinted_designs 。\n",
    "\n",
    "虽然向函数传递列表的副本可保留原始列表的内容，但除非有充分的理由需要传递副本，否则还是应该将原始列表传递给函数，因为让函数使用现成列表可避免花时间和内存创 建副本，从而提高效率，在处理大型列表时尤其如此。"
   ]
  },
  {
   "cell_type": "markdown",
   "metadata": {},
   "source": [
    "### 动手试一试\n",
    "1. 魔术师 :创建一个包含魔术师名字的列表，并将其传递给一个名为show_magicians() 的函数，这个函数打印列表中每个魔术师的名字。\n",
    "2. 了不起的魔术师 :在你为完成练习1而编写的程序中，编写一个名为make_great() 的函数，对魔术师列表进行修改，在每个魔术师的名字中都加入字样“the Great”。调用函数show_magicians() ，确认魔术师列表确实变了。\n",
    "3. 不变的魔术师 :修改你为完成练习2而编写的程序，在调用函数make_great() 时，向它传递魔术师列表的副本。由于不想修改原始列表，请返回修改后的 列表，并将其存储到另一个列表中。分别使用这两个列表来调用show_magicians() ，确认一个列表包含的是原来的魔术师名字，而另一个列表包含的是添加了字 样“the Great”的魔术师名字。"
   ]
  },
  {
   "cell_type": "markdown",
   "metadata": {},
   "source": [
    "## 传递任意数量的实参 \n",
    "有时候，你预先不知道函数需要接受多少个实参，好在Python允许函数从调用语句中收集任意数量的实参。\n",
    "\n",
    "例如，来看一个制作比萨的函数，它需要接受很多配料，但你无法预先确定顾客要多少种配料。下面的函数只有一个形参*toppings ，但不管调用语句提供了多少实参，这个 形参都将它们统统收入囊中:\n"
   ]
  },
  {
   "cell_type": "code",
   "execution_count": null,
   "metadata": {
    "ExecuteTime": {
     "end_time": "2020-06-29T16:12:19.315934Z",
     "start_time": "2020-06-29T16:12:19.309195Z"
    }
   },
   "outputs": [],
   "source": [
    "def make_pizza(*toppings):\n",
    "    \"\"\"打印顾客点的所有配料\"\"\"\n",
    "    print(toppings)\n",
    "\n",
    "\n",
    "make_pizza('pepperoni')\n",
    "make_pizza('mushrooms', 'green peppers', 'extra cheese')"
   ]
  },
  {
   "cell_type": "markdown",
   "metadata": {},
   "source": [
    "形参名*toppings 中的星号让Python创建一个名为toppings 的空元组，并将收到的所有值都封装到这个元组中。函数体内的print 语句通过生成输出来证明Python能够处理 使用一个值调用函数的情形，也能处理使用三个值来调用函数的情形。它以类似的方式处理不同的调用，注意，Python将实参封装到一个元组中，即便函数只收到一个值也如此:\n",
    "```\n",
    "('pepperoni',)\n",
    "('mushrooms', 'green peppers', 'extra cheese')\n",
    "```\n",
    "现在，我们可以将这条print 语句替换为一个循环，对配料列表进行遍历，并对顾客点的比萨进行描述:"
   ]
  },
  {
   "cell_type": "code",
   "execution_count": null,
   "metadata": {
    "ExecuteTime": {
     "end_time": "2020-06-29T16:13:47.668611Z",
     "start_time": "2020-06-29T16:13:47.661596Z"
    }
   },
   "outputs": [],
   "source": [
    "def make_pizza(*toppings):\n",
    "    \"\"\"概述要制作的比萨\"\"\"\n",
    "    print(\"\\nMaking a pizza with the following toppings:\")\n",
    "    for topping in toppings:\n",
    "        print(\"- \" + topping)\n",
    "\n",
    "\n",
    "make_pizza('pepperoni')\n",
    "make_pizza('mushrooms', 'green peppers', 'extra cheese')"
   ]
  },
  {
   "cell_type": "markdown",
   "metadata": {},
   "source": [
    "不管收到的是一个值还是三个值，这个函数都能妥善地处理:\n",
    "```\n",
    "Making a pizza with the following toppings:\n",
    "- pepperoni\n",
    "\n",
    "Making a pizza with the following toppings:\n",
    "- mushrooms\n",
    "- green peppers\n",
    "- extra cheese\n",
    "```\n",
    "不管函数收到的实参是多少个，这种语法都管用。"
   ]
  },
  {
   "cell_type": "markdown",
   "metadata": {},
   "source": [
    "### 结合使用位置实参和任意数量实参\n",
    "如果要让函数接受不同类型的实参，必须在函数定义中将接纳任意数量实参的形参放在最后。Python先匹配位置实参和关键字实参，再将余下的实参都收集到最后一个形参中。 \n",
    "\n",
    "例如，如果前面的函数还需要一个表示比萨尺寸的实参，必须将该形参放在形参*toppings 的前面:"
   ]
  },
  {
   "cell_type": "code",
   "execution_count": null,
   "metadata": {
    "ExecuteTime": {
     "end_time": "2020-06-29T16:15:35.158433Z",
     "start_time": "2020-06-29T16:15:35.151433Z"
    }
   },
   "outputs": [],
   "source": [
    "def make_pizza(size, *toppings):\n",
    "    \"\"\"概述要制作的比萨\"\"\"\n",
    "    print(\"\\nMaking a \" + str(size) +\n",
    "          \"-inch pizza with the following toppings:\")\n",
    "    for topping in toppings:\n",
    "        print(\"- \" + topping)\n",
    "\n",
    "\n",
    "make_pizza(16, 'pepperoni')\n",
    "make_pizza(12, 'mushrooms', 'green peppers', 'extra cheese')"
   ]
  },
  {
   "cell_type": "markdown",
   "metadata": {},
   "source": [
    "基于上述函数定义，Python将收到的第一个值存储在形参size 中，并将其他的所有值都存储在元组toppings 中。在函数调用中，首先指定表示比萨尺寸的实参，然后根据需要 指定任意数量的配料。\n",
    "\n",
    "现在，每个比萨都有了尺寸和一系列配料，这些信息按正确的顺序打印出来了——首先是尺寸，然后是配料:\n",
    "```\n",
    "Making a 16-inch pizza with the following toppings:\n",
    "- pepperoni\n",
    "\n",
    "Making a 12-inch pizza with the following toppings:\n",
    "- mushrooms\n",
    "- green peppers\n",
    "- extra cheese\n",
    "```\n"
   ]
  },
  {
   "cell_type": "markdown",
   "metadata": {},
   "source": [
    "### 使用任意数量的关键字实参\n",
    "有时候，需要接受任意数量的实参，但预先不知道传递给函数的会是什么样的信息。在这种情况下，可将函数编写成能够接受任意数量的键—值对——调用语句提供了多少就接 受多少。一个这样的示例是创建用户简介:你知道你将收到有关用户的信息，但不确定会是什么样的信息。在下面的示例中，函数build_profile() 接受名和姓，同时还接受 任意数量的关键字实参:"
   ]
  },
  {
   "cell_type": "code",
   "execution_count": null,
   "metadata": {
    "ExecuteTime": {
     "end_time": "2020-06-29T16:17:45.794592Z",
     "start_time": "2020-06-29T16:17:45.787151Z"
    }
   },
   "outputs": [],
   "source": [
    "def build_profile(first, last, **user_info):\n",
    "    \"\"\"创建一个字典，其中包含我们知道的有关用户的一切\"\"\"\n",
    "    profile = {}\n",
    "    profile['first_name'] = first  # ❶\n",
    "    profile['last_name'] = last\n",
    "    for key, value in user_info.items():  # ❷\n",
    "        profile[key] = value\n",
    "    return profile\n",
    "\n",
    "\n",
    "user_profile = build_profile('albert',\n",
    "                             'einstein',\n",
    "                             location='princeton',\n",
    "                             field='physics')\n",
    "print(user_profile)"
   ]
  },
  {
   "cell_type": "markdown",
   "metadata": {},
   "source": [
    "函数build_profile() 的定义要求提供名和姓，同时允许用户根据需要提供任意数量的名称—值对。形参`**user_info` 中的两个星号让Python创建一个名为user_info 的 空字典，并将收到的所有名称—值对都封装到这个字典中。在这个函数中，可以像访问其他字典那样访问user_info 中的名称—值对。\n",
    "在build_profile() 的函数体内，我们创建了一个名为profile 的空字典，用于存储用户简介。在❶处，我们将名和姓加入到这个字典中，因为我们总是会从用户那里收到 这两项信息。在❷处，我们遍历字典user_info 中的键—值对，并将每个键—值对都加入到字典profile 中。最后，我们将字典profile 返回给函数调用行。\n",
    "我们调用build_profile() ，向它传递名('albert' )、姓('einstein' )和两个键—值对(location='princeton' 和field='physics' )，并将返回 的profile 存储在变量user_profile 中，再打印这个变量:\n",
    "```\n",
    "{'first_name': 'albert', 'last_name': 'einstein', 'location': 'princeton', 'field': 'physics'}\n",
    "```\n",
    "在这里，返回的字典包含用户的名和姓，还有求学的地方和所学专业。调用这个函数时，不管额外提供了多少个键—值对，它都能正确地处理。\n",
    "\n",
    "编写函数时，你可以以各种方式混合使用位置实参、关键字实参和任意数量的实参。知道这些实参类型大有裨益，因为阅读别人编写的代码时经常会见到它们。要正确地使用这 些类型的实参并知道它们的使用时机，需要经过一定的练习。就目前而言，牢记使用最简单的方法来完成任务就好了。你继续往下阅读，就会知道在各种情况下哪种方法的效率是最高的。"
   ]
  },
  {
   "cell_type": "markdown",
   "metadata": {},
   "source": [
    "### 动手试一试\n",
    "1. 三明治 :编写一个函数，它接受顾客要在三明治中添加的一系列食材。这个函数只有一个形参(它收集函数调用中提供的所有食材)，并打印一条消息，对顾客 点的三明治进行概述。调用这个函数三次，每次都提供不同数量的实参。\n",
    "2. 用户简介 :复制前面的程序user_profile.py，在其中调用build_profile() 来创建有关你的简介;调用这个函数时，指定你的名和姓，以及三个描述你的键-值 对。\n",
    "3. 汽车 :编写一个函数，将一辆汽车的信息存储在一个字典中。这个函数总是接受制造商和型号，还接受任意数量的关键字实参。这样调用这个函数:提供必不可 少的信息，以及两个名称—值对，如颜色和选装配件。这个函数必须能够像下面这样进行调用:\n",
    "```\n",
    "car = make_car('subaru', 'outback', color='blue', tow_package=True)\n",
    "```\n",
    "打印返回的字典，确认正确地处理了所有的信息。"
   ]
  },
  {
   "cell_type": "markdown",
   "metadata": {},
   "source": [
    "## 将函数存储在模块中 \n",
    "函数的优点之一是，使用它们可将代码块与主程序分离。通过给函数指定描述性名称，可让主程序容易理解得多。你还可以更进一步，将函数存储在被称为模块 的独立文件中，再将模块导入 到主程序中。import 语句允许在当前运行的程序文件中使用模块中的代码。 \n",
    "\n",
    "通过将函数存储在独立的文件中，可隐藏程序代码的细节，将重点放在程序的高层逻辑上。这还能让你在众多不同的程序中重用函数。将函数存储在独立文件中后，可与其他程序员共享这些文件而不是整个程序。知道如何导入函数还能让你使用其他程序员编写的函数库。\n",
    "\n",
    "导入模块的方法有多种，下面对每种都作简要的介绍。"
   ]
  },
  {
   "cell_type": "markdown",
   "metadata": {},
   "source": [
    "### 导入整个模块\n",
    "要让函数是可导入的，得先创建模块。模块 是扩展名为.py的文件，包含要导入到程序中的代码。下面来创建一个包含函数make_pizza() 的模块。为此，我们将文件pizza.py中 除函数make_pizza() 之外的其他代码都删除:"
   ]
  },
  {
   "cell_type": "code",
   "execution_count": null,
   "metadata": {
    "ExecuteTime": {
     "end_time": "2020-06-29T16:42:17.970511Z",
     "start_time": "2020-06-29T16:42:17.962629Z"
    }
   },
   "outputs": [],
   "source": [
    "%%writefile pizza.py\n",
    "# %%writefile表示魔术方法写入文件\n",
    "\n",
    "def make_pizza(size, *toppings):\n",
    "    \"\"\"概述要制作的比萨\"\"\"\n",
    "    print(\"\\nMaking a \" + str(size) +\n",
    "          \"-inch pizza with the following toppings:\")\n",
    "    for topping in toppings:\n",
    "        print(\"- \" + topping)"
   ]
  },
  {
   "cell_type": "markdown",
   "metadata": {},
   "source": [
    "接下来，我们在pizza.py所在的目录中创建另一个名为making_pizzas.py的文件，这个文件导入刚创建的模块，再调用make_pizza() 两次:"
   ]
  },
  {
   "cell_type": "code",
   "execution_count": null,
   "metadata": {
    "ExecuteTime": {
     "end_time": "2020-06-29T16:43:48.493926Z",
     "start_time": "2020-06-29T16:43:48.484558Z"
    }
   },
   "outputs": [],
   "source": [
    "import pizza\n",
    "pizza.make_pizza(16, 'pepperoni')  # ❶\n",
    "pizza.make_pizza(12, 'mushrooms', 'green peppers', 'extra cheese')"
   ]
  },
  {
   "cell_type": "markdown",
   "metadata": {},
   "source": [
    "Python读取这个文件时，代码行import pizza让Python打开文件pizza.py，并将其中的所有函数都复制到这个程序中。你看不到复制的代码，因为这个程序运行时，Python在幕 后复制这些代码。你只需知道，在making_pizzas.py中，可以使用pizza.py中定义的所有函数。\n",
    "\n",
    "要调用被导入的模块中的函数，可指定导入的模块的名称pizza 和函数名make_pizza() ，并用句点分隔它们(见❶)。这些代码的输出与没有导入模块的原始程序相同:\n",
    "```\n",
    "Making a 16-inch pizza with the following toppings:\n",
    "- pepperoni\n",
    "\n",
    "Making a 12-inch pizza with the following toppings:\n",
    "- mushrooms\n",
    "- green peppers\n",
    "- extra cheese\n",
    "```\n",
    "这就是一种导入方法:只需编写一条import 语句并在其中指定模块名，就可在程序中使用该模块中的所有函数。如果你使用这种import 语句导入了名为module_name.py 的整个模块，就可使用下面的语法来使用其中任何一个函数:\n",
    "```\n",
    "module_name.function_name()\n",
    "```"
   ]
  },
  {
   "cell_type": "markdown",
   "metadata": {},
   "source": [
    "### 导入特定的函数 \n",
    "你还可以导入模块中的特定函数，这种导入方法的语法如下:\n",
    "```\n",
    "from module_name import function_name\n",
    "```\n",
    "通过用逗号分隔函数名，可根据需要从模块中导入任意数量的函数:\n",
    "```\n",
    "from module_name import function_0, function_1, function_2\n",
    "```\n",
    "对于前面的making_pizzas.py示例，如果只想导入要使用的函数，代码将类似于下面这样:"
   ]
  },
  {
   "cell_type": "code",
   "execution_count": null,
   "metadata": {
    "ExecuteTime": {
     "end_time": "2020-06-29T16:46:48.324841Z",
     "start_time": "2020-06-29T16:46:48.318758Z"
    }
   },
   "outputs": [],
   "source": [
    "from pizza import make_pizza\n",
    "make_pizza(16, 'pepperoni')\n",
    "make_pizza(12, 'mushrooms', 'green peppers', 'extra cheese')"
   ]
  },
  {
   "cell_type": "markdown",
   "metadata": {},
   "source": [
    "若使用这种语法，调用函数时就无需使用句点。由于我们在import 语句中显式地导入了函数make_pizza() ，因此调用它时只需指定其名称。"
   ]
  },
  {
   "cell_type": "markdown",
   "metadata": {},
   "source": [
    "### 使用as 给函数指定别名\n",
    "如果要导入的函数的名称可能与程序中现有的名称冲突，或者函数的名称太长，可指定简短而独一无二的别名 ——函数的另一个名称，类似于外号。要给函数指定这种特殊外 号，需要在导入它时这样做。\n",
    "\n",
    "下面给函数make_pizza()指定了别名mp()。这是在import语句中使用make_pizza as mp实现的，关键字as将函数重命名为你提供的别名:"
   ]
  },
  {
   "cell_type": "code",
   "execution_count": null,
   "metadata": {
    "ExecuteTime": {
     "end_time": "2020-06-29T16:47:42.536565Z",
     "start_time": "2020-06-29T16:47:42.530170Z"
    }
   },
   "outputs": [],
   "source": [
    "from pizza import make_pizza as mp\n",
    "mp(16, 'pepperoni')\n",
    "mp(12, 'mushrooms', 'green peppers', 'extra cheese')"
   ]
  },
  {
   "cell_type": "markdown",
   "metadata": {},
   "source": [
    "上面的import 语句将函数make_pizza() 重命名为mp() ;在这个程序中，每当需要调用make_pizza() 时，都可简写成mp() ，而Python将运行make_pizza() 中的代 码，这可避免与这个程序可能包含的函数make_pizza() 混淆。\n",
    "\n",
    "指定别名的通用语法如下:\n",
    "```\n",
    "from module_name import function_name as fn\n",
    "```\n"
   ]
  },
  {
   "cell_type": "markdown",
   "metadata": {},
   "source": [
    "### 使用as 给模块指定别名\n",
    "你还可以给模块指定别名。通过给模块指定简短的别名(如给模块pizza 指定别名p )，让你能够更轻松地调用模块中的函数。相比于pizza.make_pizza()，p.make_pizza() 更为简洁:"
   ]
  },
  {
   "cell_type": "code",
   "execution_count": null,
   "metadata": {
    "ExecuteTime": {
     "end_time": "2020-06-29T16:48:56.446469Z",
     "start_time": "2020-06-29T16:48:56.439400Z"
    }
   },
   "outputs": [],
   "source": [
    "import pizza as p\n",
    "p.make_pizza(16, 'pepperoni')\n",
    "p.make_pizza(12, 'mushrooms', 'green peppers', 'extra cheese')"
   ]
  },
  {
   "cell_type": "markdown",
   "metadata": {},
   "source": [
    "上述import 语句给模块pizza 指定了别名p ，但该模块中所有函数的名称都没变。调用函数make_pizza() 时，可编写代码p.make_pizza() 而不 是pizza.make_pizza() ，这样不仅能使代码更简洁，还可以让你不再关注模块名，而专注于描述性的函数名。这些函数名明确地指出了函数的功能，对理解代码而言，它们比模块名更重要。\n",
    "\n",
    "给模块指定别名的通用语法如下:\n",
    "```\n",
    "import module_name as mn\n",
    "```"
   ]
  },
  {
   "cell_type": "markdown",
   "metadata": {},
   "source": [
    "### 导入模块中的所有函数\n",
    "使用星号(* )运算符可让Python导入模块中的所有函数:"
   ]
  },
  {
   "cell_type": "code",
   "execution_count": null,
   "metadata": {
    "ExecuteTime": {
     "end_time": "2020-06-29T16:50:36.728285Z",
     "start_time": "2020-06-29T16:50:36.722241Z"
    }
   },
   "outputs": [],
   "source": [
    "from pizza import *\n",
    "make_pizza(16, 'pepperoni')\n",
    "make_pizza(12, 'mushrooms', 'green peppers', 'extra cheese')"
   ]
  },
  {
   "cell_type": "markdown",
   "metadata": {},
   "source": [
    "import 语句中的星号让Python将模块pizza 中的每个函数都复制到这个程序文件中。由于导入了每个函数，可通过名称来调用每个函数，而无需使用句点表示法。然而，使用 并非自己编写的大型模块时，最好不要采用这种导入方法:如果模块中有函数的名称与你的项目中使用的名称相同，可能导致意想不到的结果:Python可能遇到多个名称相同的函 数或变量，进而覆盖函数，而不是分别导入所有的函数。\n",
    "\n",
    "最佳的做法是，要么只导入你需要使用的函数，要么导入整个模块并使用句点表示法。这能让代码更清晰，更容易阅读和理解。这里之所以介绍这种导入方法，只是想让你在阅读别人编写的代码时，如果遇到类似于下面的import 语句，能够理解它们:\n",
    "```\n",
    "from module_name import *\n",
    "```"
   ]
  },
  {
   "cell_type": "markdown",
   "metadata": {},
   "source": [
    "## 函数编写指南\n",
    "编写函数时，需要牢记几个细节。应给函数指定描述性名称，且只在其中使用小写字母和下划线。描述性名称可帮助你和别人明白代码想要做什么。给模块命名时也应遵循上述约定。\n",
    "\n",
    "每个函数都应包含简要地阐述其功能的注释，该注释应紧跟在函数定义后面，并采用文档字符串格式。文档良好的函数让其他程序员只需阅读文档字符串中的描述就能够使用 它:他们完全可以相信代码如描述的那样运行;只要知道函数的名称、需要的实参以及返回值的类型，就能在自己的程序中使用它。\n",
    "\n",
    "给形参指定默认值时，等号两边不要有空格:\n",
    "```\n",
    "def function_name(parameter_0, parameter_1='default value')\n",
    "```\n",
    "对于函数调用中的关键字实参，也应遵循这种约定:\n",
    "```\n",
    "function_name(value_0, parameter_1='value')\n",
    "```\n",
    "PEP 8(https://www.python.org/dev/peps/pep-0008/ )建议代码行的长度不要超过79字符，这样只要编辑器窗口适中，就能看到整行代码。如果形参很多，导致函数定义的长度超过了 79字符，可在函数定义中输入左括号后按回车键，并在下一行按两次Tab键，从而将形参列表和只缩进一层的函数体区分开来。\n",
    "\n",
    "大多数编辑器都会自动对齐后续参数列表行，使其缩进程度与你给第一个参数列表行指定的缩进程度相同:\n",
    "```\n",
    "def function_name(\n",
    "        parameter_0, parameter_1, parameter_2, parameter_3, parameter_4, parameter_5):\n",
    "    function body...\n",
    "```\n",
    "如果程序或模块包含多个函数，可使用两个空行将相邻的函数分开，这样将更容易知道前一个函数在什么地方结束，下一个函数从什么地方开始。 \n",
    "\n",
    "所有的import 语句都应放在文件开头，唯一例外的情形是，在文件开头使用了注释来描述整个程序。"
   ]
  },
  {
   "cell_type": "markdown",
   "metadata": {},
   "source": [
    "### 动手试一试\n",
    "1. 打印模型 :将示例print_models.py中的函数放在另一个名为printing_functions.py的文件中;在print_models.py的开头编写一条import 语句，并修改这个文件以使用导 入的函数。\n",
    "2. 导入 :选择一个你编写的且只包含一个函数的程序，并将这个函数放在另一个文件中。在主程序文件中，使用下述各种方法导入这个函数，再调用它:\n",
    "```\n",
    "import module_name\n",
    "from module_name import function_name\n",
    "from module_name import function_name as fn import module_name as mn\n",
    "from module_name import *\n",
    "```\n",
    "3. 函数编写指南 :选择你在本章中编写的三个程序，确保它们遵循了本节介绍的函数编写指南。"
   ]
  },
  {
   "cell_type": "code",
   "execution_count": null,
   "metadata": {},
   "outputs": [],
   "source": []
  }
 ],
 "metadata": {
  "kernelspec": {
   "display_name": "Python 3",
   "language": "python",
   "name": "python3"
  },
  "language_info": {
   "codemirror_mode": {
    "name": "ipython",
    "version": 3
   },
   "file_extension": ".py",
   "mimetype": "text/x-python",
   "name": "python",
   "nbconvert_exporter": "python",
   "pygments_lexer": "ipython3",
   "version": "3.7.3"
  },
  "toc": {
   "base_numbering": 1,
   "nav_menu": {},
   "number_sections": true,
   "sideBar": true,
   "skip_h1_title": false,
   "title_cell": "目录",
   "title_sidebar": "目录",
   "toc_cell": true,
   "toc_position": {},
   "toc_section_display": true,
   "toc_window_display": false
  },
  "varInspector": {
   "cols": {
    "lenName": 16,
    "lenType": 16,
    "lenVar": 40
   },
   "kernels_config": {
    "python": {
     "delete_cmd_postfix": "",
     "delete_cmd_prefix": "del ",
     "library": "var_list.py",
     "varRefreshCmd": "print(var_dic_list())"
    },
    "r": {
     "delete_cmd_postfix": ") ",
     "delete_cmd_prefix": "rm(",
     "library": "var_list.r",
     "varRefreshCmd": "cat(var_dic_list()) "
    }
   },
   "types_to_exclude": [
    "module",
    "function",
    "builtin_function_or_method",
    "instance",
    "_Feature"
   ],
   "window_display": false
  }
 },
 "nbformat": 4,
 "nbformat_minor": 4
}
